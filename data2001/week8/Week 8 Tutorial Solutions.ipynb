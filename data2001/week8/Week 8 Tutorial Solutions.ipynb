{
 "cells": [
  {
   "cell_type": "code",
   "execution_count": 1,
   "id": "8e316d81",
   "metadata": {},
   "outputs": [
    {
     "data": {
      "text/html": [
       "\n",
       "    <style> body {font-family: \"Roboto Condensed Light\", \"Roboto Condensed\";} h2 {padding: 10px 12px; background-color: #E64626; position: static; color: #ffffff; font-size: 40px;} .text_cell_render p { font-size: 15px; } .text_cell_render h1 { font-size: 30px; } h1 {padding: 10px 12px; background-color: #E64626; color: #ffffff; font-size: 40px;} .text_cell_render h3 { padding: 10px 12px; background-color: #0148A4; position: static; color: #ffffff; font-size: 20px;} h4:before{ \n",
       "    content: \"@\"; font-family:\"Wingdings\"; font-style:regular; margin-right: 4px;} .text_cell_render h4 {padding: 8px; font-family: \"Roboto Condensed Light\"; position: static; font-style: italic; background-color: #FFB800; color: #ffffff; font-size: 18px; text-align: center; border-radius: 5px;}input[type=submit] {background-color: #E64626; border: solid; border-color: #734036; color: white; padding: 8px 16px; text-decoration: none; margin: 4px 2px; cursor: pointer; border-radius: 20px;}</style>\n"
      ],
      "text/plain": [
       "<IPython.core.display.HTML object>"
      ]
     },
     "execution_count": 1,
     "metadata": {},
     "output_type": "execute_result"
    }
   ],
   "source": [
    "# DATA2001 Week 8 Tutorial\n",
    "# Material last updated: 15 Apr 2025\n",
    "# Note: this notebook was designed with the Roboto Condensed font, which can be installed here: https://www.1001fonts.com/roboto-condensed-font.html\n",
    "\n",
    "from IPython.display import HTML\n",
    "HTML('''\n",
    "    <style> body {font-family: \"Roboto Condensed Light\", \"Roboto Condensed\";} h2 {padding: 10px 12px; background-color: #E64626; position: static; color: #ffffff; font-size: 40px;} .text_cell_render p { font-size: 15px; } .text_cell_render h1 { font-size: 30px; } h1 {padding: 10px 12px; background-color: #E64626; color: #ffffff; font-size: 40px;} .text_cell_render h3 { padding: 10px 12px; background-color: #0148A4; position: static; color: #ffffff; font-size: 20px;} h4:before{ \n",
    "    content: \"@\"; font-family:\"Wingdings\"; font-style:regular; margin-right: 4px;} .text_cell_render h4 {padding: 8px; font-family: \"Roboto Condensed Light\"; position: static; font-style: italic; background-color: #FFB800; color: #ffffff; font-size: 18px; text-align: center; border-radius: 5px;}input[type=submit] {background-color: #E64626; border: solid; border-color: #734036; color: white; padding: 8px 16px; text-decoration: none; margin: 4px 2px; cursor: pointer; border-radius: 20px;}</style>\n",
    "''')"
   ]
  },
  {
   "cell_type": "markdown",
   "id": "665b2ac9",
   "metadata": {},
   "source": [
    "# Week 8 - Spatial Data"
   ]
  },
  {
   "cell_type": "markdown",
   "id": "0a7d6d55",
   "metadata": {},
   "source": [
    "This week's tutorial extends beyond the world of simple data types and into the realm of **geo-spatial data**. Today we'll be covering the basic types, how to ingest it from different sources (shape files, geoJSON, web APIs) and then querying it in PostGIS - a spatial database extension for PostgreSQL."
   ]
  },
  {
   "cell_type": "markdown",
   "id": "98082bb2",
   "metadata": {},
   "source": [
    "## 1. Introduction to Spatial Data"
   ]
  },
  {
   "cell_type": "markdown",
   "id": "1163f76f",
   "metadata": {},
   "source": [
    "While geospatial data can exist in many forms (e.g. just 'latitude' and 'longitude' fields technically constitute spatial information), the **shapefile** is the most common data format for geographic information. It is a complex format, often involving multiple files. We've provided a simple \"world\" shapefile containing basic shapes of most international countries, which contains the following files:\n",
    "\n",
    "| file | purpose |\n",
    "| :--- | :--- |\n",
    "| world.shp | the feature geometry itself |\n",
    "| world.shx | positional indexes to speed things up |\n",
    "| world.dbf | the other attributes |\n",
    "\n",
    "These are just some of many other files that together can comprise a shapefile - see the [wiki](https://en.wikipedia.org/wiki/Shapefile) for more information."
   ]
  },
  {
   "cell_type": "markdown",
   "id": "657dd4fa",
   "metadata": {},
   "source": [
    "### 1.1 Shapefiles and Polygons"
   ]
  },
  {
   "cell_type": "markdown",
   "id": "2a0a4016",
   "metadata": {},
   "source": [
    "Firstly, we'll have to leverage a couple new packages.\n",
    "- Pandas has an extension named **GeoPandas**, intended for querying spatial data\n",
    "- **Shapely** is a crucial package for interpreting and manipulating geometries\n",
    "- **Geoalchemy** is a support library for SQLAlchemy (which we've used before), allowing spatial databases\n",
    "\n",
    "Install these as per usual in your command line window (e.g. `pip3 install geopandas`)."
   ]
  },
  {
   "cell_type": "code",
   "execution_count": 2,
   "id": "ce65e434",
   "metadata": {},
   "outputs": [],
   "source": [
    "import pandas as pd\n",
    "import geopandas as gpd\n",
    "from shapely.geometry import Point, Polygon, MultiPolygon\n",
    "from geoalchemy2 import Geometry, WKTElement\n",
    "import matplotlib.pyplot as plt"
   ]
  },
  {
   "cell_type": "markdown",
   "id": "424b039a",
   "metadata": {},
   "source": [
    "Loading in the shapefile is quite simple when done through GeoPandas, working much like Pandas reads in CSVs.\n",
    "\n",
    "Note the cell below assumes the `data.zip` has been downloaded from Canvas, and unpacked in the same directory as this notebook (i.e. there exists a 'data' folder containing the shapefile folders).\n",
    "\n",
    "Note that the types in the geometry column are **polygons** and **multipolygons**. These reference full shapes - other simpler spatial data types include lines, points, etc. See the [ArcGIS docs](https://help.arcgis.com/en/geodatabase/10.0/sdk/arcsde/concepts/geometry/shapes/types.htm) for more."
   ]
  },
  {
   "cell_type": "code",
   "execution_count": 3,
   "id": "8cdb49f0",
   "metadata": {},
   "outputs": [
    {
     "data": {
      "text/html": [
       "<div>\n",
       "<style scoped>\n",
       "    .dataframe tbody tr th:only-of-type {\n",
       "        vertical-align: middle;\n",
       "    }\n",
       "\n",
       "    .dataframe tbody tr th {\n",
       "        vertical-align: top;\n",
       "    }\n",
       "\n",
       "    .dataframe thead th {\n",
       "        text-align: right;\n",
       "    }\n",
       "</style>\n",
       "<table border=\"1\" class=\"dataframe\">\n",
       "  <thead>\n",
       "    <tr style=\"text-align: right;\">\n",
       "      <th></th>\n",
       "      <th>pop_est</th>\n",
       "      <th>continent</th>\n",
       "      <th>name</th>\n",
       "      <th>iso_a3</th>\n",
       "      <th>gdp_md_est</th>\n",
       "      <th>geometry</th>\n",
       "    </tr>\n",
       "  </thead>\n",
       "  <tbody>\n",
       "    <tr>\n",
       "      <th>0</th>\n",
       "      <td>28400000.0</td>\n",
       "      <td>Asia</td>\n",
       "      <td>Afghanistan</td>\n",
       "      <td>AFG</td>\n",
       "      <td>22270.0</td>\n",
       "      <td>POLYGON ((61.21082 35.65007, 62.23065 35.27066...</td>\n",
       "    </tr>\n",
       "    <tr>\n",
       "      <th>1</th>\n",
       "      <td>12799293.0</td>\n",
       "      <td>Africa</td>\n",
       "      <td>Angola</td>\n",
       "      <td>AGO</td>\n",
       "      <td>110300.0</td>\n",
       "      <td>MULTIPOLYGON (((16.32653 -5.87747, 16.57318 -6...</td>\n",
       "    </tr>\n",
       "    <tr>\n",
       "      <th>2</th>\n",
       "      <td>3639453.0</td>\n",
       "      <td>Europe</td>\n",
       "      <td>Albania</td>\n",
       "      <td>ALB</td>\n",
       "      <td>21810.0</td>\n",
       "      <td>POLYGON ((20.59025 41.85540, 20.46318 41.51509...</td>\n",
       "    </tr>\n",
       "    <tr>\n",
       "      <th>3</th>\n",
       "      <td>4798491.0</td>\n",
       "      <td>Asia</td>\n",
       "      <td>United Arab Emirates</td>\n",
       "      <td>ARE</td>\n",
       "      <td>184300.0</td>\n",
       "      <td>POLYGON ((51.57952 24.24550, 51.75744 24.29407...</td>\n",
       "    </tr>\n",
       "    <tr>\n",
       "      <th>4</th>\n",
       "      <td>40913584.0</td>\n",
       "      <td>South America</td>\n",
       "      <td>Argentina</td>\n",
       "      <td>ARG</td>\n",
       "      <td>573900.0</td>\n",
       "      <td>MULTIPOLYGON (((-65.50000 -55.20000, -66.45000...</td>\n",
       "    </tr>\n",
       "    <tr>\n",
       "      <th>...</th>\n",
       "      <td>...</td>\n",
       "      <td>...</td>\n",
       "      <td>...</td>\n",
       "      <td>...</td>\n",
       "      <td>...</td>\n",
       "      <td>...</td>\n",
       "    </tr>\n",
       "    <tr>\n",
       "      <th>172</th>\n",
       "      <td>218519.0</td>\n",
       "      <td>Oceania</td>\n",
       "      <td>Vanuatu</td>\n",
       "      <td>VUT</td>\n",
       "      <td>988.5</td>\n",
       "      <td>MULTIPOLYGON (((167.84488 -16.46633, 167.51518...</td>\n",
       "    </tr>\n",
       "    <tr>\n",
       "      <th>173</th>\n",
       "      <td>23822783.0</td>\n",
       "      <td>Asia</td>\n",
       "      <td>Yemen</td>\n",
       "      <td>YEM</td>\n",
       "      <td>55280.0</td>\n",
       "      <td>POLYGON ((53.10857 16.65105, 52.38521 16.38241...</td>\n",
       "    </tr>\n",
       "    <tr>\n",
       "      <th>174</th>\n",
       "      <td>49052489.0</td>\n",
       "      <td>Africa</td>\n",
       "      <td>South Africa</td>\n",
       "      <td>ZAF</td>\n",
       "      <td>491000.0</td>\n",
       "      <td>POLYGON ((31.52100 -29.25739, 31.32556 -29.401...</td>\n",
       "    </tr>\n",
       "    <tr>\n",
       "      <th>175</th>\n",
       "      <td>11862740.0</td>\n",
       "      <td>Africa</td>\n",
       "      <td>Zambia</td>\n",
       "      <td>ZMB</td>\n",
       "      <td>17500.0</td>\n",
       "      <td>POLYGON ((32.75938 -9.23060, 33.23139 -9.67672...</td>\n",
       "    </tr>\n",
       "    <tr>\n",
       "      <th>176</th>\n",
       "      <td>12619600.0</td>\n",
       "      <td>Africa</td>\n",
       "      <td>Zimbabwe</td>\n",
       "      <td>ZWE</td>\n",
       "      <td>9323.0</td>\n",
       "      <td>POLYGON ((31.19141 -22.25151, 30.65987 -22.151...</td>\n",
       "    </tr>\n",
       "  </tbody>\n",
       "</table>\n",
       "<p>177 rows × 6 columns</p>\n",
       "</div>"
      ],
      "text/plain": [
       "        pop_est      continent                  name iso_a3  gdp_md_est  \\\n",
       "0    28400000.0           Asia           Afghanistan    AFG     22270.0   \n",
       "1    12799293.0         Africa                Angola    AGO    110300.0   \n",
       "2     3639453.0         Europe               Albania    ALB     21810.0   \n",
       "3     4798491.0           Asia  United Arab Emirates    ARE    184300.0   \n",
       "4    40913584.0  South America             Argentina    ARG    573900.0   \n",
       "..          ...            ...                   ...    ...         ...   \n",
       "172    218519.0        Oceania               Vanuatu    VUT       988.5   \n",
       "173  23822783.0           Asia                 Yemen    YEM     55280.0   \n",
       "174  49052489.0         Africa          South Africa    ZAF    491000.0   \n",
       "175  11862740.0         Africa                Zambia    ZMB     17500.0   \n",
       "176  12619600.0         Africa              Zimbabwe    ZWE      9323.0   \n",
       "\n",
       "                                              geometry  \n",
       "0    POLYGON ((61.21082 35.65007, 62.23065 35.27066...  \n",
       "1    MULTIPOLYGON (((16.32653 -5.87747, 16.57318 -6...  \n",
       "2    POLYGON ((20.59025 41.85540, 20.46318 41.51509...  \n",
       "3    POLYGON ((51.57952 24.24550, 51.75744 24.29407...  \n",
       "4    MULTIPOLYGON (((-65.50000 -55.20000, -66.45000...  \n",
       "..                                                 ...  \n",
       "172  MULTIPOLYGON (((167.84488 -16.46633, 167.51518...  \n",
       "173  POLYGON ((53.10857 16.65105, 52.38521 16.38241...  \n",
       "174  POLYGON ((31.52100 -29.25739, 31.32556 -29.401...  \n",
       "175  POLYGON ((32.75938 -9.23060, 33.23139 -9.67672...  \n",
       "176  POLYGON ((31.19141 -22.25151, 30.65987 -22.151...  \n",
       "\n",
       "[177 rows x 6 columns]"
      ]
     },
     "execution_count": 3,
     "metadata": {},
     "output_type": "execute_result"
    }
   ],
   "source": [
    "countries = gpd.read_file(\"world/world.shp\")\n",
    "countries"
   ]
  },
  {
   "cell_type": "markdown",
   "id": "bff9f018",
   "metadata": {},
   "source": [
    "#### How many countries are there?"
   ]
  },
  {
   "cell_type": "markdown",
   "id": "19767561",
   "metadata": {},
   "source": [
    "A dataset like this is the perfect segue to a data quality discussion, and the semantics of definitions. While some countries are clearly missing, what would be considered a **complete** dataframe here? For those interested, [this video](https://www.youtube.com/watch?v=4AivEQmfPpk) unpacks how difficult it is to answer the true number of countries (the most wholesome example is probably Kosovo, who aren't universally recognised as an independent country, and have a [website](https://www.kosovothanksyou.com/) to thank those who consider it a legitimate state!)"
   ]
  },
  {
   "cell_type": "markdown",
   "id": "e558d6e3",
   "metadata": {},
   "source": [
    "### 1.2 Geopandas Transformations"
   ]
  },
  {
   "cell_type": "markdown",
   "id": "bf2adc15",
   "metadata": {},
   "source": [
    "Another dataset provided on Canvas contains capital cities across the world, provided by [SimpleMaps](https://simplemaps.com/data/world-cities). This is a simple CSV, containing the latitude and longitude coordinates of each city, as well as a population estimate, and the type of capital it is."
   ]
  },
  {
   "cell_type": "code",
   "execution_count": 4,
   "id": "7d106240",
   "metadata": {},
   "outputs": [
    {
     "data": {
      "text/html": [
       "<div>\n",
       "<style scoped>\n",
       "    .dataframe tbody tr th:only-of-type {\n",
       "        vertical-align: middle;\n",
       "    }\n",
       "\n",
       "    .dataframe tbody tr th {\n",
       "        vertical-align: top;\n",
       "    }\n",
       "\n",
       "    .dataframe thead th {\n",
       "        text-align: right;\n",
       "    }\n",
       "</style>\n",
       "<table border=\"1\" class=\"dataframe\">\n",
       "  <thead>\n",
       "    <tr style=\"text-align: right;\">\n",
       "      <th></th>\n",
       "      <th>city</th>\n",
       "      <th>lat</th>\n",
       "      <th>lng</th>\n",
       "      <th>population</th>\n",
       "      <th>capital</th>\n",
       "    </tr>\n",
       "  </thead>\n",
       "  <tbody>\n",
       "    <tr>\n",
       "      <th>0</th>\n",
       "      <td>Tokyo</td>\n",
       "      <td>35.6839</td>\n",
       "      <td>139.7744</td>\n",
       "      <td>39105000.0</td>\n",
       "      <td>primary</td>\n",
       "    </tr>\n",
       "    <tr>\n",
       "      <th>1</th>\n",
       "      <td>Jakarta</td>\n",
       "      <td>-6.2146</td>\n",
       "      <td>106.8451</td>\n",
       "      <td>35362000.0</td>\n",
       "      <td>primary</td>\n",
       "    </tr>\n",
       "    <tr>\n",
       "      <th>2</th>\n",
       "      <td>Delhi</td>\n",
       "      <td>28.6667</td>\n",
       "      <td>77.2167</td>\n",
       "      <td>31870000.0</td>\n",
       "      <td>admin</td>\n",
       "    </tr>\n",
       "    <tr>\n",
       "      <th>3</th>\n",
       "      <td>Manila</td>\n",
       "      <td>14.6000</td>\n",
       "      <td>120.9833</td>\n",
       "      <td>23971000.0</td>\n",
       "      <td>primary</td>\n",
       "    </tr>\n",
       "    <tr>\n",
       "      <th>4</th>\n",
       "      <td>Sao Paulo</td>\n",
       "      <td>-23.5504</td>\n",
       "      <td>-46.6339</td>\n",
       "      <td>22495000.0</td>\n",
       "      <td>admin</td>\n",
       "    </tr>\n",
       "    <tr>\n",
       "      <th>...</th>\n",
       "      <td>...</td>\n",
       "      <td>...</td>\n",
       "      <td>...</td>\n",
       "      <td>...</td>\n",
       "      <td>...</td>\n",
       "    </tr>\n",
       "    <tr>\n",
       "      <th>9807</th>\n",
       "      <td>Greytown</td>\n",
       "      <td>10.9167</td>\n",
       "      <td>-83.7000</td>\n",
       "      <td>275.0</td>\n",
       "      <td>minor</td>\n",
       "    </tr>\n",
       "    <tr>\n",
       "      <th>9808</th>\n",
       "      <td>La Esmeralda</td>\n",
       "      <td>3.1738</td>\n",
       "      <td>-65.5466</td>\n",
       "      <td>150.0</td>\n",
       "      <td>minor</td>\n",
       "    </tr>\n",
       "    <tr>\n",
       "      <th>9809</th>\n",
       "      <td>Hodrogo</td>\n",
       "      <td>48.9664</td>\n",
       "      <td>96.7833</td>\n",
       "      <td>10.0</td>\n",
       "      <td>minor</td>\n",
       "    </tr>\n",
       "    <tr>\n",
       "      <th>9810</th>\n",
       "      <td>Charlotte Amalie</td>\n",
       "      <td>18.3419</td>\n",
       "      <td>-64.9332</td>\n",
       "      <td>NaN</td>\n",
       "      <td>primary</td>\n",
       "    </tr>\n",
       "    <tr>\n",
       "      <th>9811</th>\n",
       "      <td>Iqaluit</td>\n",
       "      <td>63.7598</td>\n",
       "      <td>-68.5107</td>\n",
       "      <td>7740.0</td>\n",
       "      <td>admin</td>\n",
       "    </tr>\n",
       "  </tbody>\n",
       "</table>\n",
       "<p>9812 rows × 5 columns</p>\n",
       "</div>"
      ],
      "text/plain": [
       "                  city      lat       lng  population  capital\n",
       "0                Tokyo  35.6839  139.7744  39105000.0  primary\n",
       "1              Jakarta  -6.2146  106.8451  35362000.0  primary\n",
       "2                Delhi  28.6667   77.2167  31870000.0    admin\n",
       "3               Manila  14.6000  120.9833  23971000.0  primary\n",
       "4            Sao Paulo -23.5504  -46.6339  22495000.0    admin\n",
       "...                ...      ...       ...         ...      ...\n",
       "9807          Greytown  10.9167  -83.7000       275.0    minor\n",
       "9808      La Esmeralda   3.1738  -65.5466       150.0    minor\n",
       "9809           Hodrogo  48.9664   96.7833        10.0    minor\n",
       "9810  Charlotte Amalie  18.3419  -64.9332         NaN  primary\n",
       "9811           Iqaluit  63.7598  -68.5107      7740.0    admin\n",
       "\n",
       "[9812 rows x 5 columns]"
      ]
     },
     "execution_count": 4,
     "metadata": {},
     "output_type": "execute_result"
    }
   ],
   "source": [
    "cities = pd.read_csv('Capitals.csv')\n",
    "cities"
   ]
  },
  {
   "cell_type": "markdown",
   "id": "b612881f",
   "metadata": {},
   "source": [
    "We can leverage GeoPandas' `.points_from_xy()` function to properly store a geographical point."
   ]
  },
  {
   "cell_type": "code",
   "execution_count": 5,
   "id": "af972d13",
   "metadata": {},
   "outputs": [
    {
     "data": {
      "text/html": [
       "<div>\n",
       "<style scoped>\n",
       "    .dataframe tbody tr th:only-of-type {\n",
       "        vertical-align: middle;\n",
       "    }\n",
       "\n",
       "    .dataframe tbody tr th {\n",
       "        vertical-align: top;\n",
       "    }\n",
       "\n",
       "    .dataframe thead th {\n",
       "        text-align: right;\n",
       "    }\n",
       "</style>\n",
       "<table border=\"1\" class=\"dataframe\">\n",
       "  <thead>\n",
       "    <tr style=\"text-align: right;\">\n",
       "      <th></th>\n",
       "      <th>city</th>\n",
       "      <th>population</th>\n",
       "      <th>capital</th>\n",
       "      <th>geom</th>\n",
       "    </tr>\n",
       "  </thead>\n",
       "  <tbody>\n",
       "    <tr>\n",
       "      <th>0</th>\n",
       "      <td>Tokyo</td>\n",
       "      <td>39105000.0</td>\n",
       "      <td>primary</td>\n",
       "      <td>POINT (139.77440 35.68390)</td>\n",
       "    </tr>\n",
       "    <tr>\n",
       "      <th>1</th>\n",
       "      <td>Jakarta</td>\n",
       "      <td>35362000.0</td>\n",
       "      <td>primary</td>\n",
       "      <td>POINT (106.84510 -6.21460)</td>\n",
       "    </tr>\n",
       "    <tr>\n",
       "      <th>2</th>\n",
       "      <td>Delhi</td>\n",
       "      <td>31870000.0</td>\n",
       "      <td>admin</td>\n",
       "      <td>POINT (77.21670 28.66670)</td>\n",
       "    </tr>\n",
       "    <tr>\n",
       "      <th>3</th>\n",
       "      <td>Manila</td>\n",
       "      <td>23971000.0</td>\n",
       "      <td>primary</td>\n",
       "      <td>POINT (120.98330 14.60000)</td>\n",
       "    </tr>\n",
       "    <tr>\n",
       "      <th>4</th>\n",
       "      <td>Sao Paulo</td>\n",
       "      <td>22495000.0</td>\n",
       "      <td>admin</td>\n",
       "      <td>POINT (-46.63390 -23.55040)</td>\n",
       "    </tr>\n",
       "    <tr>\n",
       "      <th>...</th>\n",
       "      <td>...</td>\n",
       "      <td>...</td>\n",
       "      <td>...</td>\n",
       "      <td>...</td>\n",
       "    </tr>\n",
       "    <tr>\n",
       "      <th>9807</th>\n",
       "      <td>Greytown</td>\n",
       "      <td>275.0</td>\n",
       "      <td>minor</td>\n",
       "      <td>POINT (-83.70000 10.91670)</td>\n",
       "    </tr>\n",
       "    <tr>\n",
       "      <th>9808</th>\n",
       "      <td>La Esmeralda</td>\n",
       "      <td>150.0</td>\n",
       "      <td>minor</td>\n",
       "      <td>POINT (-65.54660 3.17380)</td>\n",
       "    </tr>\n",
       "    <tr>\n",
       "      <th>9809</th>\n",
       "      <td>Hodrogo</td>\n",
       "      <td>10.0</td>\n",
       "      <td>minor</td>\n",
       "      <td>POINT (96.78330 48.96640)</td>\n",
       "    </tr>\n",
       "    <tr>\n",
       "      <th>9810</th>\n",
       "      <td>Charlotte Amalie</td>\n",
       "      <td>NaN</td>\n",
       "      <td>primary</td>\n",
       "      <td>POINT (-64.93320 18.34190)</td>\n",
       "    </tr>\n",
       "    <tr>\n",
       "      <th>9811</th>\n",
       "      <td>Iqaluit</td>\n",
       "      <td>7740.0</td>\n",
       "      <td>admin</td>\n",
       "      <td>POINT (-68.51070 63.75980)</td>\n",
       "    </tr>\n",
       "  </tbody>\n",
       "</table>\n",
       "<p>9812 rows × 4 columns</p>\n",
       "</div>"
      ],
      "text/plain": [
       "                  city  population  capital                         geom\n",
       "0                Tokyo  39105000.0  primary   POINT (139.77440 35.68390)\n",
       "1              Jakarta  35362000.0  primary   POINT (106.84510 -6.21460)\n",
       "2                Delhi  31870000.0    admin    POINT (77.21670 28.66670)\n",
       "3               Manila  23971000.0  primary   POINT (120.98330 14.60000)\n",
       "4            Sao Paulo  22495000.0    admin  POINT (-46.63390 -23.55040)\n",
       "...                ...         ...      ...                          ...\n",
       "9807          Greytown       275.0    minor   POINT (-83.70000 10.91670)\n",
       "9808      La Esmeralda       150.0    minor    POINT (-65.54660 3.17380)\n",
       "9809           Hodrogo        10.0    minor    POINT (96.78330 48.96640)\n",
       "9810  Charlotte Amalie         NaN  primary   POINT (-64.93320 18.34190)\n",
       "9811           Iqaluit      7740.0    admin   POINT (-68.51070 63.75980)\n",
       "\n",
       "[9812 rows x 4 columns]"
      ]
     },
     "execution_count": 5,
     "metadata": {},
     "output_type": "execute_result"
    }
   ],
   "source": [
    "cities['geom'] = gpd.points_from_xy(cities.lng, cities.lat)  # creating the geometry column\n",
    "cities = cities.drop(columns=['lat', 'lng'])  # removing the old latitude/longitude fields\n",
    "cities"
   ]
  },
  {
   "cell_type": "markdown",
   "id": "e18eeaf2",
   "metadata": {},
   "source": [
    "## 2. Loading Spatial Data"
   ]
  },
  {
   "cell_type": "markdown",
   "id": "ae192d87",
   "metadata": {},
   "source": [
    "Loading the information into Pandas dataframes is a useful start, but to begin forming queries, we must ingest the data into our SQL databases."
   ]
  },
  {
   "cell_type": "markdown",
   "id": "a231b2bd",
   "metadata": {},
   "source": [
    "### 2.1 Requirements"
   ]
  },
  {
   "cell_type": "markdown",
   "id": "f97a524f",
   "metadata": {},
   "source": [
    "The below functions are taken directly from the Week 4 tutorial. Remember this requires a `Credentials.json` file to exist in the same directory as this notebook, as was needed in previous weeks."
   ]
  },
  {
   "cell_type": "code",
   "execution_count": 6,
   "id": "5ade49b2",
   "metadata": {},
   "outputs": [],
   "source": [
    "from sqlalchemy import create_engine\n",
    "import psycopg2\n",
    "import psycopg2.extras\n",
    "import json\n",
    "\n",
    "credentials = \"Credentials.json\"\n",
    "\n",
    "def pgconnect(credential_filepath, db_schema=\"public\"):\n",
    "    with open(credential_filepath) as f:\n",
    "        db_conn_dict = json.load(f)\n",
    "        host       = db_conn_dict['host']\n",
    "        db_user    = db_conn_dict['user']\n",
    "        db_pw      = db_conn_dict['password']\n",
    "        default_db = db_conn_dict['user']\n",
    "        port       = db_conn_dict['port']\n",
    "        try:\n",
    "            db = create_engine(f'postgresql+psycopg2://{db_user}:{db_pw}@{host}:{port}/{default_db}', echo=False)\n",
    "            conn = db.connect()\n",
    "            print('Connected successfully.')\n",
    "        except Exception as e:\n",
    "            print(\"Unable to connect to the database.\")\n",
    "            print(e)\n",
    "            db, conn = None, None\n",
    "        return db,conn\n",
    "\n",
    "def query(conn, sqlcmd, args=None, df=True):\n",
    "    result = pd.DataFrame() if df else None\n",
    "    try:\n",
    "        if df:\n",
    "            result = pd.read_sql_query(sqlcmd, conn, params=args)\n",
    "        else:\n",
    "            result = conn.execute(text(sqlcmd), args).fetchall()\n",
    "            result = result[0] if len(result) == 1 else result\n",
    "    except Exception as e:\n",
    "        print(\"Error encountered: \", e, sep='\\n')\n",
    "    return result"
   ]
  },
  {
   "cell_type": "markdown",
   "id": "8cf00f41",
   "metadata": {},
   "source": [
    "The below cell actually connects to the database, as per previous weeks."
   ]
  },
  {
   "cell_type": "code",
   "execution_count": 7,
   "id": "1cd90dcd",
   "metadata": {},
   "outputs": [
    {
     "name": "stdout",
     "output_type": "stream",
     "text": [
      "Connected successfully.\n"
     ]
    }
   ],
   "source": [
    "db, conn = pgconnect(credentials)"
   ]
  },
  {
   "cell_type": "markdown",
   "id": "82763c5c",
   "metadata": {},
   "source": [
    "Note the functions we'll be leveraging for geographical operations rely on PostGIS (the spatial extension to PostgreSQL) being installed on the database - the below query confirms it is correctly configured."
   ]
  },
  {
   "cell_type": "code",
   "execution_count": 8,
   "id": "6e0cd666",
   "metadata": {},
   "outputs": [
    {
     "data": {
      "text/html": [
       "<div>\n",
       "<style scoped>\n",
       "    .dataframe tbody tr th:only-of-type {\n",
       "        vertical-align: middle;\n",
       "    }\n",
       "\n",
       "    .dataframe tbody tr th {\n",
       "        vertical-align: top;\n",
       "    }\n",
       "\n",
       "    .dataframe thead th {\n",
       "        text-align: right;\n",
       "    }\n",
       "</style>\n",
       "<table border=\"1\" class=\"dataframe\">\n",
       "  <thead>\n",
       "    <tr style=\"text-align: right;\">\n",
       "      <th></th>\n",
       "      <th>postgis_version</th>\n",
       "    </tr>\n",
       "  </thead>\n",
       "  <tbody>\n",
       "    <tr>\n",
       "      <th>0</th>\n",
       "      <td>3.3 USE_GEOS=1 USE_PROJ=1 USE_STATS=1</td>\n",
       "    </tr>\n",
       "  </tbody>\n",
       "</table>\n",
       "</div>"
      ],
      "text/plain": [
       "                         postgis_version\n",
       "0  3.3 USE_GEOS=1 USE_PROJ=1 USE_STATS=1"
      ]
     },
     "execution_count": 8,
     "metadata": {},
     "output_type": "execute_result"
    }
   ],
   "source": [
    "query(conn, \"select PostGIS_Version()\")"
   ]
  },
  {
   "cell_type": "markdown",
   "id": "c4d9e2a6",
   "metadata": {},
   "source": [
    "### 2.2 SRID Transformations"
   ]
  },
  {
   "cell_type": "markdown",
   "id": "8e995477",
   "metadata": {},
   "source": [
    "Ensuring the spatial data types from GeoPandas are the same as those expected by PostGIS requires conversion to the **Well-Known Text (WKT)** format, as an intermediate step. This can be done using the `geoalchemy2` library, to convert from the `shapely` types in GeoPandas to the WKT format in PostGIS.\n",
    "\n",
    "We'll also be sure to specify the **Spatial Reference Identifier (SRID)** - in this case 4326, to represent the [WGS84 world geodetic coordinate system](https://en.wikipedia.org/wiki/World_Geodetic_System) used by our example data set. The following code simply converts the 'geom' column of the **Cities** dataframe accordingly."
   ]
  },
  {
   "cell_type": "code",
   "execution_count": 9,
   "id": "0643a9b8",
   "metadata": {},
   "outputs": [
    {
     "data": {
      "text/html": [
       "<div>\n",
       "<style scoped>\n",
       "    .dataframe tbody tr th:only-of-type {\n",
       "        vertical-align: middle;\n",
       "    }\n",
       "\n",
       "    .dataframe tbody tr th {\n",
       "        vertical-align: top;\n",
       "    }\n",
       "\n",
       "    .dataframe thead th {\n",
       "        text-align: right;\n",
       "    }\n",
       "</style>\n",
       "<table border=\"1\" class=\"dataframe\">\n",
       "  <thead>\n",
       "    <tr style=\"text-align: right;\">\n",
       "      <th></th>\n",
       "      <th>city</th>\n",
       "      <th>population</th>\n",
       "      <th>capital</th>\n",
       "      <th>geom</th>\n",
       "    </tr>\n",
       "  </thead>\n",
       "  <tbody>\n",
       "    <tr>\n",
       "      <th>0</th>\n",
       "      <td>Tokyo</td>\n",
       "      <td>39105000.0</td>\n",
       "      <td>primary</td>\n",
       "      <td>POINT (139.7744 35.6839)</td>\n",
       "    </tr>\n",
       "    <tr>\n",
       "      <th>1</th>\n",
       "      <td>Jakarta</td>\n",
       "      <td>35362000.0</td>\n",
       "      <td>primary</td>\n",
       "      <td>POINT (106.8451 -6.2146)</td>\n",
       "    </tr>\n",
       "    <tr>\n",
       "      <th>2</th>\n",
       "      <td>Delhi</td>\n",
       "      <td>31870000.0</td>\n",
       "      <td>admin</td>\n",
       "      <td>POINT (77.2167 28.6667)</td>\n",
       "    </tr>\n",
       "    <tr>\n",
       "      <th>3</th>\n",
       "      <td>Manila</td>\n",
       "      <td>23971000.0</td>\n",
       "      <td>primary</td>\n",
       "      <td>POINT (120.9833 14.6)</td>\n",
       "    </tr>\n",
       "    <tr>\n",
       "      <th>4</th>\n",
       "      <td>Sao Paulo</td>\n",
       "      <td>22495000.0</td>\n",
       "      <td>admin</td>\n",
       "      <td>POINT (-46.6339 -23.5504)</td>\n",
       "    </tr>\n",
       "    <tr>\n",
       "      <th>...</th>\n",
       "      <td>...</td>\n",
       "      <td>...</td>\n",
       "      <td>...</td>\n",
       "      <td>...</td>\n",
       "    </tr>\n",
       "    <tr>\n",
       "      <th>9807</th>\n",
       "      <td>Greytown</td>\n",
       "      <td>275.0</td>\n",
       "      <td>minor</td>\n",
       "      <td>POINT (-83.7 10.9167)</td>\n",
       "    </tr>\n",
       "    <tr>\n",
       "      <th>9808</th>\n",
       "      <td>La Esmeralda</td>\n",
       "      <td>150.0</td>\n",
       "      <td>minor</td>\n",
       "      <td>POINT (-65.5466 3.1738)</td>\n",
       "    </tr>\n",
       "    <tr>\n",
       "      <th>9809</th>\n",
       "      <td>Hodrogo</td>\n",
       "      <td>10.0</td>\n",
       "      <td>minor</td>\n",
       "      <td>POINT (96.7833 48.9664)</td>\n",
       "    </tr>\n",
       "    <tr>\n",
       "      <th>9810</th>\n",
       "      <td>Charlotte Amalie</td>\n",
       "      <td>NaN</td>\n",
       "      <td>primary</td>\n",
       "      <td>POINT (-64.9332 18.3419)</td>\n",
       "    </tr>\n",
       "    <tr>\n",
       "      <th>9811</th>\n",
       "      <td>Iqaluit</td>\n",
       "      <td>7740.0</td>\n",
       "      <td>admin</td>\n",
       "      <td>POINT (-68.5107 63.7598)</td>\n",
       "    </tr>\n",
       "  </tbody>\n",
       "</table>\n",
       "<p>9812 rows × 4 columns</p>\n",
       "</div>"
      ],
      "text/plain": [
       "                  city  population  capital                       geom\n",
       "0                Tokyo  39105000.0  primary   POINT (139.7744 35.6839)\n",
       "1              Jakarta  35362000.0  primary   POINT (106.8451 -6.2146)\n",
       "2                Delhi  31870000.0    admin    POINT (77.2167 28.6667)\n",
       "3               Manila  23971000.0  primary      POINT (120.9833 14.6)\n",
       "4            Sao Paulo  22495000.0    admin  POINT (-46.6339 -23.5504)\n",
       "...                ...         ...      ...                        ...\n",
       "9807          Greytown       275.0    minor      POINT (-83.7 10.9167)\n",
       "9808      La Esmeralda       150.0    minor    POINT (-65.5466 3.1738)\n",
       "9809           Hodrogo        10.0    minor    POINT (96.7833 48.9664)\n",
       "9810  Charlotte Amalie         NaN  primary   POINT (-64.9332 18.3419)\n",
       "9811           Iqaluit      7740.0    admin   POINT (-68.5107 63.7598)\n",
       "\n",
       "[9812 rows x 4 columns]"
      ]
     },
     "execution_count": 9,
     "metadata": {},
     "output_type": "execute_result"
    }
   ],
   "source": [
    "srid = 4326\n",
    "cities['geom'] = cities['geom'].apply(lambda x: WKTElement(x.wkt, srid=srid))\n",
    "cities"
   ]
  },
  {
   "cell_type": "markdown",
   "id": "50fc413c",
   "metadata": {},
   "source": [
    "Converting the polygons in our **Countries** dataframe requires more work. We'll first ensure they're all represented as multipolygons (of which polygons are a subset), and then conduct the same WKT conversion, all using a simple helper function."
   ]
  },
  {
   "cell_type": "code",
   "execution_count": 10,
   "id": "41ba04de",
   "metadata": {},
   "outputs": [
    {
     "data": {
      "text/html": [
       "<div>\n",
       "<style scoped>\n",
       "    .dataframe tbody tr th:only-of-type {\n",
       "        vertical-align: middle;\n",
       "    }\n",
       "\n",
       "    .dataframe tbody tr th {\n",
       "        vertical-align: top;\n",
       "    }\n",
       "\n",
       "    .dataframe thead th {\n",
       "        text-align: right;\n",
       "    }\n",
       "</style>\n",
       "<table border=\"1\" class=\"dataframe\">\n",
       "  <thead>\n",
       "    <tr style=\"text-align: right;\">\n",
       "      <th></th>\n",
       "      <th>pop_est</th>\n",
       "      <th>continent</th>\n",
       "      <th>name</th>\n",
       "      <th>iso_a3</th>\n",
       "      <th>gdp_md_est</th>\n",
       "      <th>geom</th>\n",
       "    </tr>\n",
       "  </thead>\n",
       "  <tbody>\n",
       "    <tr>\n",
       "      <th>0</th>\n",
       "      <td>28400000.0</td>\n",
       "      <td>Asia</td>\n",
       "      <td>Afghanistan</td>\n",
       "      <td>AFG</td>\n",
       "      <td>22270.0</td>\n",
       "      <td>MULTIPOLYGON (((61.210817091725744 35.65007233...</td>\n",
       "    </tr>\n",
       "    <tr>\n",
       "      <th>1</th>\n",
       "      <td>12799293.0</td>\n",
       "      <td>Africa</td>\n",
       "      <td>Angola</td>\n",
       "      <td>AGO</td>\n",
       "      <td>110300.0</td>\n",
       "      <td>MULTIPOLYGON (((16.326528354567046 -5.87747039...</td>\n",
       "    </tr>\n",
       "    <tr>\n",
       "      <th>2</th>\n",
       "      <td>3639453.0</td>\n",
       "      <td>Europe</td>\n",
       "      <td>Albania</td>\n",
       "      <td>ALB</td>\n",
       "      <td>21810.0</td>\n",
       "      <td>MULTIPOLYGON (((20.59024743010491 41.855404161...</td>\n",
       "    </tr>\n",
       "    <tr>\n",
       "      <th>3</th>\n",
       "      <td>4798491.0</td>\n",
       "      <td>Asia</td>\n",
       "      <td>United Arab Emirates</td>\n",
       "      <td>ARE</td>\n",
       "      <td>184300.0</td>\n",
       "      <td>MULTIPOLYGON (((51.57951867046327 24.245497137...</td>\n",
       "    </tr>\n",
       "    <tr>\n",
       "      <th>4</th>\n",
       "      <td>40913584.0</td>\n",
       "      <td>South America</td>\n",
       "      <td>Argentina</td>\n",
       "      <td>ARG</td>\n",
       "      <td>573900.0</td>\n",
       "      <td>MULTIPOLYGON (((-65.50000000000003 -55.1999999...</td>\n",
       "    </tr>\n",
       "    <tr>\n",
       "      <th>...</th>\n",
       "      <td>...</td>\n",
       "      <td>...</td>\n",
       "      <td>...</td>\n",
       "      <td>...</td>\n",
       "      <td>...</td>\n",
       "      <td>...</td>\n",
       "    </tr>\n",
       "    <tr>\n",
       "      <th>172</th>\n",
       "      <td>218519.0</td>\n",
       "      <td>Oceania</td>\n",
       "      <td>Vanuatu</td>\n",
       "      <td>VUT</td>\n",
       "      <td>988.5</td>\n",
       "      <td>MULTIPOLYGON (((167.8448767438451 -16.46633310...</td>\n",
       "    </tr>\n",
       "    <tr>\n",
       "      <th>173</th>\n",
       "      <td>23822783.0</td>\n",
       "      <td>Asia</td>\n",
       "      <td>Yemen</td>\n",
       "      <td>YEM</td>\n",
       "      <td>55280.0</td>\n",
       "      <td>MULTIPOLYGON (((53.10857262554751 16.651051133...</td>\n",
       "    </tr>\n",
       "    <tr>\n",
       "      <th>174</th>\n",
       "      <td>49052489.0</td>\n",
       "      <td>Africa</td>\n",
       "      <td>South Africa</td>\n",
       "      <td>ZAF</td>\n",
       "      <td>491000.0</td>\n",
       "      <td>MULTIPOLYGON (((31.521001417778876 -29.2573869...</td>\n",
       "    </tr>\n",
       "    <tr>\n",
       "      <th>175</th>\n",
       "      <td>11862740.0</td>\n",
       "      <td>Africa</td>\n",
       "      <td>Zambia</td>\n",
       "      <td>ZMB</td>\n",
       "      <td>17500.0</td>\n",
       "      <td>MULTIPOLYGON (((32.75937544122132 -9.230599053...</td>\n",
       "    </tr>\n",
       "    <tr>\n",
       "      <th>176</th>\n",
       "      <td>12619600.0</td>\n",
       "      <td>Africa</td>\n",
       "      <td>Zimbabwe</td>\n",
       "      <td>ZWE</td>\n",
       "      <td>9323.0</td>\n",
       "      <td>MULTIPOLYGON (((31.19140913262129 -22.25150969...</td>\n",
       "    </tr>\n",
       "  </tbody>\n",
       "</table>\n",
       "<p>177 rows × 6 columns</p>\n",
       "</div>"
      ],
      "text/plain": [
       "        pop_est      continent                  name iso_a3  gdp_md_est  \\\n",
       "0    28400000.0           Asia           Afghanistan    AFG     22270.0   \n",
       "1    12799293.0         Africa                Angola    AGO    110300.0   \n",
       "2     3639453.0         Europe               Albania    ALB     21810.0   \n",
       "3     4798491.0           Asia  United Arab Emirates    ARE    184300.0   \n",
       "4    40913584.0  South America             Argentina    ARG    573900.0   \n",
       "..          ...            ...                   ...    ...         ...   \n",
       "172    218519.0        Oceania               Vanuatu    VUT       988.5   \n",
       "173  23822783.0           Asia                 Yemen    YEM     55280.0   \n",
       "174  49052489.0         Africa          South Africa    ZAF    491000.0   \n",
       "175  11862740.0         Africa                Zambia    ZMB     17500.0   \n",
       "176  12619600.0         Africa              Zimbabwe    ZWE      9323.0   \n",
       "\n",
       "                                                  geom  \n",
       "0    MULTIPOLYGON (((61.210817091725744 35.65007233...  \n",
       "1    MULTIPOLYGON (((16.326528354567046 -5.87747039...  \n",
       "2    MULTIPOLYGON (((20.59024743010491 41.855404161...  \n",
       "3    MULTIPOLYGON (((51.57951867046327 24.245497137...  \n",
       "4    MULTIPOLYGON (((-65.50000000000003 -55.1999999...  \n",
       "..                                                 ...  \n",
       "172  MULTIPOLYGON (((167.8448767438451 -16.46633310...  \n",
       "173  MULTIPOLYGON (((53.10857262554751 16.651051133...  \n",
       "174  MULTIPOLYGON (((31.521001417778876 -29.2573869...  \n",
       "175  MULTIPOLYGON (((32.75937544122132 -9.230599053...  \n",
       "176  MULTIPOLYGON (((31.19140913262129 -22.25150969...  \n",
       "\n",
       "[177 rows x 6 columns]"
      ]
     },
     "execution_count": 10,
     "metadata": {},
     "output_type": "execute_result"
    }
   ],
   "source": [
    "def create_wkt_element(geom, srid):\n",
    "    if geom.geom_type == 'Polygon':\n",
    "        geom = MultiPolygon([geom])\n",
    "    return WKTElement(geom.wkt, srid)\n",
    "\n",
    "countriesog = countries.copy()  # creating a copy of the original for later\n",
    "countries['geom'] = countries['geometry'].apply(lambda x: create_wkt_element(geom=x,srid=srid))  # applying the function\n",
    "countries = countries.drop(columns=\"geometry\")  # deleting the old copy\n",
    "countries"
   ]
  },
  {
   "cell_type": "markdown",
   "id": "b3b0e0ed",
   "metadata": {},
   "source": [
    "### 2.3 Ingestion"
   ]
  },
  {
   "cell_type": "markdown",
   "id": "40111f5a",
   "metadata": {},
   "source": [
    "Let's proceed to populate tables in our database, firstly by defining schemas for each. Note the SRID is referenced in the geometry columns."
   ]
  },
  {
   "cell_type": "code",
   "execution_count": 11,
   "id": "9f9a9039",
   "metadata": {},
   "outputs": [
    {
     "data": {
      "text/plain": [
       "<sqlalchemy.engine.cursor.LegacyCursorResult at 0x11f1a0fa0>"
      ]
     },
     "execution_count": 11,
     "metadata": {},
     "output_type": "execute_result"
    }
   ],
   "source": [
    "conn.execute(\"\"\"\n",
    "DROP TABLE IF EXISTS cities;\n",
    "CREATE TABLE cities (\n",
    "    city VARCHAR(100), \n",
    "    population INTEGER, \n",
    "    capital VARCHAR(10),\n",
    "    geom GEOMETRY(POINT,4326)\n",
    ");\"\"\"\n",
    ")\n",
    "\n",
    "conn.execute(\"\"\"\n",
    "DROP TABLE IF EXISTS world;\n",
    "CREATE TABLE world (\n",
    "    pop_est NUMERIC, \n",
    "    continent VARCHAR(80), \n",
    "    name VARCHAR(80), \n",
    "    iso_a3 VARCHAR(80), \n",
    "    gdp_md_est NUMERIC,\n",
    "    geom GEOMETRY(MULTIPOLYGON,4326)\n",
    ");\"\"\"\n",
    ")"
   ]
  },
  {
   "cell_type": "markdown",
   "id": "225c9071",
   "metadata": {},
   "source": [
    "With this established, we can insert the data into these tables. With spatial data, it does require our code to be explicit in our type defintions so the `geoalchemy` library can handle the conversions.\n",
    "\n",
    "Firstly, we'll test the **Cities** table (will take longer than Countries due to the containing many more rows), then the **Countries** information."
   ]
  },
  {
   "cell_type": "code",
   "execution_count": 12,
   "id": "f136601c",
   "metadata": {},
   "outputs": [
    {
     "data": {
      "text/html": [
       "<div>\n",
       "<style scoped>\n",
       "    .dataframe tbody tr th:only-of-type {\n",
       "        vertical-align: middle;\n",
       "    }\n",
       "\n",
       "    .dataframe tbody tr th {\n",
       "        vertical-align: top;\n",
       "    }\n",
       "\n",
       "    .dataframe thead th {\n",
       "        text-align: right;\n",
       "    }\n",
       "</style>\n",
       "<table border=\"1\" class=\"dataframe\">\n",
       "  <thead>\n",
       "    <tr style=\"text-align: right;\">\n",
       "      <th></th>\n",
       "      <th>city</th>\n",
       "      <th>population</th>\n",
       "      <th>capital</th>\n",
       "      <th>geom</th>\n",
       "    </tr>\n",
       "  </thead>\n",
       "  <tbody>\n",
       "    <tr>\n",
       "      <th>0</th>\n",
       "      <td>Tokyo</td>\n",
       "      <td>39105000.0</td>\n",
       "      <td>primary</td>\n",
       "      <td>0101000020E6100000B84082E2C778614001DE02098AD7...</td>\n",
       "    </tr>\n",
       "    <tr>\n",
       "      <th>1</th>\n",
       "      <td>Jakarta</td>\n",
       "      <td>35362000.0</td>\n",
       "      <td>primary</td>\n",
       "      <td>0101000020E610000060764F1E16B65A40EBE2361AC0DB...</td>\n",
       "    </tr>\n",
       "    <tr>\n",
       "      <th>2</th>\n",
       "      <td>Delhi</td>\n",
       "      <td>31870000.0</td>\n",
       "      <td>admin</td>\n",
       "      <td>0101000020E6100000C442AD69DE4D5340423EE8D9ACAA...</td>\n",
       "    </tr>\n",
       "    <tr>\n",
       "      <th>3</th>\n",
       "      <td>Manila</td>\n",
       "      <td>23971000.0</td>\n",
       "      <td>primary</td>\n",
       "      <td>0101000020E6100000098A1F63EE3E5E40333333333333...</td>\n",
       "    </tr>\n",
       "    <tr>\n",
       "      <th>4</th>\n",
       "      <td>Sao Paulo</td>\n",
       "      <td>22495000.0</td>\n",
       "      <td>admin</td>\n",
       "      <td>0101000020E61000009A779CA2235147C0E9B7AF03E78C...</td>\n",
       "    </tr>\n",
       "    <tr>\n",
       "      <th>...</th>\n",
       "      <td>...</td>\n",
       "      <td>...</td>\n",
       "      <td>...</td>\n",
       "      <td>...</td>\n",
       "    </tr>\n",
       "    <tr>\n",
       "      <th>9807</th>\n",
       "      <td>Greytown</td>\n",
       "      <td>275.0</td>\n",
       "      <td>minor</td>\n",
       "      <td>0101000020E6100000CDCCCCCCCCEC54C0857CD0B359D5...</td>\n",
       "    </tr>\n",
       "    <tr>\n",
       "      <th>9808</th>\n",
       "      <td>La Esmeralda</td>\n",
       "      <td>150.0</td>\n",
       "      <td>minor</td>\n",
       "      <td>0101000020E610000097FF907EFB6250C0C05B2041F163...</td>\n",
       "    </tr>\n",
       "    <tr>\n",
       "      <th>9809</th>\n",
       "      <td>Hodrogo</td>\n",
       "      <td>10.0</td>\n",
       "      <td>minor</td>\n",
       "      <td>0101000020E61000003CBD5296213258405D6DC5FEB27B...</td>\n",
       "    </tr>\n",
       "    <tr>\n",
       "      <th>9810</th>\n",
       "      <td>Charlotte Amalie</td>\n",
       "      <td>NaN</td>\n",
       "      <td>primary</td>\n",
       "      <td>0101000020E610000024287E8CB93B50C09D8026C28657...</td>\n",
       "    </tr>\n",
       "    <tr>\n",
       "      <th>9811</th>\n",
       "      <td>Iqaluit</td>\n",
       "      <td>7740.0</td>\n",
       "      <td>admin</td>\n",
       "      <td>0101000020E61000004D840D4FAF2051C01AC05B2041E1...</td>\n",
       "    </tr>\n",
       "  </tbody>\n",
       "</table>\n",
       "<p>9812 rows × 4 columns</p>\n",
       "</div>"
      ],
      "text/plain": [
       "                  city  population  capital  \\\n",
       "0                Tokyo  39105000.0  primary   \n",
       "1              Jakarta  35362000.0  primary   \n",
       "2                Delhi  31870000.0    admin   \n",
       "3               Manila  23971000.0  primary   \n",
       "4            Sao Paulo  22495000.0    admin   \n",
       "...                ...         ...      ...   \n",
       "9807          Greytown       275.0    minor   \n",
       "9808      La Esmeralda       150.0    minor   \n",
       "9809           Hodrogo        10.0    minor   \n",
       "9810  Charlotte Amalie         NaN  primary   \n",
       "9811           Iqaluit      7740.0    admin   \n",
       "\n",
       "                                                   geom  \n",
       "0     0101000020E6100000B84082E2C778614001DE02098AD7...  \n",
       "1     0101000020E610000060764F1E16B65A40EBE2361AC0DB...  \n",
       "2     0101000020E6100000C442AD69DE4D5340423EE8D9ACAA...  \n",
       "3     0101000020E6100000098A1F63EE3E5E40333333333333...  \n",
       "4     0101000020E61000009A779CA2235147C0E9B7AF03E78C...  \n",
       "...                                                 ...  \n",
       "9807  0101000020E6100000CDCCCCCCCCEC54C0857CD0B359D5...  \n",
       "9808  0101000020E610000097FF907EFB6250C0C05B2041F163...  \n",
       "9809  0101000020E61000003CBD5296213258405D6DC5FEB27B...  \n",
       "9810  0101000020E610000024287E8CB93B50C09D8026C28657...  \n",
       "9811  0101000020E61000004D840D4FAF2051C01AC05B2041E1...  \n",
       "\n",
       "[9812 rows x 4 columns]"
      ]
     },
     "execution_count": 12,
     "metadata": {},
     "output_type": "execute_result"
    }
   ],
   "source": [
    "cities.to_sql('cities', conn, if_exists='append', index=False, dtype={'geom': Geometry('POINT', srid)})\n",
    "query(conn, \"select * from cities\")"
   ]
  },
  {
   "cell_type": "code",
   "execution_count": 13,
   "id": "923d989c",
   "metadata": {},
   "outputs": [
    {
     "data": {
      "text/html": [
       "<div>\n",
       "<style scoped>\n",
       "    .dataframe tbody tr th:only-of-type {\n",
       "        vertical-align: middle;\n",
       "    }\n",
       "\n",
       "    .dataframe tbody tr th {\n",
       "        vertical-align: top;\n",
       "    }\n",
       "\n",
       "    .dataframe thead th {\n",
       "        text-align: right;\n",
       "    }\n",
       "</style>\n",
       "<table border=\"1\" class=\"dataframe\">\n",
       "  <thead>\n",
       "    <tr style=\"text-align: right;\">\n",
       "      <th></th>\n",
       "      <th>pop_est</th>\n",
       "      <th>continent</th>\n",
       "      <th>name</th>\n",
       "      <th>iso_a3</th>\n",
       "      <th>gdp_md_est</th>\n",
       "      <th>geom</th>\n",
       "    </tr>\n",
       "  </thead>\n",
       "  <tbody>\n",
       "    <tr>\n",
       "      <th>0</th>\n",
       "      <td>28400000.0</td>\n",
       "      <td>Asia</td>\n",
       "      <td>Afghanistan</td>\n",
       "      <td>AFG</td>\n",
       "      <td>22270.0</td>\n",
       "      <td>0106000020E61000000100000001030000000100000045...</td>\n",
       "    </tr>\n",
       "    <tr>\n",
       "      <th>1</th>\n",
       "      <td>12799293.0</td>\n",
       "      <td>Africa</td>\n",
       "      <td>Angola</td>\n",
       "      <td>AGO</td>\n",
       "      <td>110300.0</td>\n",
       "      <td>0106000020E61000000200000001030000000100000042...</td>\n",
       "    </tr>\n",
       "    <tr>\n",
       "      <th>2</th>\n",
       "      <td>3639453.0</td>\n",
       "      <td>Europe</td>\n",
       "      <td>Albania</td>\n",
       "      <td>ALB</td>\n",
       "      <td>21810.0</td>\n",
       "      <td>0106000020E61000000100000001030000000100000016...</td>\n",
       "    </tr>\n",
       "    <tr>\n",
       "      <th>3</th>\n",
       "      <td>4798491.0</td>\n",
       "      <td>Asia</td>\n",
       "      <td>United Arab Emirates</td>\n",
       "      <td>ARE</td>\n",
       "      <td>184300.0</td>\n",
       "      <td>0106000020E61000000100000001030000000100000016...</td>\n",
       "    </tr>\n",
       "    <tr>\n",
       "      <th>4</th>\n",
       "      <td>40913584.0</td>\n",
       "      <td>South America</td>\n",
       "      <td>Argentina</td>\n",
       "      <td>ARG</td>\n",
       "      <td>573900.0</td>\n",
       "      <td>0106000020E6100000020000000103000000010000000B...</td>\n",
       "    </tr>\n",
       "    <tr>\n",
       "      <th>...</th>\n",
       "      <td>...</td>\n",
       "      <td>...</td>\n",
       "      <td>...</td>\n",
       "      <td>...</td>\n",
       "      <td>...</td>\n",
       "      <td>...</td>\n",
       "    </tr>\n",
       "    <tr>\n",
       "      <th>172</th>\n",
       "      <td>218519.0</td>\n",
       "      <td>Oceania</td>\n",
       "      <td>Vanuatu</td>\n",
       "      <td>VUT</td>\n",
       "      <td>988.5</td>\n",
       "      <td>0106000020E61000000200000001030000000100000005...</td>\n",
       "    </tr>\n",
       "    <tr>\n",
       "      <th>173</th>\n",
       "      <td>23822783.0</td>\n",
       "      <td>Asia</td>\n",
       "      <td>Yemen</td>\n",
       "      <td>YEM</td>\n",
       "      <td>55280.0</td>\n",
       "      <td>0106000020E6100000010000000103000000010000002C...</td>\n",
       "    </tr>\n",
       "    <tr>\n",
       "      <th>174</th>\n",
       "      <td>49052489.0</td>\n",
       "      <td>Africa</td>\n",
       "      <td>South Africa</td>\n",
       "      <td>ZAF</td>\n",
       "      <td>491000.0</td>\n",
       "      <td>0106000020E61000000100000001030000000200000052...</td>\n",
       "    </tr>\n",
       "    <tr>\n",
       "      <th>175</th>\n",
       "      <td>11862740.0</td>\n",
       "      <td>Africa</td>\n",
       "      <td>Zambia</td>\n",
       "      <td>ZMB</td>\n",
       "      <td>17500.0</td>\n",
       "      <td>0106000020E6100000010000000103000000010000003D...</td>\n",
       "    </tr>\n",
       "    <tr>\n",
       "      <th>176</th>\n",
       "      <td>12619600.0</td>\n",
       "      <td>Africa</td>\n",
       "      <td>Zimbabwe</td>\n",
       "      <td>ZWE</td>\n",
       "      <td>9323.0</td>\n",
       "      <td>0106000020E61000000100000001030000000100000025...</td>\n",
       "    </tr>\n",
       "  </tbody>\n",
       "</table>\n",
       "<p>177 rows × 6 columns</p>\n",
       "</div>"
      ],
      "text/plain": [
       "        pop_est      continent                  name iso_a3  gdp_md_est  \\\n",
       "0    28400000.0           Asia           Afghanistan    AFG     22270.0   \n",
       "1    12799293.0         Africa                Angola    AGO    110300.0   \n",
       "2     3639453.0         Europe               Albania    ALB     21810.0   \n",
       "3     4798491.0           Asia  United Arab Emirates    ARE    184300.0   \n",
       "4    40913584.0  South America             Argentina    ARG    573900.0   \n",
       "..          ...            ...                   ...    ...         ...   \n",
       "172    218519.0        Oceania               Vanuatu    VUT       988.5   \n",
       "173  23822783.0           Asia                 Yemen    YEM     55280.0   \n",
       "174  49052489.0         Africa          South Africa    ZAF    491000.0   \n",
       "175  11862740.0         Africa                Zambia    ZMB     17500.0   \n",
       "176  12619600.0         Africa              Zimbabwe    ZWE      9323.0   \n",
       "\n",
       "                                                  geom  \n",
       "0    0106000020E61000000100000001030000000100000045...  \n",
       "1    0106000020E61000000200000001030000000100000042...  \n",
       "2    0106000020E61000000100000001030000000100000016...  \n",
       "3    0106000020E61000000100000001030000000100000016...  \n",
       "4    0106000020E6100000020000000103000000010000000B...  \n",
       "..                                                 ...  \n",
       "172  0106000020E61000000200000001030000000100000005...  \n",
       "173  0106000020E6100000010000000103000000010000002C...  \n",
       "174  0106000020E61000000100000001030000000200000052...  \n",
       "175  0106000020E6100000010000000103000000010000003D...  \n",
       "176  0106000020E61000000100000001030000000100000025...  \n",
       "\n",
       "[177 rows x 6 columns]"
      ]
     },
     "execution_count": 13,
     "metadata": {},
     "output_type": "execute_result"
    }
   ],
   "source": [
    "countries.to_sql(\"world\", conn, if_exists='append', index=False, dtype={'geom': Geometry('MULTIPOLYGON', srid)})\n",
    "query(conn, \"select * from world\")"
   ]
  },
  {
   "cell_type": "markdown",
   "id": "fde91377",
   "metadata": {},
   "source": [
    "## 3. Querying Spatial Data"
   ]
  },
  {
   "cell_type": "markdown",
   "id": "5f9c23be",
   "metadata": {},
   "source": [
    "With the data now populated, we can commence with the interesting part - building queries and answering questions!"
   ]
  },
  {
   "cell_type": "markdown",
   "id": "2e2fb87e",
   "metadata": {},
   "source": [
    "### 3.1 Areas"
   ]
  },
  {
   "cell_type": "markdown",
   "id": "62e2f554",
   "metadata": {},
   "source": [
    "Let's walk through an example, by calculating the area of each region. This can be achieved using the PostGIS `ST_Area()` function. Below would therefore be a query that returns the **five largest countries in Africa**."
   ]
  },
  {
   "cell_type": "code",
   "execution_count": 14,
   "id": "94c236a4",
   "metadata": {},
   "outputs": [
    {
     "data": {
      "text/html": [
       "<div>\n",
       "<style scoped>\n",
       "    .dataframe tbody tr th:only-of-type {\n",
       "        vertical-align: middle;\n",
       "    }\n",
       "\n",
       "    .dataframe tbody tr th {\n",
       "        vertical-align: top;\n",
       "    }\n",
       "\n",
       "    .dataframe thead th {\n",
       "        text-align: right;\n",
       "    }\n",
       "</style>\n",
       "<table border=\"1\" class=\"dataframe\">\n",
       "  <thead>\n",
       "    <tr style=\"text-align: right;\">\n",
       "      <th></th>\n",
       "      <th>country</th>\n",
       "      <th>total_area</th>\n",
       "    </tr>\n",
       "  </thead>\n",
       "  <tbody>\n",
       "    <tr>\n",
       "      <th>0</th>\n",
       "      <td>Algeria</td>\n",
       "      <td>213.602772</td>\n",
       "    </tr>\n",
       "    <tr>\n",
       "      <th>1</th>\n",
       "      <td>Dem. Rep. Congo</td>\n",
       "      <td>189.515232</td>\n",
       "    </tr>\n",
       "    <tr>\n",
       "      <th>2</th>\n",
       "      <td>Sudan</td>\n",
       "      <td>156.444543</td>\n",
       "    </tr>\n",
       "    <tr>\n",
       "      <th>3</th>\n",
       "      <td>Libya</td>\n",
       "      <td>148.853147</td>\n",
       "    </tr>\n",
       "    <tr>\n",
       "      <th>4</th>\n",
       "      <td>South Africa</td>\n",
       "      <td>112.718524</td>\n",
       "    </tr>\n",
       "  </tbody>\n",
       "</table>\n",
       "</div>"
      ],
      "text/plain": [
       "           country  total_area\n",
       "0          Algeria  213.602772\n",
       "1  Dem. Rep. Congo  189.515232\n",
       "2            Sudan  156.444543\n",
       "3            Libya  148.853147\n",
       "4     South Africa  112.718524"
      ]
     },
     "execution_count": 14,
     "metadata": {},
     "output_type": "execute_result"
    }
   ],
   "source": [
    "sql = \"\"\"\n",
    "SELECT name AS country, ST_Area(geom) AS total_area\n",
    "FROM world\n",
    "WHERE continent='Africa'\n",
    "ORDER BY total_area DESC\n",
    "LIMIT 5\n",
    "\"\"\"\n",
    "query(conn, sql)"
   ]
  },
  {
   "cell_type": "markdown",
   "id": "95474509",
   "metadata": {},
   "source": [
    "Now there is a small catch with area calculations, which is alluded to by the low numbers returned (these reflect the geometry type and selected SRID). \n",
    "\n",
    "In order to get the size in square meters ($m^2$), we need use the **geography** type which treats polygons not as objects on a flat plane, but on a sphere, which makes them suitable for geodetic data like these world maps here. We can convert the geometries to the the GEOGRAPHY type by using `::geography` as a cast operator:"
   ]
  },
  {
   "cell_type": "code",
   "execution_count": 15,
   "id": "c4bb8d4c",
   "metadata": {},
   "outputs": [
    {
     "data": {
      "text/html": [
       "<div>\n",
       "<style scoped>\n",
       "    .dataframe tbody tr th:only-of-type {\n",
       "        vertical-align: middle;\n",
       "    }\n",
       "\n",
       "    .dataframe tbody tr th {\n",
       "        vertical-align: top;\n",
       "    }\n",
       "\n",
       "    .dataframe thead th {\n",
       "        text-align: right;\n",
       "    }\n",
       "</style>\n",
       "<table border=\"1\" class=\"dataframe\">\n",
       "  <thead>\n",
       "    <tr style=\"text-align: right;\">\n",
       "      <th></th>\n",
       "      <th>country</th>\n",
       "      <th>total_area_m2</th>\n",
       "    </tr>\n",
       "  </thead>\n",
       "  <tbody>\n",
       "    <tr>\n",
       "      <th>0</th>\n",
       "      <td>Dem. Rep. Congo</td>\n",
       "      <td>2.323492e+12</td>\n",
       "    </tr>\n",
       "    <tr>\n",
       "      <th>1</th>\n",
       "      <td>Algeria</td>\n",
       "      <td>2.315917e+12</td>\n",
       "    </tr>\n",
       "    <tr>\n",
       "      <th>2</th>\n",
       "      <td>Sudan</td>\n",
       "      <td>1.850886e+12</td>\n",
       "    </tr>\n",
       "    <tr>\n",
       "      <th>3</th>\n",
       "      <td>Libya</td>\n",
       "      <td>1.633721e+12</td>\n",
       "    </tr>\n",
       "    <tr>\n",
       "      <th>4</th>\n",
       "      <td>Chad</td>\n",
       "      <td>1.271695e+12</td>\n",
       "    </tr>\n",
       "  </tbody>\n",
       "</table>\n",
       "</div>"
      ],
      "text/plain": [
       "           country  total_area_m2\n",
       "0  Dem. Rep. Congo   2.323492e+12\n",
       "1          Algeria   2.315917e+12\n",
       "2            Sudan   1.850886e+12\n",
       "3            Libya   1.633721e+12\n",
       "4             Chad   1.271695e+12"
      ]
     },
     "execution_count": 15,
     "metadata": {},
     "output_type": "execute_result"
    }
   ],
   "source": [
    "sql = \"\"\"\n",
    "SELECT name AS country, ST_Area(geom::geography) AS total_area_m2\n",
    "FROM world\n",
    "WHERE continent='Africa'\n",
    "ORDER BY total_area_m2 DESC\n",
    "LIMIT 5\n",
    "\"\"\"\n",
    "query(conn, sql)"
   ]
  },
  {
   "cell_type": "markdown",
   "id": "b5351542",
   "metadata": {},
   "source": [
    "Final minor addition if scientific notation isn't ideal - we can express this as a complete integer using a basic Pandas transformation."
   ]
  },
  {
   "cell_type": "code",
   "execution_count": 16,
   "id": "fb0c41fb",
   "metadata": {},
   "outputs": [
    {
     "data": {
      "text/html": [
       "<div>\n",
       "<style scoped>\n",
       "    .dataframe tbody tr th:only-of-type {\n",
       "        vertical-align: middle;\n",
       "    }\n",
       "\n",
       "    .dataframe tbody tr th {\n",
       "        vertical-align: top;\n",
       "    }\n",
       "\n",
       "    .dataframe thead th {\n",
       "        text-align: right;\n",
       "    }\n",
       "</style>\n",
       "<table border=\"1\" class=\"dataframe\">\n",
       "  <thead>\n",
       "    <tr style=\"text-align: right;\">\n",
       "      <th></th>\n",
       "      <th>country</th>\n",
       "      <th>total_area_m2</th>\n",
       "    </tr>\n",
       "  </thead>\n",
       "  <tbody>\n",
       "    <tr>\n",
       "      <th>0</th>\n",
       "      <td>Dem. Rep. Congo</td>\n",
       "      <td>2323492477513</td>\n",
       "    </tr>\n",
       "    <tr>\n",
       "      <th>1</th>\n",
       "      <td>Algeria</td>\n",
       "      <td>2315916657885</td>\n",
       "    </tr>\n",
       "    <tr>\n",
       "      <th>2</th>\n",
       "      <td>Sudan</td>\n",
       "      <td>1850886093214</td>\n",
       "    </tr>\n",
       "    <tr>\n",
       "      <th>3</th>\n",
       "      <td>Libya</td>\n",
       "      <td>1633720717372</td>\n",
       "    </tr>\n",
       "    <tr>\n",
       "      <th>4</th>\n",
       "      <td>Chad</td>\n",
       "      <td>1271694598203</td>\n",
       "    </tr>\n",
       "  </tbody>\n",
       "</table>\n",
       "</div>"
      ],
      "text/plain": [
       "           country  total_area_m2\n",
       "0  Dem. Rep. Congo  2323492477513\n",
       "1          Algeria  2315916657885\n",
       "2            Sudan  1850886093214\n",
       "3            Libya  1633720717372\n",
       "4             Chad  1271694598203"
      ]
     },
     "execution_count": 16,
     "metadata": {},
     "output_type": "execute_result"
    }
   ],
   "source": [
    "results = query(conn, sql)\n",
    "results['total_area_m2'] = results['total_area_m2'].astype('int64')\n",
    "results"
   ]
  },
  {
   "cell_type": "markdown",
   "id": "638d3e01",
   "metadata": {},
   "source": [
    "### 3.2 Points"
   ]
  },
  {
   "cell_type": "markdown",
   "id": "53410b8f",
   "metadata": {},
   "source": [
    "Let's consider another spatial function - `ST_Contains()`. This can be used to determine if a given point lies within a region.\n",
    "\n",
    "According to Google, the coordinates of Paris are `48.8566° N, 2.3522° E`. If we store this as a geometric point (using `ST_Point` - note the longitude comes first!) and then convert this into the SRID using `ST_SetSRID()` function, we can then see if any of the polygons in our countries dataframe contain this point. As expected, this should yield France:"
   ]
  },
  {
   "cell_type": "code",
   "execution_count": 17,
   "id": "3352d388",
   "metadata": {},
   "outputs": [
    {
     "data": {
      "text/html": [
       "<div>\n",
       "<style scoped>\n",
       "    .dataframe tbody tr th:only-of-type {\n",
       "        vertical-align: middle;\n",
       "    }\n",
       "\n",
       "    .dataframe tbody tr th {\n",
       "        vertical-align: top;\n",
       "    }\n",
       "\n",
       "    .dataframe thead th {\n",
       "        text-align: right;\n",
       "    }\n",
       "</style>\n",
       "<table border=\"1\" class=\"dataframe\">\n",
       "  <thead>\n",
       "    <tr style=\"text-align: right;\">\n",
       "      <th></th>\n",
       "      <th>name</th>\n",
       "    </tr>\n",
       "  </thead>\n",
       "  <tbody>\n",
       "    <tr>\n",
       "      <th>0</th>\n",
       "      <td>France</td>\n",
       "    </tr>\n",
       "  </tbody>\n",
       "</table>\n",
       "</div>"
      ],
      "text/plain": [
       "     name\n",
       "0  France"
      ]
     },
     "execution_count": 17,
     "metadata": {},
     "output_type": "execute_result"
    }
   ],
   "source": [
    "sql = \"\"\"\n",
    "SELECT name\n",
    "FROM world\n",
    "WHERE ST_Contains(geom, ST_SetSRID(ST_Point(2.3, 48.86), 4326))\n",
    "\"\"\"\n",
    "query(conn, sql)"
   ]
  },
  {
   "cell_type": "markdown",
   "id": "1d7e4da1",
   "metadata": {},
   "source": [
    "**a) Find all cities within Australia**\n",
    "\n",
    "Hint: this involves using the ST functions as the *join* condition. As an extension, see if it can be achieved with multiple different spatial functions (see the [PostGIS docs for more functions](https://postgis.net/docs/reference.html))."
   ]
  },
  {
   "cell_type": "code",
   "execution_count": 18,
   "id": "e03eea14",
   "metadata": {},
   "outputs": [
    {
     "data": {
      "text/html": [
       "<div>\n",
       "<style scoped>\n",
       "    .dataframe tbody tr th:only-of-type {\n",
       "        vertical-align: middle;\n",
       "    }\n",
       "\n",
       "    .dataframe tbody tr th {\n",
       "        vertical-align: top;\n",
       "    }\n",
       "\n",
       "    .dataframe thead th {\n",
       "        text-align: right;\n",
       "    }\n",
       "</style>\n",
       "<table border=\"1\" class=\"dataframe\">\n",
       "  <thead>\n",
       "    <tr style=\"text-align: right;\">\n",
       "      <th></th>\n",
       "      <th>name</th>\n",
       "      <th>city</th>\n",
       "      <th>capital</th>\n",
       "    </tr>\n",
       "  </thead>\n",
       "  <tbody>\n",
       "    <tr>\n",
       "      <th>0</th>\n",
       "      <td>Australia</td>\n",
       "      <td>Sydney</td>\n",
       "      <td>admin</td>\n",
       "    </tr>\n",
       "    <tr>\n",
       "      <th>1</th>\n",
       "      <td>Australia</td>\n",
       "      <td>Melbourne</td>\n",
       "      <td>admin</td>\n",
       "    </tr>\n",
       "    <tr>\n",
       "      <th>2</th>\n",
       "      <td>Australia</td>\n",
       "      <td>Brisbane</td>\n",
       "      <td>admin</td>\n",
       "    </tr>\n",
       "    <tr>\n",
       "      <th>3</th>\n",
       "      <td>Australia</td>\n",
       "      <td>Perth</td>\n",
       "      <td>admin</td>\n",
       "    </tr>\n",
       "    <tr>\n",
       "      <th>4</th>\n",
       "      <td>Australia</td>\n",
       "      <td>Adelaide</td>\n",
       "      <td>admin</td>\n",
       "    </tr>\n",
       "    <tr>\n",
       "      <th>5</th>\n",
       "      <td>Australia</td>\n",
       "      <td>Canberra</td>\n",
       "      <td>primary</td>\n",
       "    </tr>\n",
       "    <tr>\n",
       "      <th>6</th>\n",
       "      <td>Australia</td>\n",
       "      <td>Hobart</td>\n",
       "      <td>admin</td>\n",
       "    </tr>\n",
       "    <tr>\n",
       "      <th>7</th>\n",
       "      <td>Australia</td>\n",
       "      <td>Darwin</td>\n",
       "      <td>admin</td>\n",
       "    </tr>\n",
       "  </tbody>\n",
       "</table>\n",
       "</div>"
      ],
      "text/plain": [
       "        name       city  capital\n",
       "0  Australia     Sydney    admin\n",
       "1  Australia  Melbourne    admin\n",
       "2  Australia   Brisbane    admin\n",
       "3  Australia      Perth    admin\n",
       "4  Australia   Adelaide    admin\n",
       "5  Australia   Canberra  primary\n",
       "6  Australia     Hobart    admin\n",
       "7  Australia     Darwin    admin"
      ]
     },
     "execution_count": 18,
     "metadata": {},
     "output_type": "execute_result"
    }
   ],
   "source": [
    "## TO DO\n",
    "sql = \"\"\"\n",
    "SELECT A.name, B.city, B.capital\n",
    "FROM world A JOIN cities B ON ST_Contains(A.geom, B.geom)  /* ST_Within(B.geom, A.geom) */  /* ST_Intersects(A.geom, B.geom) */\n",
    "WHERE A.name = 'Australia'\n",
    "\"\"\"\n",
    "query(conn, sql)"
   ]
  },
  {
   "cell_type": "markdown",
   "id": "51d9a7c9",
   "metadata": {},
   "source": [
    "**b) List all countries that have more than two primary capital cities.**\n",
    "\n",
    "Which appears to have the most? Is this accurate? Why or why not?"
   ]
  },
  {
   "cell_type": "code",
   "execution_count": 19,
   "id": "36a02ff7",
   "metadata": {},
   "outputs": [
    {
     "data": {
      "text/html": [
       "<div>\n",
       "<style scoped>\n",
       "    .dataframe tbody tr th:only-of-type {\n",
       "        vertical-align: middle;\n",
       "    }\n",
       "\n",
       "    .dataframe tbody tr th {\n",
       "        vertical-align: top;\n",
       "    }\n",
       "\n",
       "    .dataframe thead th {\n",
       "        text-align: right;\n",
       "    }\n",
       "</style>\n",
       "<table border=\"1\" class=\"dataframe\">\n",
       "  <thead>\n",
       "    <tr style=\"text-align: right;\">\n",
       "      <th></th>\n",
       "      <th>name</th>\n",
       "      <th>cities</th>\n",
       "    </tr>\n",
       "  </thead>\n",
       "  <tbody>\n",
       "    <tr>\n",
       "      <th>0</th>\n",
       "      <td>France</td>\n",
       "      <td>4</td>\n",
       "    </tr>\n",
       "    <tr>\n",
       "      <th>1</th>\n",
       "      <td>Italy</td>\n",
       "      <td>3</td>\n",
       "    </tr>\n",
       "    <tr>\n",
       "      <th>2</th>\n",
       "      <td>South Africa</td>\n",
       "      <td>3</td>\n",
       "    </tr>\n",
       "  </tbody>\n",
       "</table>\n",
       "</div>"
      ],
      "text/plain": [
       "           name  cities\n",
       "0        France       4\n",
       "1         Italy       3\n",
       "2  South Africa       3"
      ]
     },
     "execution_count": 19,
     "metadata": {},
     "output_type": "execute_result"
    }
   ],
   "source": [
    "## TO DO\n",
    "sql = \"\"\"\n",
    "SELECT A.name, count(*) cities\n",
    "FROM world A JOIN cities B ON ST_Contains(A.geom, B.geom)\n",
    "WHERE capital = 'primary'\n",
    "GROUP BY A.name\n",
    "HAVING count(*) > 2\n",
    "ORDER BY cities desc\n",
    "\"\"\"\n",
    "query(conn, sql)"
   ]
  },
  {
   "cell_type": "markdown",
   "id": "252c4217",
   "metadata": {},
   "source": [
    "### 3.3 Intersections"
   ]
  },
  {
   "cell_type": "markdown",
   "id": "21b8b8bd",
   "metadata": {},
   "source": [
    "Returning to our example of Kosovo earlier, let's see if we can determine it's neighbouring countries.\n",
    "\n",
    "We can leverage a **self-join** with the 'world' table to determine which countries share a boundary with each other. Normally, we would expect to use the `ST_Touch()` function for this, but in our dataset, the boundaries are in low-resolution, so some border shapes actually intersect. Hence the more generic `ST_Intersects()` spatial relationship function should suffice."
   ]
  },
  {
   "cell_type": "code",
   "execution_count": 20,
   "id": "3e331a41",
   "metadata": {},
   "outputs": [
    {
     "data": {
      "text/html": [
       "<div>\n",
       "<style scoped>\n",
       "    .dataframe tbody tr th:only-of-type {\n",
       "        vertical-align: middle;\n",
       "    }\n",
       "\n",
       "    .dataframe tbody tr th {\n",
       "        vertical-align: top;\n",
       "    }\n",
       "\n",
       "    .dataframe thead th {\n",
       "        text-align: right;\n",
       "    }\n",
       "</style>\n",
       "<table border=\"1\" class=\"dataframe\">\n",
       "  <thead>\n",
       "    <tr style=\"text-align: right;\">\n",
       "      <th></th>\n",
       "      <th>name</th>\n",
       "    </tr>\n",
       "  </thead>\n",
       "  <tbody>\n",
       "    <tr>\n",
       "      <th>0</th>\n",
       "      <td>Albania</td>\n",
       "    </tr>\n",
       "    <tr>\n",
       "      <th>1</th>\n",
       "      <td>Macedonia</td>\n",
       "    </tr>\n",
       "    <tr>\n",
       "      <th>2</th>\n",
       "      <td>Montenegro</td>\n",
       "    </tr>\n",
       "    <tr>\n",
       "      <th>3</th>\n",
       "      <td>Serbia</td>\n",
       "    </tr>\n",
       "  </tbody>\n",
       "</table>\n",
       "</div>"
      ],
      "text/plain": [
       "         name\n",
       "0     Albania\n",
       "1   Macedonia\n",
       "2  Montenegro\n",
       "3      Serbia"
      ]
     },
     "execution_count": 20,
     "metadata": {},
     "output_type": "execute_result"
    }
   ],
   "source": [
    "sql = \"\"\"\n",
    "SELECT B.name\n",
    "FROM world A JOIN world B ON ST_Intersects(A.geom, B.geom)\n",
    "WHERE A.name = 'Kosovo' AND B.name != A.name\n",
    "\"\"\"\n",
    "query(conn, sql)"
   ]
  },
  {
   "cell_type": "markdown",
   "id": "7830e78f",
   "metadata": {},
   "source": [
    "**a) Find all countries that neighbour Germany, ordered by the furthest north neighbour to the nearest south.**\n",
    "\n",
    "Ordering successfully will require the y-value of the centre point of a given polygon - try finding [spatial functions](https://postgis.net/docs/reference.html) to achieve this!"
   ]
  },
  {
   "cell_type": "code",
   "execution_count": 21,
   "id": "93fcb76f",
   "metadata": {},
   "outputs": [
    {
     "data": {
      "text/html": [
       "<div>\n",
       "<style scoped>\n",
       "    .dataframe tbody tr th:only-of-type {\n",
       "        vertical-align: middle;\n",
       "    }\n",
       "\n",
       "    .dataframe tbody tr th {\n",
       "        vertical-align: top;\n",
       "    }\n",
       "\n",
       "    .dataframe thead th {\n",
       "        text-align: right;\n",
       "    }\n",
       "</style>\n",
       "<table border=\"1\" class=\"dataframe\">\n",
       "  <thead>\n",
       "    <tr style=\"text-align: right;\">\n",
       "      <th></th>\n",
       "      <th>name</th>\n",
       "    </tr>\n",
       "  </thead>\n",
       "  <tbody>\n",
       "    <tr>\n",
       "      <th>0</th>\n",
       "      <td>Denmark</td>\n",
       "    </tr>\n",
       "    <tr>\n",
       "      <th>1</th>\n",
       "      <td>Netherlands</td>\n",
       "    </tr>\n",
       "    <tr>\n",
       "      <th>2</th>\n",
       "      <td>Poland</td>\n",
       "    </tr>\n",
       "    <tr>\n",
       "      <th>3</th>\n",
       "      <td>Belgium</td>\n",
       "    </tr>\n",
       "    <tr>\n",
       "      <th>4</th>\n",
       "      <td>Czech Rep.</td>\n",
       "    </tr>\n",
       "    <tr>\n",
       "      <th>5</th>\n",
       "      <td>Luxembourg</td>\n",
       "    </tr>\n",
       "    <tr>\n",
       "      <th>6</th>\n",
       "      <td>Austria</td>\n",
       "    </tr>\n",
       "    <tr>\n",
       "      <th>7</th>\n",
       "      <td>Switzerland</td>\n",
       "    </tr>\n",
       "    <tr>\n",
       "      <th>8</th>\n",
       "      <td>France</td>\n",
       "    </tr>\n",
       "  </tbody>\n",
       "</table>\n",
       "</div>"
      ],
      "text/plain": [
       "          name\n",
       "0      Denmark\n",
       "1  Netherlands\n",
       "2       Poland\n",
       "3      Belgium\n",
       "4   Czech Rep.\n",
       "5   Luxembourg\n",
       "6      Austria\n",
       "7  Switzerland\n",
       "8       France"
      ]
     },
     "execution_count": 21,
     "metadata": {},
     "output_type": "execute_result"
    }
   ],
   "source": [
    "## TO DO\n",
    "sql = \"\"\"\n",
    "SELECT B.name\n",
    "FROM world A JOIN world B ON (ST_Intersects(A.geom, B.geom))\n",
    "WHERE A.name = 'Germany' AND B.name != A.name\n",
    "ORDER BY ST_Y(ST_Centroid(B.geom)) DESC\n",
    "\"\"\"\n",
    "query(conn, sql)"
   ]
  },
  {
   "cell_type": "markdown",
   "id": "aad5ef9a",
   "metadata": {},
   "source": [
    "**b) Find the most common city name in the dataset. Afterwards, determine which countries these cities exist in.**\n",
    "\n",
    "There are 4 'San Luis' cities - 2 in Cuba, 1 in Argentina, and 1 in Guatemala. Are any city names more common, and what countries are they found in?\n",
    "\n",
    "Spoiler: you can confirm your answer using [this Wikipedia page](https://en.wikipedia.org/wiki/List_of_cities_and_towns_in_Colombia)."
   ]
  },
  {
   "cell_type": "code",
   "execution_count": 22,
   "id": "07ce4ca8",
   "metadata": {},
   "outputs": [
    {
     "data": {
      "text/html": [
       "<div>\n",
       "<style scoped>\n",
       "    .dataframe tbody tr th:only-of-type {\n",
       "        vertical-align: middle;\n",
       "    }\n",
       "\n",
       "    .dataframe tbody tr th {\n",
       "        vertical-align: top;\n",
       "    }\n",
       "\n",
       "    .dataframe thead th {\n",
       "        text-align: right;\n",
       "    }\n",
       "</style>\n",
       "<table border=\"1\" class=\"dataframe\">\n",
       "  <thead>\n",
       "    <tr style=\"text-align: right;\">\n",
       "      <th></th>\n",
       "      <th>city</th>\n",
       "      <th>count</th>\n",
       "    </tr>\n",
       "  </thead>\n",
       "  <tbody>\n",
       "    <tr>\n",
       "      <th>0</th>\n",
       "      <td>La Union</td>\n",
       "      <td>7</td>\n",
       "    </tr>\n",
       "    <tr>\n",
       "      <th>1</th>\n",
       "      <td>Cordoba</td>\n",
       "      <td>6</td>\n",
       "    </tr>\n",
       "    <tr>\n",
       "      <th>2</th>\n",
       "      <td>San Jose</td>\n",
       "      <td>6</td>\n",
       "    </tr>\n",
       "    <tr>\n",
       "      <th>3</th>\n",
       "      <td>San Fernando</td>\n",
       "      <td>6</td>\n",
       "    </tr>\n",
       "    <tr>\n",
       "      <th>4</th>\n",
       "      <td>San Juan</td>\n",
       "      <td>5</td>\n",
       "    </tr>\n",
       "  </tbody>\n",
       "</table>\n",
       "</div>"
      ],
      "text/plain": [
       "           city  count\n",
       "0      La Union      7\n",
       "1       Cordoba      6\n",
       "2      San Jose      6\n",
       "3  San Fernando      6\n",
       "4      San Juan      5"
      ]
     },
     "execution_count": 22,
     "metadata": {},
     "output_type": "execute_result"
    }
   ],
   "source": [
    "## TO DO - QUERY 1\n",
    "sql = \"\"\"\n",
    "SELECT city, count(*)\n",
    "FROM cities\n",
    "GROUP BY city\n",
    "HAVING count(*) > 1\n",
    "ORDER BY count(*) desc\n",
    "LIMIT 5\n",
    "\"\"\"\n",
    "query(conn, sql)"
   ]
  },
  {
   "cell_type": "code",
   "execution_count": null,
   "id": "48e6a10d",
   "metadata": {},
   "outputs": [],
   "source": []
  },
  {
   "cell_type": "code",
   "execution_count": 23,
   "id": "e4935f51",
   "metadata": {},
   "outputs": [
    {
     "data": {
      "text/html": [
       "<div>\n",
       "<style scoped>\n",
       "    .dataframe tbody tr th:only-of-type {\n",
       "        vertical-align: middle;\n",
       "    }\n",
       "\n",
       "    .dataframe tbody tr th {\n",
       "        vertical-align: top;\n",
       "    }\n",
       "\n",
       "    .dataframe thead th {\n",
       "        text-align: right;\n",
       "    }\n",
       "</style>\n",
       "<table border=\"1\" class=\"dataframe\">\n",
       "  <thead>\n",
       "    <tr style=\"text-align: right;\">\n",
       "      <th></th>\n",
       "      <th>name</th>\n",
       "      <th>cities</th>\n",
       "    </tr>\n",
       "  </thead>\n",
       "  <tbody>\n",
       "    <tr>\n",
       "      <th>0</th>\n",
       "      <td>Colombia</td>\n",
       "      <td>4</td>\n",
       "    </tr>\n",
       "    <tr>\n",
       "      <th>1</th>\n",
       "      <td>Chile</td>\n",
       "      <td>1</td>\n",
       "    </tr>\n",
       "    <tr>\n",
       "      <th>2</th>\n",
       "      <td>El Salvador</td>\n",
       "      <td>1</td>\n",
       "    </tr>\n",
       "    <tr>\n",
       "      <th>3</th>\n",
       "      <td>Guatemala</td>\n",
       "      <td>1</td>\n",
       "    </tr>\n",
       "  </tbody>\n",
       "</table>\n",
       "</div>"
      ],
      "text/plain": [
       "          name  cities\n",
       "0     Colombia       4\n",
       "1        Chile       1\n",
       "2  El Salvador       1\n",
       "3    Guatemala       1"
      ]
     },
     "execution_count": 23,
     "metadata": {},
     "output_type": "execute_result"
    }
   ],
   "source": [
    "## TO DO - QUERY 2\n",
    "sql = \"\"\"\n",
    "SELECT A.name, count(*) cities\n",
    "FROM world A JOIN cities B ON ST_Contains(A.geom, B.geom)\n",
    "WHERE B.city = 'La Union'\n",
    "GROUP BY A.name\n",
    "ORDER BY cities desc\n",
    "\"\"\"\n",
    "query(conn, sql)"
   ]
  },
  {
   "cell_type": "markdown",
   "id": "81553e3c",
   "metadata": {},
   "source": [
    "## 4. Maps"
   ]
  },
  {
   "cell_type": "markdown",
   "id": "2b69f9e5",
   "metadata": {},
   "source": [
    "Another beautiful application of spatial data involves plotting the results. No tasks here - just a brief demonstration. The below code filters the original version of the **Countries** dataframe to only countries within Europe and Asia, and then plots them using `matplotlib`."
   ]
  },
  {
   "cell_type": "code",
   "execution_count": 24,
   "id": "68b44c21",
   "metadata": {},
   "outputs": [
    {
     "name": "stderr",
     "output_type": "stream",
     "text": [
      "/usr/local/lib/python3.9/site-packages/geopandas/plotting.py:48: ShapelyDeprecationWarning: The 'type' attribute is deprecated, and will be removed in the future. You can use the 'geom_type' attribute instead.\n",
      "  if geom is not None and geom.type.startswith(prefix) and not geom.is_empty:\n"
     ]
    },
    {
     "data": {
      "text/plain": [
       "<AxesSubplot:>"
      ]
     },
     "execution_count": 24,
     "metadata": {},
     "output_type": "execute_result"
    },
    {
     "data": {
      "image/png": "[encoded data removed]",
      "text/plain": [
       "<Figure size 720x720 with 1 Axes>"
      ]
     },
     "metadata": {
      "needs_background": "light"
     },
     "output_type": "display_data"
    }
   ],
   "source": [
    "eurasia = countriesog[(countriesog['continent']=='Europe') | (countriesog['continent']=='Asia')]\n",
    "eurasia.plot(figsize=(10, 10))"
   ]
  },
  {
   "cell_type": "markdown",
   "id": "7b63429a",
   "metadata": {},
   "source": [
    "We can achieve the same result with a combination of SQL and GeoPandas.\n",
    "\n",
    "Note that the `.read_postgis()` function requires the SRID to be defined as the CRS argument."
   ]
  },
  {
   "cell_type": "code",
   "execution_count": 25,
   "id": "50c93376",
   "metadata": {},
   "outputs": [
    {
     "name": "stderr",
     "output_type": "stream",
     "text": [
      "/usr/local/lib/python3.9/site-packages/geopandas/plotting.py:48: ShapelyDeprecationWarning: The 'type' attribute is deprecated, and will be removed in the future. You can use the 'geom_type' attribute instead.\n",
      "  if geom is not None and geom.type.startswith(prefix) and not geom.is_empty:\n"
     ]
    },
    {
     "data": {
      "text/plain": [
       "<AxesSubplot:>"
      ]
     },
     "execution_count": 25,
     "metadata": {},
     "output_type": "execute_result"
    },
    {
     "data": {
      "image/png": "[encoded data removed]",
      "text/plain": [
       "<Figure size 720x720 with 1 Axes>"
      ]
     },
     "metadata": {
      "needs_background": "light"
     },
     "output_type": "display_data"
    }
   ],
   "source": [
    "eurasia = gpd.read_postgis(\"SELECT name, geom FROM world WHERE continent='Europe' or continent='Asia'\", conn, crs=4326)\n",
    "eurasia.plot(figsize=(10, 10))"
   ]
  },
  {
   "cell_type": "markdown",
   "id": "0d6953f3",
   "metadata": {},
   "source": [
    "For an even more aesthetic result - we can add a colour palette."
   ]
  },
  {
   "cell_type": "code",
   "execution_count": 26,
   "id": "4de3cb3e",
   "metadata": {},
   "outputs": [
    {
     "name": "stderr",
     "output_type": "stream",
     "text": [
      "/usr/local/lib/python3.9/site-packages/geopandas/plotting.py:48: ShapelyDeprecationWarning: The 'type' attribute is deprecated, and will be removed in the future. You can use the 'geom_type' attribute instead.\n",
      "  if geom is not None and geom.type.startswith(prefix) and not geom.is_empty:\n"
     ]
    },
    {
     "data": {
      "text/plain": [
       "<AxesSubplot:>"
      ]
     },
     "execution_count": 26,
     "metadata": {},
     "output_type": "execute_result"
    },
    {
     "data": {
      "image/png": "[encoded data removed]",
      "text/plain": [
       "<Figure size 720x720 with 1 Axes>"
      ]
     },
     "metadata": {
      "needs_background": "light"
     },
     "output_type": "display_data"
    }
   ],
   "source": [
    "eurasia.plot(cmap='Set2', figsize=(10, 10))"
   ]
  },
  {
   "cell_type": "markdown",
   "id": "d25d62c7",
   "metadata": {},
   "source": [
    "And when complete, we can export geospatial subsets as new shapefiles. The following code will create a new 'Eurasia' shapefile."
   ]
  },
  {
   "cell_type": "code",
   "execution_count": 27,
   "id": "d8336859",
   "metadata": {},
   "outputs": [],
   "source": [
    "eurasia.to_file(\"world/eurasia.shp\")"
   ]
  },
  {
   "cell_type": "markdown",
   "id": "d479faf1",
   "metadata": {},
   "source": [
    "### 4.2 API"
   ]
  },
  {
   "cell_type": "markdown",
   "id": "8c3e1211",
   "metadata": {},
   "source": [
    "Last week's tutorial investigated APIs. We briefly covered the NSW Points of Interest API as an example of returning spatial data.\n",
    "\n",
    "Other wider public endpoints include the **OpenStreetMap API**, which is capable of returning the details of requested locations, including their corresponding geospatial polygons. We'll establish a helper function to query the API, noting their [usage policy](https://operations.osmfoundation.org/policies/nominatim/) explicitly sets out an absolute maximum 1 request per second:"
   ]
  },
  {
   "cell_type": "code",
   "execution_count": 28,
   "id": "abdc1be1",
   "metadata": {},
   "outputs": [],
   "source": [
    "import time as t\n",
    "import requests\n",
    "def address_details(params, wait=5):\n",
    "    base_url = 'https://nominatim.openstreetmap.org/search'\n",
    "    t.sleep(wait)  # 5 second wait to avoid overloading (too many requests could lock out the whole uni's IP range!)\n",
    "    response = requests.get(base_url, params = params)\n",
    "    return response.json()"
   ]
  },
  {
   "cell_type": "markdown",
   "id": "977a1d34",
   "metadata": {},
   "source": [
    "Let's search for the School of Computer Science, found at 1 Cleveland Street, Darlington. An additional parameter we'll pass is setting `polygon_geojson` to 1, which will return us the coordinates of it's boundaries, as seen below:"
   ]
  },
  {
   "cell_type": "code",
   "execution_count": 29,
   "id": "91a76494",
   "metadata": {},
   "outputs": [
    {
     "name": "stdout",
     "output_type": "stream",
     "text": [
      "[[[151.1933178, -33.8879881], [151.1934455, -33.8880747], [151.1935488, -33.8881437], [151.1936056, -33.8881814], [151.1936514, -33.8882051], [151.1937156, -33.8882397], [151.1937423, -33.8882532], [151.1937776, -33.888271], [151.1938457, -33.8882986], [151.1939171, -33.8883234], [151.1939953, -33.8883488], [151.1940033, -33.8883149], [151.1940336, -33.8883204], [151.1940623, -33.8883243], [151.1940427, -33.8883711], [151.194082, -33.8883822], [151.1941024, -33.8883311], [151.1941212, -33.8883323], [151.1941062, -33.8883691], [151.1942061, -33.8883723], [151.1942922, -33.8883616], [151.1943848, -33.8883407], [151.1944692, -33.8883037], [151.19454, -33.8882596], [151.1946071, -33.8882071], [151.1945918, -33.8882046], [151.1946013, -33.8881645], [151.1941167, -33.8880987], [151.1940942, -33.8882253], [151.1940576, -33.888222], [151.1940221, -33.8882187], [151.1940421, -33.8880895], [151.1933178, -33.8879881]]]\n"
     ]
    }
   ],
   "source": [
    "parameters = {'q': 'Computer Science Building, 1 Cleveland Street, Darlington, Australia', 'limit':'1', 'format': 'json', 'polygon_geojson': '1'}\n",
    "results = address_details(parameters)\n",
    "print(results[0]['geojson']['coordinates'])"
   ]
  },
  {
   "cell_type": "markdown",
   "id": "1d5999e5",
   "metadata": {},
   "source": [
    "A couple dozen coordinates printed out isn't particularly inspiring. Seeing it plotted though, is quite beautiful. Compare the output below to the shape of the building on Google Maps - it's quite a good match!"
   ]
  },
  {
   "cell_type": "code",
   "execution_count": 30,
   "id": "1087164c",
   "metadata": {},
   "outputs": [
    {
     "data": {
      "image/png": "[encoded data removed]",
      "text/plain": [
       "<Figure size 720x360 with 1 Axes>"
      ]
     },
     "metadata": {
      "needs_background": "light"
     },
     "output_type": "display_data"
    }
   ],
   "source": [
    "fig, ax = plt.subplots(figsize=(10, 5))  # setting up the plot\n",
    "ax.ticklabel_format(useOffset=False)  # avoiding scientific notation on the axes\n",
    "p = Polygon(results[0]['geojson']['coordinates'][0])  # taking the coordinates returned and storing them as a polygon\n",
    "x,y = p.exterior.xy  # extracting the x and y coordinates from the exterior of that polygon\n",
    "ax.plot(x,y)  # plotting them on the graph\n",
    "plt.title(\"School of Computer Science\", fontdict={'fontsize': 16}, pad=10)  # setting a title\n",
    "plt.xlabel(\"Longitude\", fontdict={'fontsize': 14}, labelpad=10)  # setting an x-axis\n",
    "plt.ylabel(\"Latitude\", fontdict={'fontsize': 14}, labelpad=10)  # setting a y-axis\n",
    "plt.show()  # displaying the plot"
   ]
  },
  {
   "cell_type": "markdown",
   "id": "735d913e",
   "metadata": {},
   "source": [
    "#### Tutorial Complete!"
   ]
  },
  {
   "cell_type": "markdown",
   "id": "6ec856b8",
   "metadata": {},
   "source": [
    "Hopefully this was a useful introduction to geospatial data, which will be crucial to the group assignment. The remainder of this week's allotted time will be spent discussing this, and finalising any remaining details around groups. Enjoy your week!"
   ]
  },
  {
   "cell_type": "code",
   "execution_count": 31,
   "id": "960073a8",
   "metadata": {},
   "outputs": [],
   "source": [
    "conn.close()\n",
    "db.dispose()"
   ]
  }
 ],
 "metadata": {
  "kernelspec": {
   "display_name": "Python 3 (ipykernel)",
   "language": "python",
   "name": "python3"
  },
  "language_info": {
   "codemirror_mode": {
    "name": "ipython",
    "version": 3
   },
   "file_extension": ".py",
   "mimetype": "text/x-python",
   "name": "python",
   "nbconvert_exporter": "python",
   "pygments_lexer": "ipython3",
   "version": "3.9.18"
  }
 },
 "nbformat": 4,
 "nbformat_minor": 5
}
