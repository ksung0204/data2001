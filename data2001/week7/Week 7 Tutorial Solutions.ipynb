{
 "cells": [
  {
   "cell_type": "code",
   "execution_count": 1,
   "id": "1ddae065",
   "metadata": {},
   "outputs": [
    {
     "data": {
      "text/html": [
       "\n",
       "    <style> body {font-family: \"Roboto Condensed Light\", \"Roboto Condensed\";} h2 {padding: 10px 12px; background-color: #E64626; position: static; color: #ffffff; font-size: 40px;} .text_cell_render p { font-size: 15px; } .text_cell_render h1 { font-size: 30px; } h1 {padding: 10px 12px; background-color: #E64626; color: #ffffff; font-size: 40px;} .text_cell_render h3 { padding: 10px 12px; background-color: #0148A4; position: static; color: #ffffff; font-size: 20px;} h4:before{ \n",
       "    content: \"@\"; font-family:\"Wingdings\"; font-style:regular; margin-right: 4px;} .text_cell_render h4 {padding: 8px; font-family: \"Roboto Condensed Light\"; position: static; font-style: italic; background-color: #FFB800; color: #ffffff; font-size: 18px; text-align: center; border-radius: 5px;}input[type=submit] {background-color: #E64626; border: solid; border-color: #734036; color: white; padding: 8px 16px; text-decoration: none; margin: 4px 2px; cursor: pointer; border-radius: 20px;}</style>\n"
      ],
      "text/plain": [
       "<IPython.core.display.HTML object>"
      ]
     },
     "execution_count": 1,
     "metadata": {},
     "output_type": "execute_result"
    }
   ],
   "source": [
    "# DATA2001 Week 7 Tutorial Solutions\n",
    "# Material last updated: 7 Apr 2025\n",
    "# Note: this notebook was designed with the Roboto Condensed font, which can be installed here: https://www.1001fonts.com/roboto-condensed-font.html\n",
    "\n",
    "from IPython.display import HTML\n",
    "HTML('''\n",
    "    <style> body {font-family: \"Roboto Condensed Light\", \"Roboto Condensed\";} h2 {padding: 10px 12px; background-color: #E64626; position: static; color: #ffffff; font-size: 40px;} .text_cell_render p { font-size: 15px; } .text_cell_render h1 { font-size: 30px; } h1 {padding: 10px 12px; background-color: #E64626; color: #ffffff; font-size: 40px;} .text_cell_render h3 { padding: 10px 12px; background-color: #0148A4; position: static; color: #ffffff; font-size: 20px;} h4:before{ \n",
    "    content: \"@\"; font-family:\"Wingdings\"; font-style:regular; margin-right: 4px;} .text_cell_render h4 {padding: 8px; font-family: \"Roboto Condensed Light\"; position: static; font-style: italic; background-color: #FFB800; color: #ffffff; font-size: 18px; text-align: center; border-radius: 5px;}input[type=submit] {background-color: #E64626; border: solid; border-color: #734036; color: white; padding: 8px 16px; text-decoration: none; margin: 4px 2px; cursor: pointer; border-radius: 20px;}</style>\n",
    "''')"
   ]
  },
  {
   "cell_type": "markdown",
   "id": "f9424826",
   "metadata": {},
   "source": [
    "# Week 7 - Web APIs and Semi-Structured Data"
   ]
  },
  {
   "cell_type": "markdown",
   "id": "5a3032c7",
   "metadata": {},
   "source": [
    "This week will be going beyond scraping data from websites and using APIs to help collect data efficiently. Web APIs are purposefully provided by vendors to allow formal access to data, meaning it is often quite well-defined and consistent.\n",
    "\n",
    "This tutorial offers an introduction to the potential that APIs offer, and hopefully helps you consider the possibilities of data integrations in your future projects. It will also continue to focus on **semi-structured data**, and how we can transform this into a tabular form.\n",
    "\n",
    "Similarly to last week, our content will require the following Python libraries (none of which you should need to install):\n",
    "- **Requests** for interacting with websites and web services\n",
    "- **JSON** for handling JSON semi-structured objects\n",
    "- **Pandas** for dataframe management"
   ]
  },
  {
   "cell_type": "markdown",
   "id": "cb2134f2",
   "metadata": {},
   "source": [
    "#### A note on the SQL Quiz"
   ]
  },
  {
   "cell_type": "markdown",
   "id": "74eaa620",
   "metadata": {},
   "source": [
    "Much of this week's tutorial time will be spent conducting the **SQL Quiz assessment**. There won't be time to cover all the content below, but it is included for your reference so you can begin to apply hands-on examples of web APIs. The only \"tasks\" are towards the end and are SQL recap-based, rather than API tests. The accompanying text and descriptions, combined with the lecture, should be sufficient to read through and test out in your own time, and we will make solutions available as usual. Questions welcome on Ed, as always.\n",
    "\n",
    "The hope is that tutorial time will allow for **Sections 1** (for an introduction), **and 2** (for the benefit of the group assignment), but there is no issue if this needs to be left for next week to unpack in detail. Sections 3 and 4 are simply expansions of working with APIs and semi-structured data, and may not be covered in-person in either this week or the next."
   ]
  },
  {
   "cell_type": "markdown",
   "id": "85e656f2",
   "metadata": {},
   "source": [
    "## 1. Introduction to JSON and Web APIs"
   ]
  },
  {
   "cell_type": "markdown",
   "id": "c6ca0d0a",
   "metadata": {},
   "source": [
    "Let's begin by exploring a few fun, simple examples of APIs with a variety of data types."
   ]
  },
  {
   "cell_type": "markdown",
   "id": "4d60f391",
   "metadata": {},
   "source": [
    "### 1.1 Exploring JSON with APIs"
   ]
  },
  {
   "cell_type": "markdown",
   "id": "33476cf5",
   "metadata": {},
   "source": [
    "At the core, it's worth acknowleding that accessing APIs is much like accessing a webpage, as we did in the Week 6 tutorial.\n",
    "\n",
    "Accordingly, we'll import the `requests` library to start, but also a little extra to allow later display of images:"
   ]
  },
  {
   "cell_type": "code",
   "execution_count": 2,
   "id": "84fcf8cc",
   "metadata": {},
   "outputs": [],
   "source": [
    "import requests\n",
    "import ipywidgets as widgets\n",
    "def display_image(response, w=200, h=300):\n",
    "    return widgets.Image(value=response.content, format='jpg', width=w, height=h)"
   ]
  },
  {
   "cell_type": "markdown",
   "id": "4a39331b",
   "metadata": {},
   "source": [
    "From there, let's test out the [Stanford Dogs Dataset](https://dog.ceo/dog-api/documentation/):"
   ]
  },
  {
   "cell_type": "code",
   "execution_count": 3,
   "id": "921d6782",
   "metadata": {},
   "outputs": [
    {
     "data": {
      "text/plain": [
       "'{\"message\":{\"affenpinscher\":[],\"african\":[],\"airedale\":[],\"akita\":[],\"appenzeller\":[],\"australian\":[\"kelpie\",\"shepherd\"],\"bakharwal\":[\"indian\"],\"basenji\":[],\"beagle\":[],\"bluetick\":[],\"borzoi\":[],\"bouvier\":[],\"boxer\":[],\"brabancon\":[],\"briard\":[],\"buhund\":[\"norwegian\"],\"bulldog\":[\"boston\",\"english\",\"french\"],\"bullterrier\":[\"staffordshire\"],\"cattledog\":[\"australian\"],\"cavapoo\":[],\"chihuahua\":[],\"chippiparai\":[\"indian\"],\"chow\":[],\"clumber\":[],\"cockapoo\":[],\"collie\":[\"border\"],\"coonhound\":[],\"corgi\":[\"cardigan\"],\"cotondetulear\":[],\"dachshund\":[],\"dalmatian\":[],\"dane\":[\"great\"],\"danish\":[\"swedish\"],\"deerhound\":[\"scottish\"],\"dhole\":[],\"dingo\":[],\"doberman\":[],\"elkhound\":[\"norwegian\"],\"entlebucher\":[],\"eskimo\":[],\"finnish\":[\"lapphund\"],\"frise\":[\"bichon\"],\"gaddi\":[\"indian\"],\"germanshepherd\":[],\"greyhound\":[\"indian\",\"italian\"],\"groenendael\":[],\"havanese\":[],\"hound\":[\"afghan\",\"basset\",\"blood\",\"english\",\"ibizan\",\"plott\",\"walker\"],\"husky\":[],\"keeshond\":[],\"kelpie\":[],\"kombai\":[],\"komondor\":[],\"kuvasz\":[],\"labradoodle\":[],\"labrador\":[],\"leonberg\":[],\"lhasa\":[],\"malamute\":[],\"malinois\":[],\"maltese\":[],\"mastiff\":[\"bull\",\"english\",\"indian\",\"tibetan\"],\"mexicanhairless\":[],\"mix\":[],\"mountain\":[\"bernese\",\"swiss\"],\"mudhol\":[\"indian\"],\"newfoundland\":[],\"otterhound\":[],\"ovcharka\":[\"caucasian\"],\"papillon\":[],\"pariah\":[\"indian\"],\"pekinese\":[],\"pembroke\":[],\"pinscher\":[\"miniature\"],\"pitbull\":[],\"pointer\":[\"german\",\"germanlonghair\"],\"pomeranian\":[],\"poodle\":[\"medium\",\"miniature\",\"standard\",\"toy\"],\"pug\":[],\"puggle\":[],\"pyrenees\":[],\"rajapalayam\":[\"indian\"],\"redbone\":[],\"retriever\":[\"chesapeake\",\"curly\",\"flatcoated\",\"golden\"],\"ridgeback\":[\"rhodesian\"],\"rottweiler\":[],\"saluki\":[],\"samoyed\":[],\"schipperke\":[],\"schnauzer\":[\"giant\",\"miniature\"],\"segugio\":[\"italian\"],\"setter\":[\"english\",\"gordon\",\"irish\"],\"sharpei\":[],\"sheepdog\":[\"english\",\"indian\",\"shetland\"],\"shiba\":[],\"shihtzu\":[],\"spaniel\":[\"blenheim\",\"brittany\",\"cocker\",\"irish\",\"japanese\",\"sussex\",\"welsh\"],\"spitz\":[\"indian\",\"japanese\"],\"springer\":[\"english\"],\"stbernard\":[],\"terrier\":[\"american\",\"australian\",\"bedlington\",\"border\",\"cairn\",\"dandie\",\"fox\",\"irish\",\"kerryblue\",\"lakeland\",\"norfolk\",\"norwich\",\"patterdale\",\"russell\",\"scottish\",\"sealyham\",\"silky\",\"tibetan\",\"toy\",\"welsh\",\"westhighland\",\"wheaten\",\"yorkshire\"],\"tervuren\":[],\"vizsla\":[],\"waterdog\":[\"spanish\"],\"weimaraner\":[],\"whippet\":[],\"wolfhound\":[\"irish\"]},\"status\":\"success\"}'"
      ]
     },
     "execution_count": 3,
     "metadata": {},
     "output_type": "execute_result"
    }
   ],
   "source": [
    "response = requests.get('https://dog.ceo/api/breeds/list/all')\n",
    "response.text"
   ]
  },
  {
   "cell_type": "markdown",
   "id": "dd6b011e",
   "metadata": {},
   "source": [
    "This output appears to be on the right track, but is definitely tricky to interpret in simple text format! It is really a `JSON` object - a common form of semi-structured data that may be reminiscent of our HTML encounters in Week 6. We can read it in appropriately using the ``.loads()`` function in the JSON library, which can parse a valid string into a JSON object."
   ]
  },
  {
   "cell_type": "code",
   "execution_count": 4,
   "id": "6691077f",
   "metadata": {},
   "outputs": [
    {
     "data": {
      "text/plain": [
       "dict_keys(['message', 'status'])"
      ]
     },
     "execution_count": 4,
     "metadata": {},
     "output_type": "execute_result"
    }
   ],
   "source": [
    "import json\n",
    "breeds = json.loads(response.text)\n",
    "breeds.keys()"
   ]
  },
  {
   "cell_type": "markdown",
   "id": "220ebbc5",
   "metadata": {},
   "source": [
    "As seen by observing the keys above, or consulting the documentation, two things are returned - a \"message\", and the \"status\". We're interested in the \"message\". We can return output without further use of the JSON library, but it's worthwhile pointing out the ``.dumps()`` function, which can output JSON objects (or parts within) as simple strings, with desired formatting (e.g. indenting using `indent`, sorted keys using `sort_keys`, etc)"
   ]
  },
  {
   "cell_type": "code",
   "execution_count": 5,
   "id": "baeda6dc",
   "metadata": {},
   "outputs": [
    {
     "name": "stdout",
     "output_type": "stream",
     "text": [
      "{\n",
      "    \"affenpinscher\": [],\n",
      "    \"african\": [],\n",
      "    \"airedale\": [],\n",
      "    \"akita\": [],\n",
      "    \"appenzeller\": [],\n",
      "    \"australian\": [\n",
      "        \"kelpie\",\n",
      "        \"shepherd\"\n",
      "    ],\n",
      "    \"bakharwal\": [\n",
      "        \"indian\"\n",
      "    ],\n",
      "    \"basenji\": [],\n",
      "    \"beagle\": [],\n",
      "    \"bluetick\": [],\n",
      "    \"borzoi\": [],\n",
      "    \"bouvier\": [],\n",
      "    \"boxer\": [],\n",
      "    \"brabancon\": [],\n",
      "    \"briard\": [],\n",
      "    \"buhund\": [\n",
      "        \"norwegian\"\n",
      "    ],\n",
      "    \"bulldog\": [\n",
      "        \"boston\",\n",
      "        \"english\",\n",
      "        \"french\"\n",
      "    ],\n",
      "    \"bullterrier\": [\n",
      "        \"staffordshire\"\n",
      "    ],\n",
      "    \"cattledog\": [\n",
      "        \"australian\"\n",
      "    ],\n",
      "    \"cavapoo\": [],\n",
      "    \"chihuahua\": [],\n",
      "    \"chippiparai\": [\n",
      "        \"indian\"\n",
      "    ],\n",
      "    \"chow\": [],\n",
      "    \"clumber\": [],\n",
      "    \"cockapoo\": [],\n",
      "    \"collie\": [\n",
      "        \"border\"\n",
      "    ],\n",
      "    \"coonhound\": [],\n",
      "    \"corgi\": [\n",
      "        \"cardigan\"\n",
      "    ],\n",
      "    \"cotondetulear\": [],\n",
      "    \"dachshund\": [],\n",
      "    \"dalmatian\": [],\n",
      "    \"dane\": [\n",
      "        \"great\"\n",
      "    ],\n",
      "    \"danish\": [\n",
      "        \"swedish\"\n",
      "    ],\n",
      "    \"deerhound\": [\n",
      "        \"scottish\"\n",
      "    ],\n",
      "    \"dhole\": [],\n",
      "    \"dingo\": [],\n",
      "    \"doberman\": [],\n",
      "    \"elkhound\": [\n",
      "        \"norwegian\"\n",
      "    ],\n",
      "    \"entlebucher\": [],\n",
      "    \"eskimo\": [],\n",
      "    \"finnish\": [\n",
      "        \"lapphund\"\n",
      "    ],\n",
      "    \"frise\": [\n",
      "        \"bichon\"\n",
      "    ],\n",
      "    \"gaddi\": [\n",
      "        \"indian\"\n",
      "    ],\n",
      "    \"germanshepherd\": [],\n",
      "    \"greyhound\": [\n",
      "        \"indian\",\n",
      "        \"italian\"\n",
      "    ],\n",
      "    \"groenendael\": [],\n",
      "    \"havanese\": [],\n",
      "    \"hound\": [\n",
      "        \"afghan\",\n",
      "        \"basset\",\n",
      "        \"blood\",\n",
      "        \"english\",\n",
      "        \"ibizan\",\n",
      "        \"plott\",\n",
      "        \"walker\"\n",
      "    ],\n",
      "    \"husky\": [],\n",
      "    \"keeshond\": [],\n",
      "    \"kelpie\": [],\n",
      "    \"kombai\": [],\n",
      "    \"komondor\": [],\n",
      "    \"kuvasz\": [],\n",
      "    \"labradoodle\": [],\n",
      "    \"labrador\": [],\n",
      "    \"leonberg\": [],\n",
      "    \"lhasa\": [],\n",
      "    \"malamute\": [],\n",
      "    \"malinois\": [],\n",
      "    \"maltese\": [],\n",
      "    \"mastiff\": [\n",
      "        \"bull\",\n",
      "        \"english\",\n",
      "        \"indian\",\n",
      "        \"tibetan\"\n",
      "    ],\n",
      "    \"mexicanhairless\": [],\n",
      "    \"mix\": [],\n",
      "    \"mountain\": [\n",
      "        \"bernese\",\n",
      "        \"swiss\"\n",
      "    ],\n",
      "    \"mudhol\": [\n",
      "        \"indian\"\n",
      "    ],\n",
      "    \"newfoundland\": [],\n",
      "    \"otterhound\": [],\n",
      "    \"ovcharka\": [\n",
      "        \"caucasian\"\n",
      "    ],\n",
      "    \"papillon\": [],\n",
      "    \"pariah\": [\n",
      "        \"indian\"\n",
      "    ],\n",
      "    \"pekinese\": [],\n",
      "    \"pembroke\": [],\n",
      "    \"pinscher\": [\n",
      "        \"miniature\"\n",
      "    ],\n",
      "    \"pitbull\": [],\n",
      "    \"pointer\": [\n",
      "        \"german\",\n",
      "        \"germanlonghair\"\n",
      "    ],\n",
      "    \"pomeranian\": [],\n",
      "    \"poodle\": [\n",
      "        \"medium\",\n",
      "        \"miniature\",\n",
      "        \"standard\",\n",
      "        \"toy\"\n",
      "    ],\n",
      "    \"pug\": [],\n",
      "    \"puggle\": [],\n",
      "    \"pyrenees\": [],\n",
      "    \"rajapalayam\": [\n",
      "        \"indian\"\n",
      "    ],\n",
      "    \"redbone\": [],\n",
      "    \"retriever\": [\n",
      "        \"chesapeake\",\n",
      "        \"curly\",\n",
      "        \"flatcoated\",\n",
      "        \"golden\"\n",
      "    ],\n",
      "    \"ridgeback\": [\n",
      "        \"rhodesian\"\n",
      "    ],\n",
      "    \"rottweiler\": [],\n",
      "    \"saluki\": [],\n",
      "    \"samoyed\": [],\n",
      "    \"schipperke\": [],\n",
      "    \"schnauzer\": [\n",
      "        \"giant\",\n",
      "        \"miniature\"\n",
      "    ],\n",
      "    \"segugio\": [\n",
      "        \"italian\"\n",
      "    ],\n",
      "    \"setter\": [\n",
      "        \"english\",\n",
      "        \"gordon\",\n",
      "        \"irish\"\n",
      "    ],\n",
      "    \"sharpei\": [],\n",
      "    \"sheepdog\": [\n",
      "        \"english\",\n",
      "        \"indian\",\n",
      "        \"shetland\"\n",
      "    ],\n",
      "    \"shiba\": [],\n",
      "    \"shihtzu\": [],\n",
      "    \"spaniel\": [\n",
      "        \"blenheim\",\n",
      "        \"brittany\",\n",
      "        \"cocker\",\n",
      "        \"irish\",\n",
      "        \"japanese\",\n",
      "        \"sussex\",\n",
      "        \"welsh\"\n",
      "    ],\n",
      "    \"spitz\": [\n",
      "        \"indian\",\n",
      "        \"japanese\"\n",
      "    ],\n",
      "    \"springer\": [\n",
      "        \"english\"\n",
      "    ],\n",
      "    \"stbernard\": [],\n",
      "    \"terrier\": [\n",
      "        \"american\",\n",
      "        \"australian\",\n",
      "        \"bedlington\",\n",
      "        \"border\",\n",
      "        \"cairn\",\n",
      "        \"dandie\",\n",
      "        \"fox\",\n",
      "        \"irish\",\n",
      "        \"kerryblue\",\n",
      "        \"lakeland\",\n",
      "        \"norfolk\",\n",
      "        \"norwich\",\n",
      "        \"patterdale\",\n",
      "        \"russell\",\n",
      "        \"scottish\",\n",
      "        \"sealyham\",\n",
      "        \"silky\",\n",
      "        \"tibetan\",\n",
      "        \"toy\",\n",
      "        \"welsh\",\n",
      "        \"westhighland\",\n",
      "        \"wheaten\",\n",
      "        \"yorkshire\"\n",
      "    ],\n",
      "    \"tervuren\": [],\n",
      "    \"vizsla\": [],\n",
      "    \"waterdog\": [\n",
      "        \"spanish\"\n",
      "    ],\n",
      "    \"weimaraner\": [],\n",
      "    \"whippet\": [],\n",
      "    \"wolfhound\": [\n",
      "        \"irish\"\n",
      "    ]\n",
      "}\n"
     ]
    }
   ],
   "source": [
    "print(json.dumps(breeds['message'], indent=4))"
   ]
  },
  {
   "cell_type": "markdown",
   "id": "17c29cff",
   "metadata": {},
   "source": [
    "The \"[breed](https://dog.ceo/dog-api/documentation/breed)\" page of the documentation defines the general format of a URL to return a random image of a selected dog breed. The function below leverages this to return a single image from the selected breed:"
   ]
  },
  {
   "cell_type": "code",
   "execution_count": 6,
   "id": "48c27da2",
   "metadata": {},
   "outputs": [],
   "source": [
    "def random_dog(breed):\n",
    "    # This command returns a URL to a random image of the selected dog breed.\n",
    "    # We would need to do another call of requests.get() to get the actual image.\n",
    "    response = requests.get(f'https://dog.ceo/api/breed/{breed}/images/random')\n",
    "    breed = json.loads(response.text)['message']\n",
    "    response_image = requests.get(breed)\n",
    "    return display_image(response_image)"
   ]
  },
  {
   "cell_type": "markdown",
   "id": "6d0b052b",
   "metadata": {},
   "source": [
    "Try choosing a breed from the JSON above, and returning an image for it below (currently returns a 'husky'):"
   ]
  },
  {
   "cell_type": "code",
   "execution_count": 7,
   "id": "f872c51d",
   "metadata": {},
   "outputs": [
    {
     "data": {
      "application/vnd.jupyter.widget-view+json": {
       "model_id": "77dcdaf37e424b688fad1049be8791ea",
       "version_major": 2,
       "version_minor": 0
      },
      "text/plain": [
       "Image(value=b'\\xff\\xd8\\xff\\xe0\\x00\\x10JFIF\\x00\\x01\\x01\\x00\\x00\\x01\\x00\\x01\\x00\\x00\\xff\\xdb\\x00C\\x00\\x08\\x06\\x0…"
      ]
     },
     "metadata": {},
     "output_type": "display_data"
    }
   ],
   "source": [
    "random_dog('husky')"
   ]
  },
  {
   "cell_type": "markdown",
   "id": "685b2798",
   "metadata": {},
   "source": [
    "### 1.2 Exploring XML Objects with APIs"
   ]
  },
  {
   "cell_type": "markdown",
   "id": "b737370e",
   "metadata": {},
   "source": [
    "We'll dig further into providing parameters to an API query in the next section, but we'll also quickly investigate other forms in which semi-structured data could be returned by an API. **XML** is another common format, that's more akin to HTML in its syntax.\n",
    "\n",
    "We'll try calling a specific API reference from the [World Bank API](https://documents.worldbank.org/en/publication/documents-reports/api), which provides many free economic metrics, among which population features. The URL below returns Australia's population over time, as represented in [their own webpages](https://data.worldbank.org/indicator/SP.POP.TOTL?locations=AU).\n",
    "\n",
    "The cell below will visually yield nothing of particular use, just the HTTP status code of our request (you should get [200](https://en.wikipedia.org/wiki/List_of_HTTP_status_codes), which indicates success)."
   ]
  },
  {
   "cell_type": "code",
   "execution_count": 8,
   "id": "10a42625",
   "metadata": {},
   "outputs": [
    {
     "data": {
      "text/plain": [
       "<Response [200]>"
      ]
     },
     "execution_count": 8,
     "metadata": {},
     "output_type": "execute_result"
    }
   ],
   "source": [
    "response = requests.get(\"https://api.worldbank.org/v2/country/AU/indicator/SP.POP.TOTL?date=1994:2024\")\n",
    "response"
   ]
  },
  {
   "cell_type": "markdown",
   "id": "dea657b7",
   "metadata": {},
   "source": [
    "Since XML is so similar to HTML, we can return to the BeautifulSoup library from last week, and use this to read in our data (this time using the `xml` parser, rather than `html5lib`)."
   ]
  },
  {
   "cell_type": "code",
   "execution_count": 9,
   "id": "6b1db973",
   "metadata": {},
   "outputs": [
    {
     "data": {
      "text/plain": [
       "<?xml version=\"1.0\" encoding=\"utf-8\"?>"
      ]
     },
     "execution_count": 9,
     "metadata": {},
     "output_type": "execute_result"
    }
   ],
   "source": [
    "from bs4 import BeautifulSoup\n",
    "content = BeautifulSoup(response.text, 'xml')\n",
    "content"
   ]
  },
  {
   "cell_type": "markdown",
   "id": "9ac57953",
   "metadata": {},
   "source": [
    "From there, we can again deconstruct the output in a similar manner. This is more to demonstrate what can be done - compare the code below to the XML output received when directly visiting the webpage requested yourself."
   ]
  },
  {
   "cell_type": "code",
   "execution_count": 10,
   "id": "9fc03988",
   "metadata": {},
   "outputs": [
    {
     "name": "stdout",
     "output_type": "stream",
     "text": [
      "2019: 25303000\n",
      "2018: 24982688\n",
      "2017: 24601860\n",
      "2016: 24190907\n",
      "2015: 23815995\n",
      "2014: 23475686\n",
      "2013: 23128129\n",
      "2012: 22733465\n",
      "2011: 22340024\n",
      "2010: 22031750\n",
      "2009: 21691700\n",
      "2008: 21249200\n",
      "2007: 20827600\n",
      "2006: 20697900\n",
      "2005: 20394800\n",
      "2004: 20127400\n",
      "2003: 19895400\n",
      "2002: 19651400\n",
      "2001: 19413000\n",
      "2000: 19153000\n",
      "1999: 18926000\n",
      "1998: 18711000\n",
      "1997: 18517000\n",
      "1996: 18311000\n",
      "1995: 18072000\n",
      "1994: 17855000\n"
     ]
    }
   ],
   "source": [
    "content = BeautifulSoup(response.text, 'lxml')  # parsing the webpage content as XML\n",
    "for x in content.find_all('wb:data'):  # iterating through each \"wb:data\" tag\n",
    "    if x.find('wb:value').text:  # if a value exists for a given row\n",
    "        print(x.find('wb:date').text, ': ', x.find('wb:value').text, sep='')  # print"
   ]
  },
  {
   "cell_type": "markdown",
   "id": "416fafa7",
   "metadata": {},
   "source": [
    "Ultimately, the above examples are simplistic, in that the URLs required to access data are self-contained (no further iteration necessary), and the information that is provided is singular (a simple dictionary or image). Often the data we seek to extract is much more complicated.\n",
    "\n",
    "We'll explore some further expansions in Sections 3-4, but first, with the group assignment pending, we'll segue into the extraction of geospatial data via APIs:"
   ]
  },
  {
   "cell_type": "markdown",
   "id": "4df866e6",
   "metadata": {},
   "source": [
    "## 2. Spatial Data APIs"
   ]
  },
  {
   "cell_type": "markdown",
   "id": "86af734b",
   "metadata": {},
   "source": [
    "APIs can return spatial data, which we'll cover in further depth next week (Week 8). The group assignment involves usage of the [NSW Points of Interest API](https://datasets.seed.nsw.gov.au/dataset/nsw-points-of-interest-poi), which we'll provide a demonstration of below.\n",
    "\n",
    "If you open up the \"SEED Map\" linked in the linked page above, you'll be able to scroll around and see many points of interest. Let's hone in on Fisher Library, for example. The cell below demonstrates how query string parameters can be used (noting of course that documentation must be consulted to know what fields and values are acceptable!):"
   ]
  },
  {
   "cell_type": "code",
   "execution_count": 11,
   "id": "4b69cd91",
   "metadata": {},
   "outputs": [
    {
     "data": {
      "text/plain": [
       "<Response [200]>"
      ]
     },
     "execution_count": 11,
     "metadata": {},
     "output_type": "execute_result"
    }
   ],
   "source": [
    "params = {\n",
    "    'where': \"poiname='FISHER LIBRARY SYDNEY UNIVERSITY'\",\n",
    "    'outFields': '*',\n",
    "    'returnGeometry': 'true',\n",
    "    'f': 'json'\n",
    "}\n",
    "response = requests.get('https://maps.six.nsw.gov.au/arcgis/rest/services/public/NSW_POI/MapServer/0/query', params=params)\n",
    "response"
   ]
  },
  {
   "cell_type": "markdown",
   "id": "90fc6582",
   "metadata": {},
   "source": [
    "Hopefully the above cell returns a HTTP status code of 200, to indicate success. Unpacking the actual data itself:"
   ]
  },
  {
   "cell_type": "code",
   "execution_count": 12,
   "id": "85e4bb04",
   "metadata": {},
   "outputs": [
    {
     "name": "stdout",
     "output_type": "stream",
     "text": [
      "{\n",
      "  \"attributes\": {\n",
      "    \"objectid\": 3083,\n",
      "    \"topoid\": 500323885,\n",
      "    \"poigroup\": 1,\n",
      "    \"poitype\": \"Library\",\n",
      "    \"poiname\": \"FISHER LIBRARY SYDNEY UNIVERSITY\",\n",
      "    \"poilabel\": \"FISHER LIBRARY SYDNEY UNIVERSITY\",\n",
      "    \"poilabeltype\": \"NAMED\",\n",
      "    \"poialtlabel\": null,\n",
      "    \"poisourcefeatureoid\": 14,\n",
      "    \"accesscontrol\": 1,\n",
      "    \"startdate\": 1344594503000,\n",
      "    \"enddate\": 32503680000000,\n",
      "    \"lastupdate\": 1344594513266,\n",
      "    \"msoid\": 143190,\n",
      "    \"centroidid\": null,\n",
      "    \"shapeuuid\": \"71adb868-ad78-3335-adbb-222ed14d68a4\",\n",
      "    \"changetype\": \"M\",\n",
      "    \"processstate\": null,\n",
      "    \"urbanity\": \"U\"\n",
      "  },\n",
      "  \"geometry\": {\n",
      "    \"x\": 151.19049355206874,\n",
      "    \"y\": -33.886316917424516\n",
      "  }\n",
      "}\n"
     ]
    }
   ],
   "source": [
    "places = json.loads(response.text)\n",
    "print(json.dumps(places['features'][0], indent=2))"
   ]
  },
  {
   "cell_type": "markdown",
   "id": "83c81bd4",
   "metadata": {},
   "source": [
    "The above example is helpful if we want to return information about a specific POI already known by name to us. Instead of our `where` parameter, we'll utilise the API's `geometry` field, which allows us to define a geographical area of region of interest (by defining the corners via `xmin`, `xmax`, `ymin` and `ymax`).\n",
    "\n",
    "Consider the below helper function, which allows users to define a midpoint coordinate, then returns nearby POI values. The `boxsize` argument can be adjusted for wider or finer margins, and is defined in kilometres (e.g. `boxsize=5` as the default will yield a 5km by 5km region of interest around the midpoint):"
   ]
  },
  {
   "cell_type": "code",
   "execution_count": 13,
   "id": "3f22a213",
   "metadata": {},
   "outputs": [],
   "source": [
    "def nearbyPOI(coordinates, boxsize=5, filters={}):\n",
    "    baseURL = 'https://maps.six.nsw.gov.au/arcgis/rest/services/public/NSW_POI/MapServer/0/query'\n",
    "    lat, lon = round(coordinates[0], 5), round(coordinates[1], 5)\n",
    "    delta = boxsize/(100*2)  # Australia's DCCEEW defines 1 of a degree of latitude as roughly 1/100th of a km, hence division by 100. The extra division by 2 is to ensure the full width is divided in each direction (e.g. 2.5km left and right)\n",
    "    params = {\n",
    "        'geometry': f'\"xmin\":{lon-delta},\"ymin\":{lat-delta},\"xmax\":{lon+delta},\"ymax:{lat+delta}\"',\n",
    "        'outFields': '*',\n",
    "        'returnGeometry': 'true',\n",
    "        'f': 'json'\n",
    "    }\n",
    "    response = requests.get(baseURL, params)\n",
    "    return json.loads(response.text)['features']"
   ]
  },
  {
   "cell_type": "markdown",
   "id": "c04cb253",
   "metadata": {},
   "source": [
    "According to Google, the GPS coordinates of the USYD Quadrangle are as defined below. Let's test out our function:"
   ]
  },
  {
   "cell_type": "code",
   "execution_count": 14,
   "id": "a2d6ccb6",
   "metadata": {},
   "outputs": [
    {
     "data": {
      "text/plain": [
       "[{'attributes': {'objectid': 2631,\n",
       "   'topoid': 500301659,\n",
       "   'poigroup': 3,\n",
       "   'poitype': 'Park',\n",
       "   'poiname': 'RESIDENTS PARK',\n",
       "   'poilabel': 'RESIDENTS PARK',\n",
       "   'poilabeltype': 'NAMED',\n",
       "   'poialtlabel': None,\n",
       "   'poisourcefeatureoid': 61,\n",
       "   'accesscontrol': 1,\n",
       "   'startdate': 1285588392000,\n",
       "   'enddate': 32503680000000,\n",
       "   'lastupdate': 1285588392535,\n",
       "   'msoid': 90267,\n",
       "   'centroidid': None,\n",
       "   'shapeuuid': '5cb05e3e-2a29-3861-9afa-bb18de788110',\n",
       "   'changetype': 'I',\n",
       "   'processstate': None,\n",
       "   'urbanity': 'U'},\n",
       "  'geometry': {'x': 151.1881886978318, 'y': -33.88365602309533}},\n",
       " {'attributes': {'objectid': 3081,\n",
       "   'topoid': 500323830,\n",
       "   'poigroup': 3,\n",
       "   'poitype': 'Sports Field',\n",
       "   'poiname': 'ST PAULS OVAL',\n",
       "   'poilabel': 'ST PAULS OVAL',\n",
       "   'poilabeltype': 'NAMED',\n",
       "   'poialtlabel': None,\n",
       "   'poisourcefeatureoid': 67,\n",
       "   'accesscontrol': 1,\n",
       "   'startdate': 1285588392000,\n",
       "   'enddate': 32503680000000,\n",
       "   'lastupdate': 1285588392535,\n",
       "   'msoid': 99056,\n",
       "   'centroidid': None,\n",
       "   'shapeuuid': '0b1c85ee-56fc-362b-b1e5-4d1c0075dc26',\n",
       "   'changetype': 'I',\n",
       "   'processstate': None,\n",
       "   'urbanity': 'U'},\n",
       "  'geometry': {'x': 151.18853069185042, 'y': -33.88979530015789}},\n",
       " {'attributes': {'objectid': 3082,\n",
       "   'topoid': 500323874,\n",
       "   'poigroup': 2,\n",
       "   'poitype': 'University',\n",
       "   'poiname': 'THE UNIVERSITY OF SYDNEY CAMPERDOWN CAMPUS',\n",
       "   'poilabel': 'THE UNIVERSITY OF SYDNEY CAMPERDOWN CAMPUS',\n",
       "   'poilabeltype': 'NAMED',\n",
       "   'poialtlabel': None,\n",
       "   'poisourcefeatureoid': 39,\n",
       "   'accesscontrol': 1,\n",
       "   'startdate': 1295539150000,\n",
       "   'enddate': 32503680000000,\n",
       "   'lastupdate': 1295539152432,\n",
       "   'msoid': 121658,\n",
       "   'centroidid': None,\n",
       "   'shapeuuid': '8eaa6b25-4fd9-3b35-a021-05cd5a80f8f7',\n",
       "   'changetype': 'M',\n",
       "   'processstate': None,\n",
       "   'urbanity': 'U'},\n",
       "  'geometry': {'x': 151.18404387919574, 'y': -33.88809274495354}},\n",
       " {'attributes': {'objectid': 3083,\n",
       "   'topoid': 500323885,\n",
       "   'poigroup': 1,\n",
       "   'poitype': 'Library',\n",
       "   'poiname': 'FISHER LIBRARY SYDNEY UNIVERSITY',\n",
       "   'poilabel': 'FISHER LIBRARY SYDNEY UNIVERSITY',\n",
       "   'poilabeltype': 'NAMED',\n",
       "   'poialtlabel': None,\n",
       "   'poisourcefeatureoid': 14,\n",
       "   'accesscontrol': 1,\n",
       "   'startdate': 1344594503000,\n",
       "   'enddate': 32503680000000,\n",
       "   'lastupdate': 1344594513266,\n",
       "   'msoid': 143190,\n",
       "   'centroidid': None,\n",
       "   'shapeuuid': '71adb868-ad78-3335-adbb-222ed14d68a4',\n",
       "   'changetype': 'M',\n",
       "   'processstate': None,\n",
       "   'urbanity': 'U'},\n",
       "  'geometry': {'x': 151.19049355206874, 'y': -33.886316917424516}},\n",
       " {'attributes': {'objectid': 3084,\n",
       "   'topoid': 500323930,\n",
       "   'poigroup': 1,\n",
       "   'poitype': 'Place Of Worship',\n",
       "   'poiname': None,\n",
       "   'poilabel': 'CHURCH OF SCIENTOLOGY',\n",
       "   'poilabeltype': 'DERIVED',\n",
       "   'poialtlabel': 'SCIENTOLOGY',\n",
       "   'poisourcefeatureoid': 19,\n",
       "   'accesscontrol': 1,\n",
       "   'startdate': 1285588392000,\n",
       "   'enddate': 32503680000000,\n",
       "   'lastupdate': 1285588392535,\n",
       "   'msoid': 61557,\n",
       "   'centroidid': None,\n",
       "   'shapeuuid': '8340099d-de71-380a-8ddd-cd6e95949f2b',\n",
       "   'changetype': 'I',\n",
       "   'processstate': None,\n",
       "   'urbanity': 'U'},\n",
       "  'geometry': {'x': 151.1936031297135, 'y': -33.882700490025925}},\n",
       " {'attributes': {'objectid': 25908,\n",
       "   'topoid': 504377168,\n",
       "   'poigroup': 6,\n",
       "   'poitype': 'Manmade Waterbody',\n",
       "   'poiname': 'LAKE NORTHAM',\n",
       "   'poilabel': 'LAKE NORTHAM',\n",
       "   'poilabeltype': 'NAMED',\n",
       "   'poialtlabel': None,\n",
       "   'poisourcefeatureoid': 84,\n",
       "   'accesscontrol': 1,\n",
       "   'startdate': 1552501037000,\n",
       "   'enddate': 32503680000000,\n",
       "   'lastupdate': 1552501072915,\n",
       "   'msoid': 219575,\n",
       "   'centroidid': None,\n",
       "   'shapeuuid': '3448f07b-3b2d-3805-a09e-ba30333b09d0',\n",
       "   'changetype': 'M',\n",
       "   'processstate': None,\n",
       "   'urbanity': 'U'},\n",
       "  'geometry': {'x': 151.19320416992952, 'y': -33.88518713363017}},\n",
       " {'attributes': {'objectid': 26539,\n",
       "   'topoid': 504378644,\n",
       "   'poigroup': 1,\n",
       "   'poitype': 'Fire Station',\n",
       "   'poiname': 'GLEBE FIRE STATION',\n",
       "   'poilabel': 'GLEBE FIRE STATION',\n",
       "   'poilabeltype': 'NAMED',\n",
       "   'poialtlabel': None,\n",
       "   'poisourcefeatureoid': 10,\n",
       "   'accesscontrol': 1,\n",
       "   'startdate': 1285588392000,\n",
       "   'enddate': 32503680000000,\n",
       "   'lastupdate': 1285588392535,\n",
       "   'msoid': 9876,\n",
       "   'centroidid': None,\n",
       "   'shapeuuid': '64fee7de-43d6-3775-b776-a99c8918ba99',\n",
       "   'changetype': 'I',\n",
       "   'processstate': None,\n",
       "   'urbanity': 'U'},\n",
       "  'geometry': {'x': 151.18659576294922, 'y': -33.88122067117969}},\n",
       " {'attributes': {'objectid': 26663,\n",
       "   'topoid': 504378896,\n",
       "   'poigroup': 3,\n",
       "   'poitype': 'Sports Court',\n",
       "   'poiname': None,\n",
       "   'poilabel': 'TENNIS COURTS',\n",
       "   'poilabeltype': 'ALTERNATE',\n",
       "   'poialtlabel': 'TENNIS COURTS',\n",
       "   'poisourcefeatureoid': 66,\n",
       "   'accesscontrol': 1,\n",
       "   'startdate': 1285588392000,\n",
       "   'enddate': 32503680000000,\n",
       "   'lastupdate': 1285588392535,\n",
       "   'msoid': 98741,\n",
       "   'centroidid': None,\n",
       "   'shapeuuid': '5b54e512-d360-3d93-9595-e536aa0a9730',\n",
       "   'changetype': 'I',\n",
       "   'processstate': None,\n",
       "   'urbanity': 'U'},\n",
       "  'geometry': {'x': 151.1904434440422, 'y': -33.88526745972515}},\n",
       " {'attributes': {'objectid': 26665,\n",
       "   'topoid': 504378906,\n",
       "   'poigroup': 3,\n",
       "   'poitype': 'Sports Field',\n",
       "   'poiname': 'UNIVERSITY OVAL NUMBER TWO',\n",
       "   'poilabel': 'UNIVERSITY OVAL NUMBER TWO',\n",
       "   'poilabeltype': 'NAMED',\n",
       "   'poialtlabel': None,\n",
       "   'poisourcefeatureoid': 67,\n",
       "   'accesscontrol': 1,\n",
       "   'startdate': 1417170896000,\n",
       "   'enddate': 32503680000000,\n",
       "   'lastupdate': 1417170931768,\n",
       "   'msoid': 172352,\n",
       "   'centroidid': None,\n",
       "   'shapeuuid': '3ddb6c32-4fe2-384c-8144-2c56470f82b5',\n",
       "   'changetype': 'M',\n",
       "   'processstate': None,\n",
       "   'urbanity': 'U'},\n",
       "  'geometry': {'x': 151.1848294379454, 'y': -33.88652303536095}},\n",
       " {'attributes': {'objectid': 26666,\n",
       "   'topoid': 504378907,\n",
       "   'poigroup': 3,\n",
       "   'poitype': 'Sports Field',\n",
       "   'poiname': 'UNIVERSITY OVAL NUMBER ONE',\n",
       "   'poilabel': 'UNIVERSITY OVAL NUMBER ONE',\n",
       "   'poilabeltype': 'NAMED',\n",
       "   'poialtlabel': None,\n",
       "   'poisourcefeatureoid': 67,\n",
       "   'accesscontrol': 1,\n",
       "   'startdate': 1417170896000,\n",
       "   'enddate': 32503680000000,\n",
       "   'lastupdate': 1417170931770,\n",
       "   'msoid': 172353,\n",
       "   'centroidid': None,\n",
       "   'shapeuuid': '0f8a79ac-bdf3-3f86-ad0d-183a6555d34b',\n",
       "   'changetype': 'M',\n",
       "   'processstate': None,\n",
       "   'urbanity': 'U'},\n",
       "  'geometry': {'x': 151.18501203400166, 'y': -33.88793659245211}},\n",
       " {'attributes': {'objectid': 26667,\n",
       "   'topoid': 504378908,\n",
       "   'poigroup': 3,\n",
       "   'poitype': 'Sports Court',\n",
       "   'poiname': None,\n",
       "   'poilabel': 'TENNIS COURTS',\n",
       "   'poilabeltype': 'ALTERNATE',\n",
       "   'poialtlabel': 'TENNIS COURTS',\n",
       "   'poisourcefeatureoid': 66,\n",
       "   'accesscontrol': 1,\n",
       "   'startdate': 1285588392000,\n",
       "   'enddate': 32503680000000,\n",
       "   'lastupdate': 1285588392535,\n",
       "   'msoid': 98364,\n",
       "   'centroidid': None,\n",
       "   'shapeuuid': 'bc16417d-9b0b-35d4-9ae4-2b26f83df2f9',\n",
       "   'changetype': 'I',\n",
       "   'processstate': None,\n",
       "   'urbanity': 'U'},\n",
       "  'geometry': {'x': 151.18796412350235, 'y': -33.8875029509993}},\n",
       " {'attributes': {'objectid': 26668,\n",
       "   'topoid': 504378910,\n",
       "   'poigroup': 3,\n",
       "   'poitype': 'Sports Field',\n",
       "   'poiname': 'ST ANDREWS OVAL',\n",
       "   'poilabel': 'ST ANDREWS OVAL',\n",
       "   'poilabeltype': 'NAMED',\n",
       "   'poialtlabel': None,\n",
       "   'poisourcefeatureoid': 67,\n",
       "   'accesscontrol': 1,\n",
       "   'startdate': 1285588392000,\n",
       "   'enddate': 32503680000000,\n",
       "   'lastupdate': 1285588392535,\n",
       "   'msoid': 99790,\n",
       "   'centroidid': None,\n",
       "   'shapeuuid': '646101b6-be8d-335b-9314-d7c8087e36c3',\n",
       "   'changetype': 'I',\n",
       "   'processstate': None,\n",
       "   'urbanity': 'U'},\n",
       "  'geometry': {'x': 151.1847220048273, 'y': -33.8905614070346}},\n",
       " {'attributes': {'objectid': 26674,\n",
       "   'topoid': 504378924,\n",
       "   'poigroup': 3,\n",
       "   'poitype': 'Park',\n",
       "   'poiname': 'VICTORIA PARK',\n",
       "   'poilabel': 'VICTORIA PARK',\n",
       "   'poilabeltype': 'NAMED',\n",
       "   'poialtlabel': None,\n",
       "   'poisourcefeatureoid': 61,\n",
       "   'accesscontrol': 1,\n",
       "   'startdate': 1285588392000,\n",
       "   'enddate': 32503680000000,\n",
       "   'lastupdate': 1285588392535,\n",
       "   'msoid': 93840,\n",
       "   'centroidid': None,\n",
       "   'shapeuuid': '3b66ab08-72fa-33a3-b670-ddb4ffc116f4',\n",
       "   'changetype': 'I',\n",
       "   'processstate': None,\n",
       "   'urbanity': 'U'},\n",
       "  'geometry': {'x': 151.1921127069778, 'y': -33.88691676974374}},\n",
       " {'attributes': {'objectid': 26675,\n",
       "   'topoid': 504378925,\n",
       "   'poigroup': 1,\n",
       "   'poitype': 'Post Office',\n",
       "   'poiname': 'SYDNEY UNIVERSITY POST OFFICE',\n",
       "   'poilabel': 'SYDNEY UNIVERSITY POST OFFICE',\n",
       "   'poilabeltype': 'NAMED',\n",
       "   'poialtlabel': None,\n",
       "   'poisourcefeatureoid': 21,\n",
       "   'accesscontrol': 1,\n",
       "   'startdate': 1319808298000,\n",
       "   'enddate': 32503680000000,\n",
       "   'lastupdate': 1319808324826,\n",
       "   'msoid': 132681,\n",
       "   'centroidid': None,\n",
       "   'shapeuuid': 'cd68136a-f083-3f4d-a3d7-e88e48010af4',\n",
       "   'changetype': 'M',\n",
       "   'processstate': None,\n",
       "   'urbanity': 'U'},\n",
       "  'geometry': {'x': 151.18757732780568, 'y': -33.88574837738632}},\n",
       " {'attributes': {'objectid': 53911,\n",
       "   'topoid': 511797580,\n",
       "   'poigroup': 8,\n",
       "   'poitype': 'Urban Place',\n",
       "   'poiname': 'THE UNIVERSITY OF SYDNEY',\n",
       "   'poilabel': 'THE UNIVERSITY OF SYDNEY',\n",
       "   'poilabeltype': 'NAMED',\n",
       "   'poialtlabel': None,\n",
       "   'poisourcefeatureoid': 164,\n",
       "   'accesscontrol': 1,\n",
       "   'startdate': 1536763238000,\n",
       "   'enddate': 32503680000000,\n",
       "   'lastupdate': 1536763494189,\n",
       "   'msoid': 214323,\n",
       "   'centroidid': None,\n",
       "   'shapeuuid': '92bf9d88-b272-3552-a6c7-2ea9e9614156',\n",
       "   'changetype': 'M',\n",
       "   'processstate': None,\n",
       "   'urbanity': 'U'},\n",
       "  'geometry': {'x': 151.18490442122052, 'y': -33.88671430011861}},\n",
       " {'attributes': {'objectid': 70383,\n",
       "   'topoid': 512860061,\n",
       "   'poigroup': 1,\n",
       "   'poitype': 'Community Facility',\n",
       "   'poiname': 'GLEBE TOWN HALL',\n",
       "   'poilabel': 'GLEBE TOWN HALL',\n",
       "   'poilabeltype': 'NAMED',\n",
       "   'poialtlabel': None,\n",
       "   'poisourcefeatureoid': 162,\n",
       "   'accesscontrol': 1,\n",
       "   'startdate': 1443790574000,\n",
       "   'enddate': 32503680000000,\n",
       "   'lastupdate': 1443790872000,\n",
       "   'msoid': 196413,\n",
       "   'centroidid': None,\n",
       "   'shapeuuid': '1b1e2a35-8946-308c-83ee-e57ea890ba03',\n",
       "   'changetype': 'M',\n",
       "   'processstate': None,\n",
       "   'urbanity': 'U'},\n",
       "  'geometry': {'x': 151.18498549147998, 'y': -33.882524105479284}},\n",
       " {'attributes': {'objectid': 70623,\n",
       "   'topoid': 512862604,\n",
       "   'poigroup': 1,\n",
       "   'poitype': 'Community Facility',\n",
       "   'poiname': 'ST JOHNS CHURCH HALL',\n",
       "   'poilabel': 'ST JOHNS CHURCH HALL',\n",
       "   'poilabeltype': 'NAMED',\n",
       "   'poialtlabel': None,\n",
       "   'poisourcefeatureoid': 162,\n",
       "   'accesscontrol': 1,\n",
       "   'startdate': 1443790574000,\n",
       "   'enddate': 32503680000000,\n",
       "   'lastupdate': 1443790872000,\n",
       "   'msoid': 196579,\n",
       "   'centroidid': None,\n",
       "   'shapeuuid': '7c68d33d-689b-337f-966f-7db56c54f8de',\n",
       "   'changetype': 'M',\n",
       "   'processstate': None,\n",
       "   'urbanity': 'U'},\n",
       "  'geometry': {'x': 151.18724858303923, 'y': -33.88138157463152}},\n",
       " {'attributes': {'objectid': 107279,\n",
       "   'topoid': 515562331,\n",
       "   'poigroup': 2,\n",
       "   'poitype': 'High School',\n",
       "   'poiname': 'AUSTRALIAN PERFORMING ARTS GRAMMAR SCHOOL',\n",
       "   'poilabel': 'AUSTRALIAN PERFORMING ARTS GRAMMAR SCHOOL',\n",
       "   'poilabeltype': 'NAMED',\n",
       "   'poialtlabel': None,\n",
       "   'poisourcefeatureoid': 34,\n",
       "   'accesscontrol': 1,\n",
       "   'startdate': 1374072878000,\n",
       "   'enddate': 32503680000000,\n",
       "   'lastupdate': 1374073112333,\n",
       "   'msoid': 158467,\n",
       "   'centroidid': None,\n",
       "   'shapeuuid': '435bc87f-3fc7-3afd-a890-d0d755943730',\n",
       "   'changetype': 'M',\n",
       "   'processstate': None,\n",
       "   'urbanity': 'U'},\n",
       "  'geometry': {'x': 151.19366048175448, 'y': -33.88430817941234}},\n",
       " {'attributes': {'objectid': 108373,\n",
       "   'topoid': 515685708,\n",
       "   'poigroup': 1,\n",
       "   'poitype': 'Place Of Worship',\n",
       "   'poiname': None,\n",
       "   'poilabel': 'ANGLICAN CHURCH',\n",
       "   'poilabeltype': 'DERIVED',\n",
       "   'poialtlabel': 'ANGLICAN',\n",
       "   'poisourcefeatureoid': 19,\n",
       "   'accesscontrol': 1,\n",
       "   'startdate': 1285588392000,\n",
       "   'enddate': 32503680000000,\n",
       "   'lastupdate': 1285588392535,\n",
       "   'msoid': 59205,\n",
       "   'centroidid': None,\n",
       "   'shapeuuid': '2898b175-f001-392b-80a7-658f2d8533d3',\n",
       "   'changetype': 'I',\n",
       "   'processstate': None,\n",
       "   'urbanity': 'U'},\n",
       "  'geometry': {'x': 151.18727160236838, 'y': -33.88066683159134}},\n",
       " {'attributes': {'objectid': 109281,\n",
       "   'topoid': 515790676,\n",
       "   'poigroup': 1,\n",
       "   'poitype': 'Retirement Village',\n",
       "   'poiname': \"ST JOHN'S VILLAGE\",\n",
       "   'poilabel': \"ST JOHN'S VILLAGE\",\n",
       "   'poilabeltype': 'NAMED',\n",
       "   'poialtlabel': None,\n",
       "   'poisourcefeatureoid': 132,\n",
       "   'accesscontrol': 1,\n",
       "   'startdate': 1384949695000,\n",
       "   'enddate': 32503680000000,\n",
       "   'lastupdate': 1384949797463,\n",
       "   'msoid': 164353,\n",
       "   'centroidid': None,\n",
       "   'shapeuuid': '355c09e7-040e-33ed-ac01-b65cff286515',\n",
       "   'changetype': 'M',\n",
       "   'processstate': None,\n",
       "   'urbanity': 'U'},\n",
       "  'geometry': {'x': 151.18671958223644, 'y': -33.88090060326981}},\n",
       " {'attributes': {'objectid': 115604,\n",
       "   'topoid': 517014272,\n",
       "   'poigroup': 2,\n",
       "   'poitype': 'Primary School',\n",
       "   'poiname': 'GLEBE PUBLIC SCHOOL',\n",
       "   'poilabel': 'GLEBE PUBLIC SCHOOL',\n",
       "   'poilabeltype': 'NAMED',\n",
       "   'poialtlabel': None,\n",
       "   'poisourcefeatureoid': 36,\n",
       "   'accesscontrol': 1,\n",
       "   'startdate': 1310035029000,\n",
       "   'enddate': 32503680000000,\n",
       "   'lastupdate': 1310035091717,\n",
       "   'msoid': 127477,\n",
       "   'centroidid': None,\n",
       "   'shapeuuid': '2f744de9-820d-34b9-b779-04a255038645',\n",
       "   'changetype': 'I',\n",
       "   'processstate': None,\n",
       "   'urbanity': 'U'},\n",
       "  'geometry': {'x': 151.19089824040927, 'y': -33.88388095611545}},\n",
       " {'attributes': {'objectid': 130679,\n",
       "   'topoid': 517470903,\n",
       "   'poigroup': 1,\n",
       "   'poitype': 'Community Facility',\n",
       "   'poiname': 'PETER FORSYTH AUDITORIUM',\n",
       "   'poilabel': 'PETER FORSYTH AUDITORIUM',\n",
       "   'poilabeltype': 'NAMED',\n",
       "   'poialtlabel': None,\n",
       "   'poisourcefeatureoid': 162,\n",
       "   'accesscontrol': 1,\n",
       "   'startdate': 1443790574000,\n",
       "   'enddate': 32503680000000,\n",
       "   'lastupdate': 1443790873000,\n",
       "   'msoid': 197061,\n",
       "   'centroidid': None,\n",
       "   'shapeuuid': '4c2d0daf-cd0b-3d64-9891-baad416786f9',\n",
       "   'changetype': 'M',\n",
       "   'processstate': None,\n",
       "   'urbanity': 'U'},\n",
       "  'geometry': {'x': 151.19273645668696, 'y': -33.88314048664811}},\n",
       " {'attributes': {'objectid': 130680,\n",
       "   'topoid': 517470908,\n",
       "   'poigroup': 1,\n",
       "   'poitype': 'Community Facility',\n",
       "   'poiname': 'GLEBE NEIGHBOURHOOD SERVICE CENTRE',\n",
       "   'poilabel': 'GLEBE NEIGHBOURHOOD SERVICE CENTRE',\n",
       "   'poilabeltype': 'NAMED',\n",
       "   'poialtlabel': None,\n",
       "   'poisourcefeatureoid': 162,\n",
       "   'accesscontrol': 1,\n",
       "   'startdate': 1443790574000,\n",
       "   'enddate': 32503680000000,\n",
       "   'lastupdate': 1443790873000,\n",
       "   'msoid': 197062,\n",
       "   'centroidid': None,\n",
       "   'shapeuuid': 'aecfa15e-b728-38b6-be46-5dca3a1ad731',\n",
       "   'changetype': 'M',\n",
       "   'processstate': None,\n",
       "   'urbanity': 'U'},\n",
       "  'geometry': {'x': 151.1851525889026, 'y': -33.88255207317277}},\n",
       " {'attributes': {'objectid': 138538,\n",
       "   'topoid': 518089424,\n",
       "   'poigroup': 3,\n",
       "   'poitype': 'Park',\n",
       "   'poiname': 'ROBYN KEMMIS RESERVE',\n",
       "   'poilabel': 'ROBYN KEMMIS RESERVE',\n",
       "   'poilabeltype': 'NAMED',\n",
       "   'poialtlabel': None,\n",
       "   'poisourcefeatureoid': 61,\n",
       "   'accesscontrol': 1,\n",
       "   'startdate': 1506359251000,\n",
       "   'enddate': 32503680000000,\n",
       "   'lastupdate': 1506359280000,\n",
       "   'msoid': 210100,\n",
       "   'centroidid': None,\n",
       "   'shapeuuid': 'c736bc3b-5ae1-33d3-a035-a78352b8c77f',\n",
       "   'changetype': 'I',\n",
       "   'processstate': None,\n",
       "   'urbanity': 'U'},\n",
       "  'geometry': {'x': 151.1923036043656, 'y': -33.88237733795541}},\n",
       " {'attributes': {'objectid': 163819,\n",
       "   'topoid': 504378897,\n",
       "   'poigroup': 3,\n",
       "   'poitype': 'Swimming Pool Facility',\n",
       "   'poiname': 'VICTORIA PARK POOL',\n",
       "   'poilabel': 'VICTORIA PARK POOL',\n",
       "   'poilabeltype': 'NAMED',\n",
       "   'poialtlabel': None,\n",
       "   'poisourcefeatureoid': 43,\n",
       "   'accesscontrol': 1,\n",
       "   'startdate': 1743512465000,\n",
       "   'enddate': 32503680000000,\n",
       "   'lastupdate': 1743513891586,\n",
       "   'msoid': 245423,\n",
       "   'centroidid': None,\n",
       "   'shapeuuid': '96bb017c-742e-3a92-bf5b-7e3ddba75e56',\n",
       "   'changetype': 'M',\n",
       "   'processstate': None,\n",
       "   'urbanity': 'U'},\n",
       "  'geometry': {'x': 151.19231212847933, 'y': -33.88615345049869}}]"
      ]
     },
     "execution_count": 14,
     "metadata": {},
     "output_type": "execute_result"
    }
   ],
   "source": [
    "coordinates = (-33.88566318983135, 151.18885144061616) \n",
    "results = nearbyPOI(coordinates, boxsize=1)\n",
    "results"
   ]
  },
  {
   "cell_type": "markdown",
   "id": "c6a4c6b3",
   "metadata": {},
   "source": [
    "There's a lot there! Summarising further to sanity check:"
   ]
  },
  {
   "cell_type": "code",
   "execution_count": 15,
   "id": "be1e2f1f",
   "metadata": {},
   "outputs": [
    {
     "data": {
      "text/plain": [
       "['RESIDENTS PARK',\n",
       " 'ST PAULS OVAL',\n",
       " 'THE UNIVERSITY OF SYDNEY CAMPERDOWN CAMPUS',\n",
       " 'FISHER LIBRARY SYDNEY UNIVERSITY',\n",
       " 'LAKE NORTHAM',\n",
       " 'GLEBE FIRE STATION',\n",
       " 'UNIVERSITY OVAL NUMBER TWO',\n",
       " 'UNIVERSITY OVAL NUMBER ONE',\n",
       " 'ST ANDREWS OVAL',\n",
       " 'VICTORIA PARK',\n",
       " 'SYDNEY UNIVERSITY POST OFFICE',\n",
       " 'THE UNIVERSITY OF SYDNEY',\n",
       " 'GLEBE TOWN HALL',\n",
       " 'ST JOHNS CHURCH HALL',\n",
       " 'AUSTRALIAN PERFORMING ARTS GRAMMAR SCHOOL',\n",
       " \"ST JOHN'S VILLAGE\",\n",
       " 'GLEBE PUBLIC SCHOOL',\n",
       " 'PETER FORSYTH AUDITORIUM',\n",
       " 'GLEBE NEIGHBOURHOOD SERVICE CENTRE',\n",
       " 'ROBYN KEMMIS RESERVE',\n",
       " 'VICTORIA PARK POOL']"
      ]
     },
     "execution_count": 15,
     "metadata": {},
     "output_type": "execute_result"
    }
   ],
   "source": [
    "[x['attributes']['poiname'] for x in results if x['attributes']['poiname']]"
   ]
  },
  {
   "cell_type": "markdown",
   "id": "b9f91b57",
   "metadata": {},
   "source": [
    "#### A parting note on application for the group assignment..."
   ]
  },
  {
   "cell_type": "markdown",
   "id": "46c526a5",
   "metadata": {},
   "source": [
    "The above function we built returns anything nearby a given **point** (latitude/longitude coordinates of a midpoint), *using* a bounding box.\n",
    "\n",
    "This will need to be extended for the group assignment, as the requirements there are to iterate through each SA2 area within your selected regions, to find its bounding box, and to feed **this bounding box** into a similar function (i.e. not midpoint based).\n",
    "\n",
    "Next week we'll also look further into how the geographic output (i.e. the x/y coordinates of each returned POI) are best to be processed and stored, both in Pandas (GeoPandas) and SQL (PostGIS). More on that then - but the example above should suffice for demonstration purposes."
   ]
  },
  {
   "cell_type": "markdown",
   "id": "e2b3c04b",
   "metadata": {},
   "source": [
    "## 3. Extracting Data Using Web APIs"
   ]
  },
  {
   "cell_type": "markdown",
   "id": "f99e7f14",
   "metadata": {},
   "source": [
    "Most of the following examples will focus on [Project Gutenberg](https://en.wikipedia.org/wiki/Project_Gutenberg), an altriustic undertaking that has focused on digitising and providing culturally important texts for now 50 years. As part of this motivation to ensure open access to all, there is a \"[Gutendex](https://gutendex.com/)\" which allows API access to metadata of all books in the collection. Check out it's documentation (linked above)!"
   ]
  },
  {
   "cell_type": "markdown",
   "id": "74f606e6",
   "metadata": {},
   "source": [
    "### 3.1 Nested JSON Objects"
   ]
  },
  {
   "cell_type": "markdown",
   "id": "637931dc",
   "metadata": {},
   "source": [
    "As described in the documentation, we can load in book data from across their library by combining the URL they provide, and our requests/JSON Python approach from before. This returns a JSON objects with a few attributes:"
   ]
  },
  {
   "cell_type": "code",
   "execution_count": 16,
   "id": "d314ace3",
   "metadata": {},
   "outputs": [
    {
     "data": {
      "text/plain": [
       "dict_keys(['count', 'next', 'previous', 'results'])"
      ]
     },
     "execution_count": 16,
     "metadata": {},
     "output_type": "execute_result"
    }
   ],
   "source": [
    "books = json.loads(requests.get('https://gutendex.com/books').text)\n",
    "books.keys()"
   ]
  },
  {
   "cell_type": "markdown",
   "id": "1880b776",
   "metadata": {},
   "source": [
    "If we briefly investigate the data types of each of the four objects, we can see `count` is a number, `next` is a simple string, `previous` is empty, and `results` will likely contain the bulk of what we're interested in, given it is a list."
   ]
  },
  {
   "cell_type": "code",
   "execution_count": 17,
   "id": "bf18d67c",
   "metadata": {},
   "outputs": [
    {
     "name": "stdout",
     "output_type": "stream",
     "text": [
      "count <class 'int'>\n",
      "next <class 'str'>\n",
      "previous <class 'NoneType'>\n",
      "results <class 'list'>\n"
     ]
    }
   ],
   "source": [
    "for k in books.keys():\n",
    "    print(k, type(books[k]))"
   ]
  },
  {
   "cell_type": "markdown",
   "id": "18ee3dd7",
   "metadata": {},
   "source": [
    "Equipped with this knowledge, we can investigate the values of each. The `count` reveals the current size of the Gutenberg digital library - **over 75,000 texts**! Yet despite so many texts, it appears **only 32 have been returned** in our `results` object. This is intentional, to avoid our API call unintentionally extracting everything at once, which could be a massive download of information (even when just metadata!). There is a way around this involving pagination, which we'll discuss later, and involves the `next` field."
   ]
  },
  {
   "cell_type": "code",
   "execution_count": 18,
   "id": "c7bbd990",
   "metadata": {},
   "outputs": [
    {
     "name": "stdout",
     "output_type": "stream",
     "text": [
      "Count: 75623\n",
      "Results: 32\n",
      "Next: https://gutendex.com/books/?page=2\n"
     ]
    }
   ],
   "source": [
    "print('Count:', books['count'])\n",
    "print('Results:', len(books['results']))\n",
    "print('Next:', books['next'])"
   ]
  },
  {
   "cell_type": "markdown",
   "id": "be451554",
   "metadata": {},
   "source": [
    "Let's investigate our `results` object by considering just an arbitrary item - Shakespeare's famous play \"Romeo and Juliet\" is the fifth most downloaded (index #4), for example.\n",
    "\n",
    "This is a good example of a proper **JSON object**, which is effectively just a combination of nested lists and dictionaries. For example, while `id` may be a simple field with a single number, `authors` is a list, in case a text was written by multiple people, and each value within the list is a dictionary, to allow distinction between author fields (their name, birth year and death year)."
   ]
  },
  {
   "cell_type": "code",
   "execution_count": 19,
   "id": "9c460333",
   "metadata": {},
   "outputs": [
    {
     "data": {
      "text/plain": [
       "{'id': 1513,\n",
       " 'title': 'Romeo and Juliet',\n",
       " 'authors': [{'name': 'Shakespeare, William',\n",
       "   'birth_year': 1564,\n",
       "   'death_year': 1616}],\n",
       " 'summaries': ['\"Romeo and Juliet\" by William Shakespeare is a tragedy likely written during the late 16th century. The play centers on the intense love affair between two young lovers, Romeo Montague and Juliet Capulet, whose families are embroiled in a bitter feud. Their love, while passionate and profound, is met with adversities that ultimately lead to tragic consequences.  At the start of the play, a Prologue delivered by the Chorus sets the stage for the tale of forbidden love, revealing the familial conflict that surrounds Romeo and Juliet. The opening scenes depict a public brawl ignited by the feud between the Montagues and Capulets, showcasing the hostility that envelops their lives. As we are introduced to various characters such as Benvolio, Tybalt, and Mercutio, we learn of Romeo\\'s unrequited love for Rosaline. However, this quickly changes when Romeo encounters Juliet at the Capulet ball, where they share a famous and romantic exchange, unwittingly falling in love with each other despite their families\\' bitter enmity. This initial encounter foreshadows the obstacles they will face as their love story unfolds amidst chaos and conflict. (This is an automatically generated summary.)'],\n",
       " 'translators': [],\n",
       " 'subjects': ['Conflict of generations -- Drama',\n",
       "  'Juliet (Fictitious character) -- Drama',\n",
       "  'Romeo (Fictitious character) -- Drama',\n",
       "  'Tragedies (Drama)',\n",
       "  'Vendetta -- Drama',\n",
       "  'Verona (Italy) -- Drama',\n",
       "  'Youth -- Drama'],\n",
       " 'bookshelves': ['Browsing: Fiction',\n",
       "  'Browsing: Literature',\n",
       "  'Browsing: Poetry'],\n",
       " 'languages': ['en'],\n",
       " 'copyright': False,\n",
       " 'media_type': 'Text',\n",
       " 'formats': {'text/html': 'https://www.gutenberg.org/ebooks/1513.html.images',\n",
       "  'application/epub+zip': 'https://www.gutenberg.org/ebooks/1513.epub3.images',\n",
       "  'application/x-mobipocket-ebook': 'https://www.gutenberg.org/ebooks/1513.kf8.images',\n",
       "  'application/rdf+xml': 'https://www.gutenberg.org/ebooks/1513.rdf',\n",
       "  'image/jpeg': 'https://www.gutenberg.org/cache/epub/1513/pg1513.cover.medium.jpg',\n",
       "  'text/plain; charset=us-ascii': 'https://www.gutenberg.org/ebooks/1513.txt.utf-8',\n",
       "  'application/octet-stream': 'https://www.gutenberg.org/cache/epub/1513/pg1513-h.zip'},\n",
       " 'download_count': 58803}"
      ]
     },
     "execution_count": 19,
     "metadata": {},
     "output_type": "execute_result"
    }
   ],
   "source": [
    "books['results'][4]"
   ]
  },
  {
   "cell_type": "markdown",
   "id": "e6068881",
   "metadata": {},
   "source": [
    "### 3.2 Requesting Links within Objects"
   ]
  },
  {
   "cell_type": "markdown",
   "id": "7ee242c2",
   "metadata": {},
   "source": [
    "In our Romeo and Juliet example above, notice within the final key `formats`, there exists an `image/jpeg` key which contains a URL. If we navigate to that field and request that link from the web, we can render its logo using our image display skills from earlier."
   ]
  },
  {
   "cell_type": "code",
   "execution_count": 20,
   "id": "47b86d2a",
   "metadata": {},
   "outputs": [
    {
     "data": {
      "application/vnd.jupyter.widget-view+json": {
       "model_id": "8861a3cda1bc450f95aefa3906c1f3aa",
       "version_major": 2,
       "version_minor": 0
      },
      "text/plain": [
       "Image(value=b'\\xff\\xd8\\xff\\xe0\\x00\\x10JFIF\\x00\\x01\\x01\\x00\\x00\\x01\\x00\\x01\\x00\\x00\\xff\\xdb\\x00C\\x00\\x03\\x02\\x0…"
      ]
     },
     "metadata": {},
     "output_type": "display_data"
    }
   ],
   "source": [
    "display_image(requests.get(books['results'][4]['formats']['image/jpeg']))"
   ]
  },
  {
   "cell_type": "markdown",
   "id": "3555f8d0",
   "metadata": {},
   "source": [
    "To be super comprehensive, we could even notice a `text/html` link is also provided. Using our **web scraping** skills from last week's tutorial, we could additionally fetch this URL, and parse its webpage contents."
   ]
  },
  {
   "cell_type": "code",
   "execution_count": 21,
   "id": "c4215ff5",
   "metadata": {},
   "outputs": [],
   "source": [
    "webpage_source = requests.get(books['results'][4]['formats']['text/html']).text\n",
    "content = BeautifulSoup(webpage_source, 'html5lib')"
   ]
  },
  {
   "cell_type": "markdown",
   "id": "2e22d978",
   "metadata": {},
   "source": [
    "From there, for example, we could print all `h2` and `h3` fields within it, which provides a nice simple overview of what to expect within the classic play (code below also adds in a line-break after the major headings, for ease of reading):"
   ]
  },
  {
   "cell_type": "code",
   "execution_count": 22,
   "id": "5ee0119b",
   "metadata": {},
   "outputs": [
    {
     "name": "stdout",
     "output_type": "stream",
     "text": [
      "_____\n",
      "\n",
      "The Project Gutenberg eBook of Romeo and Juliet\n",
      "_____\n",
      "\n",
      "by William Shakespeare\n",
      "Contents\n",
      " Dramatis Personæ \n",
      " SCENE. During the greater part of the Play in Verona; once, in\n",
      "the Fifth Act, at Mantua.\n",
      " THE PROLOGUE\n",
      "_____\n",
      "\n",
      " ACT I\n",
      " SCENE I. A public place.\n",
      " SCENE II. A Street.\n",
      " SCENE III. Room in Capulet’s House.\n",
      " SCENE IV. A Street.\n",
      " SCENE V. A Hall in Capulet’s House.\n",
      "_____\n",
      "\n",
      " ACT II\n",
      " SCENE I. An open place adjoining Capulet’s Garden.\n",
      " SCENE II. Capulet’s Garden.\n",
      " SCENE III. Friar Lawrence’s Cell.\n",
      " SCENE IV. A Street.\n",
      " SCENE V. Capulet’s Garden.\n",
      " SCENE VI. Friar Lawrence’s Cell.\n",
      "_____\n",
      "\n",
      " ACT III\n",
      " SCENE I. A public Place.\n",
      " SCENE II. A Room in Capulet’s House.\n",
      " SCENE III. Friar Lawrence’s cell.\n",
      " SCENE IV. A Room in Capulet’s House.\n",
      " SCENE V. An open Gallery to Juliet’s Chamber, overlooking the\n",
      "Garden.\n",
      "_____\n",
      "\n",
      " ACT IV\n",
      " SCENE I. Friar Lawrence’s Cell.\n",
      " SCENE II. Hall in Capulet’s House.\n",
      " SCENE III. Juliet’s Chamber.\n",
      " SCENE IV. Hall in Capulet’s House.\n",
      " SCENE V. Juliet’s Chamber; Juliet on the bed.\n",
      "_____\n",
      "\n",
      " ACT V\n",
      " SCENE I. Mantua. A Street.\n",
      " SCENE II. Friar Lawrence’s Cell.\n",
      " SCENE III. A churchyard; in it a Monument belonging to the Capulets.\n",
      "_____\n",
      "\n",
      "THE FULL PROJECT GUTENBERG LICENSE\n"
     ]
    }
   ],
   "source": [
    "for header in content.find_all(['h2', 'h3']):\n",
    "    if header.name == 'h2':\n",
    "        print('_____\\n')\n",
    "    print(header.text)"
   ]
  },
  {
   "cell_type": "markdown",
   "id": "025c5d17",
   "metadata": {},
   "source": [
    "But we won't delve too deeply into that yet - a whole week on text data awaits after the break :)"
   ]
  },
  {
   "cell_type": "markdown",
   "id": "614485e7",
   "metadata": {},
   "source": [
    "### 3.3 Query Parameters and Pagination"
   ]
  },
  {
   "cell_type": "markdown",
   "id": "db74a862",
   "metadata": {},
   "source": [
    "Commonly within APIs, further **query parameters** can be provided to the website when requesting its content. These are commonly achieved by a `?` at the end of the URL, followed by a simple key-value list of all conditions required.\n",
    "\n",
    "_(with the `requests` library in Python, we can also pass them as parameters via a dictionary, so this has also been included as a code comment)_\n",
    "\n",
    "For example in the [Gutendex docs](https://gutendex.com/), a \"topic\" can be selected of the user's choice, for the data it returns. A 20th century American author Anne Haight compiled a collection of \"[banned books](https://www.gutenberg.org/ebooks/bookshelf/336)\" from different points in time around the world, which we can access by restricting our API call to only those with a \"topic\" of 'banned'. This will return a much smaller sample of less than 200 texts."
   ]
  },
  {
   "cell_type": "code",
   "execution_count": 23,
   "id": "6a1e8976",
   "metadata": {},
   "outputs": [
    {
     "name": "stdout",
     "output_type": "stream",
     "text": [
      "Count: 181\n",
      "Results: 32\n",
      "Next: https://gutendex.com/books/?page=2&topic=banned\n"
     ]
    }
   ],
   "source": [
    "bannedbooks = json.loads(requests.get('https://gutendex.com/books?topic=banned').text)\n",
    "#bannedbooks = json.loads(requests.get('https://gutendex.com/books', params={'topic': 'banned'}).text)\n",
    "print('Count:', bannedbooks['count'])\n",
    "print('Results:', len(bannedbooks['results']))\n",
    "print('Next:', bannedbooks['next'])"
   ]
  },
  {
   "cell_type": "markdown",
   "id": "2a7ed2d8",
   "metadata": {},
   "source": [
    "It's now worth noting the point of the `next` field. Since Gutendex API calls are limited to 32 results at a time, each call will indicate how to retrieve the *next* 32 rows on the next \"page\". For our banned books, this is a very similar URL, just now also with a `page=2` query parameter.\n",
    "\n",
    "By providing this, we don't have to try and reverse-engineer the URLs to return a larger dataset, we can simply iterate through, each time noting the `next` link, until one no longer exists. The query below does just that, with attached code comments so you can follow along:"
   ]
  },
  {
   "cell_type": "code",
   "execution_count": 24,
   "id": "6744bf75",
   "metadata": {},
   "outputs": [
    {
     "name": "stdout",
     "output_type": "stream",
     "text": [
      "Data loading begins...\n",
      "https://gutendex.com/books?topic=banned\n",
      "https://gutendex.com/books/?page=2&topic=banned\n",
      "https://gutendex.com/books/?page=3&topic=banned\n",
      "https://gutendex.com/books/?page=4&topic=banned\n",
      "https://gutendex.com/books/?page=5&topic=banned\n",
      "https://gutendex.com/books/?page=6&topic=banned\n",
      "Data load complete.\n"
     ]
    }
   ],
   "source": [
    "import time as t  # using the inbuilt \"time\" module for explicit wait times in our code\n",
    "\n",
    "keepgoing = True  # establishing a simple variable indicating if the looping should continue\n",
    "URL = 'https://gutendex.com/books?topic=banned'  # our base URL to begin with\n",
    "results = []  # an empty list ready to store our results as we go\n",
    "\n",
    "print('Data loading begins...')  # message to the user\n",
    "while keepgoing:  # a WHILE loop that depends on the \"keepgoing\" variable being True\n",
    "    t.sleep(2)  # purposefully waiting a minute before we retrieve the URL's contents\n",
    "    print(URL)  # printing the link we're using in the API call\n",
    "    page = json.loads(requests.get(URL).text)  # retrieving the content as a JSON object\n",
    "    results += page['results']  # adding the 'results' section to our stored list\n",
    "    if page['next']:  # if there is a 'next' field of results noted\n",
    "        URL = page['next']  # then make this our new URL for when the loop repeats\n",
    "    else:  # if there is no longer a 'next' field\n",
    "        keepgoing = False  # then we have reached the end and can terminate the loop\n",
    "        print('Data load complete.')  # message to the user"
   ]
  },
  {
   "cell_type": "markdown",
   "id": "65f194a9",
   "metadata": {},
   "source": [
    "Despite being a semi-structured datasource, we can still process our results as a Pandas dataframe, if only to test it has worked correctly. It will be a little messy, given some fields are lists or lists of dictionaries, but we can see the 181 texts below:"
   ]
  },
  {
   "cell_type": "code",
   "execution_count": null,
   "id": "75310ac9",
   "metadata": {},
   "outputs": [],
   "source": [
    "import pandas as pd\n",
    "bannedbooks = pd.DataFrame(results)\n",
    "bannedbooks"
   ]
  },
  {
   "cell_type": "markdown",
   "id": "290046e1",
   "metadata": {},
   "source": [
    "## 4. Transforming Semi-Structured Datasets"
   ]
  },
  {
   "cell_type": "markdown",
   "id": "e0b0d2d2",
   "metadata": {},
   "source": [
    "If we are to answer meaningful questions on our dataset, our best case scenario would be achieving a structured representation of the data model, which we can query."
   ]
  },
  {
   "cell_type": "markdown",
   "id": "6886596e",
   "metadata": {},
   "source": [
    "### 4.1 Spinning Off Entities"
   ]
  },
  {
   "cell_type": "markdown",
   "id": "18a94a3c",
   "metadata": {},
   "source": [
    "For some columns, this is easy. The following columns are simple values from our main dataframe without further nested depth, so we'll store these as our `booksdf` object."
   ]
  },
  {
   "cell_type": "code",
   "execution_count": null,
   "id": "015cbcd0",
   "metadata": {},
   "outputs": [],
   "source": [
    "booksdf = bannedbooks[['id', 'title', 'copyright', 'media_type', 'download_count']]\n",
    "booksdf"
   ]
  },
  {
   "cell_type": "markdown",
   "id": "b011478b",
   "metadata": {},
   "source": [
    "Other fields, however, are more complex, such as \"subjects\". As a simple list, this would be best spun out into one row for each subject value. We can achieve this using Pandas' dramatically-named `explode()` function, and store this as another dataframe for now - `subjectsdf`."
   ]
  },
  {
   "cell_type": "code",
   "execution_count": null,
   "id": "4a9f3ccb",
   "metadata": {},
   "outputs": [],
   "source": [
    "subjectsdf = bannedbooks[['id', 'subjects']]\n",
    "subjectsdf = subjectsdf.explode('subjects')\n",
    "subjectsdf"
   ]
  },
  {
   "cell_type": "markdown",
   "id": "0d6f77ab",
   "metadata": {},
   "source": [
    "### 4.2 Complex Entity Transformations"
   ]
  },
  {
   "cell_type": "markdown",
   "id": "f3f1d36c",
   "metadata": {},
   "source": [
    "Fields such as \"authors\" are even more complex again. Recall each value here is a dictionary, which contains a list of authors (potentially more than one), so we can begin by spinning this off into one row per author of each book, like the \"subjects\" approach above. This increases our row count from 181 to 187, so there are a handful of books with multiple attributed authors. We'll store this as `authorsdf`, though each row still contains a dictionary of information for each author."
   ]
  },
  {
   "cell_type": "code",
   "execution_count": null,
   "id": "9c4b070f",
   "metadata": {},
   "outputs": [],
   "source": [
    "authorsdf = bannedbooks[['id', 'authors']]\n",
    "authorsdf = authorsdf[['id', 'authors']].explode('authors').reset_index(drop=True)\n",
    "authorsdf"
   ]
  },
  {
   "cell_type": "markdown",
   "id": "6bb5859e",
   "metadata": {},
   "source": [
    "It's worth pointing out that the Pandas transformations shown below are **purely for our benefit, and not examinable functions you need to remember**. Don't stress about the next couple of code blocks - they are not super important but explained for transparency.\n",
    "\n",
    "The \"authors\" column really should be spun out into three separate columns, one for each attribute (birth_year, death_year, name). Pandas considers the data type of this column to be a Series, which is necessary knowledge to enable the split."
   ]
  },
  {
   "cell_type": "code",
   "execution_count": null,
   "id": "0097bc84",
   "metadata": {},
   "outputs": [],
   "source": [
    "type(authorsdf.authors)"
   ]
  },
  {
   "cell_type": "markdown",
   "id": "f6e00c92",
   "metadata": {},
   "source": [
    "Using the `apply` function, we can split it out into one column for each attribute, and then join it back in-place of the original column, to produce a much more friendly output - our final version of `authorsdf`."
   ]
  },
  {
   "cell_type": "code",
   "execution_count": null,
   "id": "51aadd8d",
   "metadata": {},
   "outputs": [],
   "source": [
    "authorfields = authorsdf['authors'].apply(pd.Series).drop(0, axis=1)\n",
    "authorsdf = authorsdf.join(authorfields).drop('authors', axis=1).reset_index(drop=True)\n",
    "authorsdf"
   ]
  },
  {
   "cell_type": "markdown",
   "id": "d08cedb4",
   "metadata": {},
   "source": [
    "One final entity we'll spin off - the \"formats\". Code is condensed below since not important, but to summarise, it acts similarly to \"authors\", but doesn't need to expect a list of dictionaries, simply a single dictionary (hence no `.explode()` function). It does, however, require one extra transformation using `.melt()` so that we don't have one column per format, but rather a simple key-value table.\n",
    "\n",
    "Again - not super important, just for those interested in the magic behind the scenes! What's important is that now we have **four, much more friendly, structured tables** for our dataset."
   ]
  },
  {
   "cell_type": "code",
   "execution_count": null,
   "id": "7df3b55b",
   "metadata": {},
   "outputs": [],
   "source": [
    "formatsdf = bannedbooks[['id', 'formats']]\n",
    "formatfields = formatsdf['formats'].apply(pd.Series)\n",
    "formatsdf = formatsdf.join(formatfields).drop('formats', axis=1).reset_index(drop=True)\n",
    "formatsdf = formatsdf.melt(id_vars=['id']).dropna(subset=['value'])\n",
    "formatsdf.rename(columns={'variable': 'format', 'value': 'link'}, inplace=True)\n",
    "formatsdf"
   ]
  },
  {
   "cell_type": "markdown",
   "id": "a518d3ab",
   "metadata": {},
   "source": [
    "Summarising the dimensions of our four new cleaned tables for a sense of satisfaction:"
   ]
  },
  {
   "cell_type": "code",
   "execution_count": null,
   "id": "91bf552b",
   "metadata": {},
   "outputs": [],
   "source": [
    "print('Books:', booksdf.shape)\n",
    "print('Subjects:', subjectsdf.shape)\n",
    "print('Authors:', authorsdf.shape)\n",
    "print('Formats:', formatsdf.shape)"
   ]
  },
  {
   "cell_type": "markdown",
   "id": "9b3ba671",
   "metadata": {},
   "source": [
    "### 4.3 Data Import"
   ]
  },
  {
   "cell_type": "markdown",
   "id": "3bdae058",
   "metadata": {},
   "source": [
    "The below functions should be quite familiar by now - since we've done the hard yards, let's again import it into our localhost database and run a few queries to see if we can manage some interesting findings.\n",
    "\n",
    "Recall also this depends on your individual `Credentials.json` from previous weeks existing in your directory again!"
   ]
  },
  {
   "cell_type": "code",
   "execution_count": null,
   "id": "c26198c4",
   "metadata": {},
   "outputs": [],
   "source": [
    "from sqlalchemy import create_engine, text\n",
    "import psycopg2\n",
    "import psycopg2.extras\n",
    "import json\n",
    "import os\n",
    "import pandas as pd\n",
    "\n",
    "credentials = \"Credentials.json\"\n",
    "\n",
    "def pgconnect(credential_filepath, db_schema=\"public\"):\n",
    "    with open(credential_filepath) as f:\n",
    "        db_conn_dict = json.load(f)\n",
    "        host       = db_conn_dict['host']\n",
    "        db_user    = db_conn_dict['user']\n",
    "        db_pw      = db_conn_dict['password']\n",
    "        default_db = db_conn_dict['user']\n",
    "        try:\n",
    "            db = create_engine('postgresql+psycopg2://'+db_user+':'+db_pw+'@'+host+'/'+default_db, echo=False)\n",
    "            conn = db.connect()\n",
    "            print('Connected successfully.')\n",
    "        except Exception as e:\n",
    "            print(\"Unable to connect to the database.\")\n",
    "            print(e)\n",
    "            db, conn = None, None\n",
    "        return db,conn\n",
    "\n",
    "def query(conn, sqlcmd, args=None, df=True):\n",
    "    result = pd.DataFrame() if df else None\n",
    "    try:\n",
    "        if df:\n",
    "            result = pd.read_sql_query(sqlcmd, conn, params=args)\n",
    "        else:\n",
    "            result = conn.execute(text(sqlcmd), args).fetchall()\n",
    "            result = result[0] if len(result) == 1 else result\n",
    "    except Exception as e:\n",
    "        print(\"Error encountered: \", e, sep='\\n')\n",
    "    return result"
   ]
  },
  {
   "cell_type": "code",
   "execution_count": null,
   "id": "dc177f4d",
   "metadata": {},
   "outputs": [],
   "source": [
    "db, conn = pgconnect(credentials)"
   ]
  },
  {
   "cell_type": "markdown",
   "id": "104d5d3f",
   "metadata": {},
   "source": [
    "Let's create a new schema for our data, simply entitled \"Books\"."
   ]
  },
  {
   "cell_type": "code",
   "execution_count": null,
   "id": "ab159d1b",
   "metadata": {},
   "outputs": [],
   "source": [
    "conn.execute(text(\"create schema if not exists Books\"))\n",
    "conn.execute(text(\"set search_path to Books\"))"
   ]
  },
  {
   "cell_type": "markdown",
   "id": "18948f3d",
   "metadata": {},
   "source": [
    "From there, we'll create tables for our three spun off datasets, and populate them from Pandas as below. This process should be quite familiar to you by now - we'll check it worked by selecting all from \"Authors\" at the end."
   ]
  },
  {
   "cell_type": "code",
   "execution_count": null,
   "id": "202cca57",
   "metadata": {},
   "outputs": [],
   "source": [
    "conn.execute(text(\"\"\"\n",
    "DROP TABLE IF EXISTS Subjects;\n",
    "DROP TABLE IF EXISTS Authors;\n",
    "DROP TABLE IF EXISTS Formats;\n",
    "\n",
    "CREATE TABLE Subjects(\n",
    "   id int,\n",
    "   subjects varchar(1000)\n",
    ");\n",
    "CREATE TABLE Authors(\n",
    "   id int,\n",
    "   birth_year int,\n",
    "   death_year int,\n",
    "   name varchar(100)\n",
    ");\n",
    "CREATE TABLE Formats(\n",
    "   id int,\n",
    "   format varchar(100),\n",
    "   link text\n",
    ");\n",
    "\"\"\"))\n",
    "subjectsdf.to_sql(\"subjects\", con=conn, if_exists='append', index=False)\n",
    "authorsdf.to_sql(\"authors\", con=conn, if_exists='append', index=False)\n",
    "formatsdf.to_sql(\"formats\", con=conn, if_exists='append', index=False)\n",
    "query(conn, \"select * from Authors\")"
   ]
  },
  {
   "cell_type": "markdown",
   "id": "a7f56828",
   "metadata": {},
   "source": [
    "**Task: Create a table for Books and populate it.**\n",
    "\n",
    "Using our `booksdf` from above, this is the only one of our four that now isn't populated in our localhost database. Similarly to the examples above, define a \"Books\" table using a `CREATE TABLE` command, then populate it with our Pandas dataframe."
   ]
  },
  {
   "cell_type": "code",
   "execution_count": null,
   "id": "38e4f576",
   "metadata": {},
   "outputs": [],
   "source": [
    "### TO DO\n",
    "conn.execute(text(\"\"\"\n",
    "DROP TABLE IF EXISTS Books;\n",
    "CREATE TABLE Books(\n",
    "   id int primary key,\n",
    "   title varchar(500),\n",
    "   copyright boolean,\n",
    "   media_type varchar(50),\n",
    "   download_count int\n",
    ");\"\"\"))\n",
    "booksdf.to_sql(\"books\", con=conn, if_exists='append', index=False)\n",
    "query(conn, \"select * from Books\")"
   ]
  },
  {
   "cell_type": "markdown",
   "id": "cb411852",
   "metadata": {},
   "source": [
    "### 4.4 Data Querying"
   ]
  },
  {
   "cell_type": "markdown",
   "id": "4c5a8c2a",
   "metadata": {},
   "source": [
    "**Task: Attempt the four SQL queries below.**"
   ]
  },
  {
   "cell_type": "markdown",
   "id": "a8059889",
   "metadata": {},
   "source": [
    "**a) Find all books attributed to authors *without a birth year*, sorted in alphabetical order.**"
   ]
  },
  {
   "cell_type": "code",
   "execution_count": null,
   "id": "126c977b",
   "metadata": {},
   "outputs": [],
   "source": [
    "### TO DO\n",
    "sql = \"\"\"\n",
    "select b.title, b.download_count, a.*\n",
    "from Books b\n",
    "join Authors a using (id)\n",
    "where birth_year is null\n",
    "order by title\n",
    "\"\"\"\n",
    "query(conn, sql)"
   ]
  },
  {
   "cell_type": "markdown",
   "id": "24446910",
   "metadata": {},
   "source": [
    "**b) Find the top 5 authors with the most number of banned books.**"
   ]
  },
  {
   "cell_type": "code",
   "execution_count": null,
   "id": "808ddbd6",
   "metadata": {},
   "outputs": [],
   "source": [
    "### TO DO\n",
    "sql = \"\"\"\n",
    "select a.name, count(*)\n",
    "from Books b\n",
    "join Authors a using (id)\n",
    "group by a.name\n",
    "order by count(*) desc\n",
    "limit 5\n",
    "\"\"\"\n",
    "query(conn, sql)"
   ]
  },
  {
   "cell_type": "markdown",
   "id": "e79a0474",
   "metadata": {},
   "source": [
    "**c) Produce a list of all 'audio' formats available for texts in our dataset.**"
   ]
  },
  {
   "cell_type": "code",
   "execution_count": null,
   "id": "4204c628",
   "metadata": {},
   "outputs": [],
   "source": [
    "### TO DO\n",
    "sql = \"\"\"\n",
    "select b.title, b.download_count, f.format, f.link\n",
    "from Books b\n",
    "join Formats f using (id)\n",
    "where format like 'audio/%%'\n",
    "\"\"\"\n",
    "query(conn, sql)"
   ]
  },
  {
   "cell_type": "markdown",
   "id": "84be4d52",
   "metadata": {},
   "source": [
    "**d) Which subject containing at least 5 banned books has the highest average download count?**"
   ]
  },
  {
   "cell_type": "code",
   "execution_count": null,
   "id": "1b4a6f27",
   "metadata": {},
   "outputs": [],
   "source": [
    "### TO DO\n",
    "sql = \"\"\"\n",
    "select s.subjects, avg(b.download_count)\n",
    "from Books b\n",
    "join Subjects s using (id)\n",
    "group by s.subjects\n",
    "having count(*) >= 5\n",
    "order by avg(b.download_count) desc\n",
    "\"\"\"\n",
    "query(conn, sql)"
   ]
  },
  {
   "cell_type": "markdown",
   "id": "175fd66c",
   "metadata": {},
   "source": [
    "#### Challenge: Feel free to investigate other account-based APIs!"
   ]
  },
  {
   "cell_type": "markdown",
   "id": "df972ff2",
   "metadata": {},
   "source": [
    "That concludes this week's content - but do consider the next step of APIs, which is those that require authentication to access data. Most platforms, big and small, are structured this way (locally, examples like the NSW Government, and globally, tech giants like YouTube and OpenAI). Feel free to explore further with examples like these!"
   ]
  }
 ],
 "metadata": {
  "kernelspec": {
   "display_name": "Python 3 (ipykernel)",
   "language": "python",
   "name": "python3"
  },
  "language_info": {
   "codemirror_mode": {
    "name": "ipython",
    "version": 3
   },
   "file_extension": ".py",
   "mimetype": "text/x-python",
   "name": "python",
   "nbconvert_exporter": "python",
   "pygments_lexer": "ipython3",
   "version": "3.9.18"
  }
 },
 "nbformat": 4,
 "nbformat_minor": 5
}
