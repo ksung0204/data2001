{
 "cells": [
  {
   "cell_type": "code",
   "execution_count": 1,
   "id": "2df9be9c",
   "metadata": {},
   "outputs": [
    {
     "data": {
      "text/html": [
       "\n",
       "    <style> body {font-family: \"Roboto Condensed Light\", \"Roboto Condensed\";} h2 {padding: 10px 12px; background-color: #E64626; position: static; color: #ffffff; font-size: 40px;} .text_cell_render p { font-size: 15px; } .text_cell_render h1 { font-size: 30px; } h1 {padding: 10px 12px; background-color: #E64626; color: #ffffff; font-size: 40px;} .text_cell_render h3 { padding: 10px 12px; background-color: #0148A4; position: static; color: #ffffff; font-size: 20px;} h4:before{ \n",
       "    content: \"@\"; font-family:\"Wingdings\"; font-style:regular; margin-right: 4px;} .text_cell_render h4 {padding: 8px; font-family: \"Roboto Condensed Light\"; position: static; font-style: italic; background-color: #FFB800; color: #ffffff; font-size: 18px; text-align: center; border-radius: 5px;}input[type=submit] {background-color: #E64626; border: solid; border-color: #734036; color: white; padding: 8px 16px; text-decoration: none; margin: 4px 2px; cursor: pointer; border-radius: 20px;}</style>\n"
      ],
      "text/plain": [
       "<IPython.core.display.HTML object>"
      ]
     },
     "execution_count": 1,
     "metadata": {},
     "output_type": "execute_result"
    }
   ],
   "source": [
    "# DATA2001 Week 5 Tutorial\n",
    "# Material last updated: 24 Mar 2025\n",
    "# Note: this notebook was designed with the Roboto Condensed font, which can be installed here: https://www.1001fonts.com/roboto-condensed-font.html\n",
    "\n",
    "from IPython.display import HTML\n",
    "HTML('''\n",
    "    <style> body {font-family: \"Roboto Condensed Light\", \"Roboto Condensed\";} h2 {padding: 10px 12px; background-color: #E64626; position: static; color: #ffffff; font-size: 40px;} .text_cell_render p { font-size: 15px; } .text_cell_render h1 { font-size: 30px; } h1 {padding: 10px 12px; background-color: #E64626; color: #ffffff; font-size: 40px;} .text_cell_render h3 { padding: 10px 12px; background-color: #0148A4; position: static; color: #ffffff; font-size: 20px;} h4:before{ \n",
    "    content: \"@\"; font-family:\"Wingdings\"; font-style:regular; margin-right: 4px;} .text_cell_render h4 {padding: 8px; font-family: \"Roboto Condensed Light\"; position: static; font-style: italic; background-color: #FFB800; color: #ffffff; font-size: 18px; text-align: center; border-radius: 5px;}input[type=submit] {background-color: #E64626; border: solid; border-color: #734036; color: white; padding: 8px 16px; text-decoration: none; margin: 4px 2px; cursor: pointer; border-radius: 20px;}</style>\n",
    "''')"
   ]
  },
  {
   "cell_type": "markdown",
   "id": "dcd5ef8f",
   "metadata": {},
   "source": [
    "# Week 5 - Indexes and Data Partitioning"
   ]
  },
  {
   "cell_type": "markdown",
   "id": "fdae853a",
   "metadata": {},
   "source": [
    "Our final week featuring the NSW FuelCheck dataset - this time to get a sense of the impacts database indexes can have. We'll also use it as an opportunity to demonstrate the generation of synthetic data through some more advanced [DDL](https://en.wikipedia.org/wiki/Data_definition_language)."
   ]
  },
  {
   "cell_type": "markdown",
   "id": "7e6f0033",
   "metadata": {},
   "source": [
    "## 1. Introduction"
   ]
  },
  {
   "cell_type": "markdown",
   "id": "5e565b33",
   "metadata": {},
   "source": [
    "Largely a recap, plus one additional dataset provided on Canvas."
   ]
  },
  {
   "cell_type": "markdown",
   "id": "126ac3b0",
   "metadata": {},
   "source": [
    "### 1.1. Configuration"
   ]
  },
  {
   "cell_type": "markdown",
   "id": "ce7d573d",
   "metadata": {},
   "source": [
    "Our helper functions from last week's tutorial - one to connect to our localhost database, the other to query it. Remember this requires an adjusted `Credentials.json` file in the same location as this notebook!"
   ]
  },
  {
   "cell_type": "code",
   "execution_count": null,
   "id": "58fa07bb",
   "metadata": {},
   "outputs": [],
   "source": [
    "from sqlalchemy import create_engine, text\n",
    "import psycopg2\n",
    "import psycopg2.extras\n",
    "import json\n",
    "import os\n",
    "import pandas as pd\n",
    "\n",
    "credentials = \"Credentials.json\"\n",
    "\n",
    "def pgconnect(credential_filepath, db_schema=\"public\"):\n",
    "    with open(credential_filepath) as f:\n",
    "        db_conn_dict = json.load(f)\n",
    "        host       = db_conn_dict['host']\n",
    "        db_user    = db_conn_dict['user']\n",
    "        db_pw      = db_conn_dict['password']\n",
    "        default_db = db_conn_dict['user']\n",
    "        port       = db_conn_dict['port']\n",
    "        try:\n",
    "            db = create_engine(f'postgresql+psycopg2://{db_user}:{db_pw}@{host}:{port}/{default_db}', echo=False)\n",
    "            conn = db.connect()\n",
    "            print('Connected successfully.')\n",
    "        except Exception as e:\n",
    "            print(\"Unable to connect to the database.\")\n",
    "            print(e)\n",
    "            db, conn = None, None\n",
    "        return db,conn\n",
    "\n",
    "def query(conn, sqlcmd, args=None, df=True):\n",
    "    result = pd.DataFrame() if df else None\n",
    "    try:\n",
    "        if df:\n",
    "            result = pd.read_sql_query(sqlcmd, conn, params=args)\n",
    "        else:\n",
    "            result = conn.execute(text(sqlcmd), args).fetchall()\n",
    "            result = result[0] if len(result) == 1 else result\n",
    "    except Exception as e:\n",
    "        print(\"Error encountered: \", e, sep='\\n')\n",
    "    return result"
   ]
  },
  {
   "cell_type": "code",
   "execution_count": null,
   "id": "5d659d81",
   "metadata": {},
   "outputs": [],
   "source": [
    "db, conn = pgconnect(credentials)\n",
    "conn.execute(text(\"set search_path to NSWFuel\"))"
   ]
  },
  {
   "cell_type": "markdown",
   "id": "231b6446",
   "metadata": {},
   "source": [
    "### 1.2. Ingestion"
   ]
  },
  {
   "cell_type": "markdown",
   "id": "ca0fdae8",
   "metadata": {},
   "source": [
    "Our new `Trips.csv` dataset contains the *essential* information for three potential road-trips - one north, one south, and one west...all revolving around 7-Eleven stores. It details, on each highway, in what order what stations would be reached, and how far they are apart. It's a small, simple CSV provided on Canvas, which, when downloaded, can be ingested to our database:"
   ]
  },
  {
   "cell_type": "code",
   "execution_count": null,
   "id": "aa354eba",
   "metadata": {},
   "outputs": [],
   "source": [
    "conn.execute(text(\"\"\"\n",
    "DROP TABLE IF EXISTS Trips CASCADE;\n",
    "CREATE TABLE Trips(\n",
    "   Station VARCHAR(50) PRIMARY KEY,\n",
    "   Highway VARCHAR(50),\n",
    "   Stop INTEGER,\n",
    "   Minutes FLOAT,\n",
    "   Kilometres FLOAT,\n",
    "   TotalKM FLOAT\n",
    ");\"\"\"))\n",
    "tripdata = pd.read_csv('Trips.csv')\n",
    "tripdata.columns = map(str.lower, tripdata.columns)\n",
    "tripdata.to_sql(\"trips\", con=conn, if_exists='append', index=False)\n",
    "query(conn, \"select * from Trips limit 10\")"
   ]
  },
  {
   "cell_type": "markdown",
   "id": "a7b0d56e",
   "metadata": {},
   "source": [
    "### 1.3. Exploration"
   ]
  },
  {
   "cell_type": "markdown",
   "id": "5de5781a",
   "metadata": {},
   "source": [
    "Let's again kick off by exploring the new dataset, via a few introductory tasks."
   ]
  },
  {
   "cell_type": "markdown",
   "id": "6d1ba6f8",
   "metadata": {},
   "source": [
    "**Task 1a: Calculate the total time, distance, and average speed, of each highway journey.**\n",
    "\n",
    "Recall that speed is calculated as distance/time."
   ]
  },
  {
   "cell_type": "code",
   "execution_count": null,
   "id": "666c2ee5",
   "metadata": {},
   "outputs": [],
   "source": [
    "### TO DO\n",
    "sql = \"\"\"\n",
    "\n",
    "\"\"\"\n",
    "query(conn, sql)"
   ]
  },
  {
   "cell_type": "markdown",
   "id": "9cfa7bd8",
   "metadata": {},
   "source": [
    "**Task 1b: Select one highway journey of your choice. Which station has the most dates for which observations were made?**\n",
    "\n",
    "List all stations in descending order of number of dates recorded. Include each station's name and address in your output."
   ]
  },
  {
   "cell_type": "code",
   "execution_count": null,
   "id": "f02ce1d1",
   "metadata": {},
   "outputs": [],
   "source": [
    "### TO DO\n",
    "sql = \"\"\"\n",
    "\n",
    "\"\"\"\n",
    "query(conn, sql)"
   ]
  },
  {
   "cell_type": "markdown",
   "id": "e49ec1a3",
   "metadata": {},
   "source": [
    "**Task 1c: For your selected highway journey, AND a selected fuel type, return some summary statistics about prices at each of the stations on the trip.**\n",
    "\n",
    "e.g. use FuelCode = 'E10' on the 'Great Western', and return how many price observations there are at each station, alongside the lowest, average and highest prices. Order your output by the \"Stop\" field so they are in order.\n",
    "\n",
    "Do prices differ significantly? Is there a particular station that would be most worthwhile fuelling up at?"
   ]
  },
  {
   "cell_type": "code",
   "execution_count": null,
   "id": "0f3259e8",
   "metadata": {},
   "outputs": [],
   "source": [
    "### TO DO\n",
    "sql = \"\"\"\n",
    "\n",
    "\"\"\"\n",
    "query(conn, sql)"
   ]
  },
  {
   "cell_type": "markdown",
   "id": "91f19426",
   "metadata": {},
   "source": [
    "## 2. Generated Data"
   ]
  },
  {
   "cell_type": "markdown",
   "id": "b61c25cd",
   "metadata": {},
   "source": [
    "As a final add-in for our dataset, we'll introduce some **randomly generated data**, produced programmatically, and meaning that every person's version will differ from those around them."
   ]
  },
  {
   "cell_type": "markdown",
   "id": "5c2db64e",
   "metadata": {},
   "source": [
    "### 2.1. Generation"
   ]
  },
  {
   "cell_type": "markdown",
   "id": "f7965626",
   "metadata": {},
   "source": [
    "As described in the slide deck for this week's tutorial, the code below will create two tables:\n",
    "\n",
    "- **SimulatedDrivers:** A hypothetical list of 1000 people (_insert [fictitious persons disclaimer](https://en.wikipedia.org/wiki/Fictitious_persons_disclaimer)_)\n",
    "- **SimulatedTrips:** A supposed log of these people undertaking the 7-Eleven Pilgrimage, to various extents, at various speeds\n",
    "\n",
    "This is achieved with a single file, `TripSimulations.sql`, which you'll find on Canvas, and can be read in as below. Note that it involves a complicated query or two that do not well reflect the difficulty expected of SQL code in this course - so don't stress if a lot of it seems overly complex!"
   ]
  },
  {
   "cell_type": "code",
   "execution_count": null,
   "id": "3f6f9323",
   "metadata": {},
   "outputs": [],
   "source": [
    "with open('TripSimulations.sql', 'r') as f:\n",
    "    simulationsquery = f.read()\n",
    "print(simulationsquery)"
   ]
  },
  {
   "cell_type": "markdown",
   "id": "9f04dc20",
   "metadata": {},
   "source": [
    "#### Which aspects of this SQL query can you successfully interpret?"
   ]
  },
  {
   "cell_type": "markdown",
   "id": "156f0de6",
   "metadata": {},
   "source": [
    "Let's try executing the query. Try running the cell below two or three times, and you'll notice the output changes each time."
   ]
  },
  {
   "cell_type": "code",
   "execution_count": null,
   "id": "12180abd",
   "metadata": {},
   "outputs": [],
   "source": [
    "conn.execute(text(simulationsquery))\n",
    "query(conn, \"select * from SimulatedDrivers limit 10\")"
   ]
  },
  {
   "cell_type": "markdown",
   "id": "f6e40413",
   "metadata": {},
   "source": [
    "Exploring the other table of the two, you'll begin to get a sense of the simulated trip log, which records for each trip, who the driver was, what stations they stopped at, and at what time:"
   ]
  },
  {
   "cell_type": "code",
   "execution_count": null,
   "id": "9b65ff32",
   "metadata": {},
   "outputs": [],
   "source": [
    "query(conn, \"select * from SimulatedTrips limit 10\")"
   ]
  },
  {
   "cell_type": "markdown",
   "id": "be4a4a6b",
   "metadata": {},
   "source": [
    "### 2.2. Exploration"
   ]
  },
  {
   "cell_type": "markdown",
   "id": "33626cac",
   "metadata": {},
   "source": [
    "**Task 2a: For each trip, calculate how many stops were made, and the earliest and latest times recorded.**"
   ]
  },
  {
   "cell_type": "code",
   "execution_count": null,
   "id": "38ed56b1",
   "metadata": {},
   "outputs": [],
   "source": [
    "### TO DO\n",
    "sql = \"\"\"\n",
    "\n",
    "\"\"\"\n",
    "query(conn, sql)"
   ]
  },
  {
   "cell_type": "markdown",
   "id": "ea00392f",
   "metadata": {},
   "source": [
    "**Task 2b: For each trip with at least two stops, calculate the total distance travelled and the total minutes of the journey.**\n",
    "\n",
    "Extracting an \"[`epoch`](https://www.postgresql.org/docs/8.1/functions-datetime.html)\" may be one of the most useful approaches to calculating the total time, and the `Trips` table will be necessary to include the distances."
   ]
  },
  {
   "cell_type": "code",
   "execution_count": null,
   "id": "df5f24cb",
   "metadata": {},
   "outputs": [],
   "source": [
    "### TO DO\n",
    "sql = \"\"\"\n",
    "\n",
    "\"\"\"\n",
    "query(conn, sql)"
   ]
  },
  {
   "cell_type": "markdown",
   "id": "3801688c",
   "metadata": {},
   "source": [
    "**Task 2c: Fines are to be issued to all drivers who exceeded an average speed of 110km/h. Calculate the speeds of all trips, and return the driver name, car model, start time and speed of all drivers who exceeded this limit in the overall trip.**\n",
    "\n",
    "Make sure the calculated speed exists in a column named \"speed\", for the cells that follow afterwards."
   ]
  },
  {
   "cell_type": "code",
   "execution_count": null,
   "id": "65e76b85",
   "metadata": {},
   "outputs": [],
   "source": [
    "### TO DO\n",
    "sql = \"\"\"\n",
    "\n",
    "\"\"\"\n",
    "query(conn, sql)"
   ]
  },
  {
   "cell_type": "markdown",
   "id": "18dec07d",
   "metadata": {},
   "source": [
    "### 2.3. Database Views"
   ]
  },
  {
   "cell_type": "markdown",
   "id": "353a81b2",
   "metadata": {},
   "source": [
    "It's worth quickly mentioning **database views**, which can prove a helpful means of storing the calculation logic for a query, without needing to store the materialised results at a point in time.\n",
    "\n",
    "Take the query we just produced above for the speed offenders, for example. Paste your query into the cell below (removing the speed limit of 110, and any `order by` clause, if you have one), and you should be able to save your query in your localhost database for future reference as a _view_, not a table, titled \"SimulatedSummary\":"
   ]
  },
  {
   "cell_type": "code",
   "execution_count": null,
   "id": "7ce43909",
   "metadata": {},
   "outputs": [],
   "source": [
    "### TO DO\n",
    "sql = \"\"\"\n",
    "drop view if exists SimulatedSummary;\n",
    "create view SimulatedSummary as\n",
    "\n",
    "/* INSERT QUERY HERE */\n",
    "\n",
    ";\n",
    "select * from SimulatedSummary limit 5\n",
    "\"\"\"\n",
    "query(conn, sql)"
   ]
  },
  {
   "cell_type": "markdown",
   "id": "88438212",
   "metadata": {},
   "source": [
    "We could then call that view whenever needed, and apply any filtering as needed, for example recreating the speed offenders:"
   ]
  },
  {
   "cell_type": "code",
   "execution_count": null,
   "id": "29d31c7c",
   "metadata": {},
   "outputs": [],
   "source": [
    "sql = \"\"\"\n",
    "select * from SimulatedSummary where speed > 110 order by speed desc\n",
    "\"\"\"\n",
    "query(conn, sql)"
   ]
  },
  {
   "cell_type": "markdown",
   "id": "3019e95a",
   "metadata": {},
   "source": [
    "## 3. Indexes"
   ]
  },
  {
   "cell_type": "markdown",
   "id": "fdd824d8",
   "metadata": {},
   "source": [
    "As covered in the lecture and the tutorial slide deck, indexes can prove a helpful means of optimising the process of querying a database. Let's explore with some examples based on our work above, and see if we can assess the impact. Note that some indexes will already exist - try running the query below and consider its implications:"
   ]
  },
  {
   "cell_type": "code",
   "execution_count": null,
   "id": "49b0fecc",
   "metadata": {},
   "outputs": [],
   "source": [
    "sql = \"\"\"\n",
    "select * from pg_indexes\n",
    "\"\"\"\n",
    "query(conn, sql)"
   ]
  },
  {
   "cell_type": "markdown",
   "id": "8c4567ff",
   "metadata": {},
   "source": [
    "### 3.1. Exploration"
   ]
  },
  {
   "cell_type": "markdown",
   "id": "c0ca6096",
   "metadata": {},
   "source": [
    "Complete the following tests in your pgAdmin window (making sure to begin with `set search_path to NSWFuel;`).\n",
    "\n",
    "**Task 3a: Run each query below, one at a time, and observe the planning and execution times (write them down). Do they vary?**"
   ]
  },
  {
   "cell_type": "code",
   "execution_count": null,
   "id": "73a5a476",
   "metadata": {},
   "outputs": [],
   "source": [
    "statements = \"\"\"\n",
    "explain analyse select * from SimulatedDrivers where family_name = 'Jones';\n",
    "explain analyse select count(*) from SimulatedDrivers where vehicle_year < 2005;\n",
    "explain analyse select * from SimulatedTrips where extract(hour from stop_time) < 6;\n",
    "explain analyse select * from SimulatedSummary where speed > 110;\n",
    "\"\"\""
   ]
  },
  {
   "cell_type": "markdown",
   "id": "2f96a9b8",
   "metadata": {},
   "source": [
    "**Task 3b: Run all commands below, then return to each of the queries from above, again one at a time. Comparing the planning and execution times to what you previously recorded, have the indexes had much of an impact? Why might this be the case? Are any indexes redundant?**\n",
    "\n",
    "If you'd like to drop the indexes to re-test the \"before\" state, use the second cell included below, which simply removes them.\n",
    "\n",
    "You can also run the `VACUUM ANALYSE` command to clear cache, as needed."
   ]
  },
  {
   "cell_type": "code",
   "execution_count": null,
   "id": "d1398795",
   "metadata": {},
   "outputs": [],
   "source": [
    "indexes = \"\"\"\n",
    "create index simulated_surname_ind on SimulatedDrivers(family_name);\n",
    "create index simulated_year_ind on SimulatedDrivers(vehicle_year);\n",
    "create index simulated_trip_ind on SimulatedTrips(trip_id);\n",
    "create index simulated_hour_ind on SimulatedTrips(extract(hour from stop_time));\n",
    "\"\"\""
   ]
  },
  {
   "cell_type": "code",
   "execution_count": null,
   "id": "ad39d0a8",
   "metadata": {},
   "outputs": [],
   "source": [
    "dropcommands = \"\"\"\n",
    "drop index if exists simulated_surname_ind;\n",
    "drop index if exists simulated_year_ind;\n",
    "drop index if exists simulated_trip_ind;\n",
    "drop index if exists simulated_hour_ind;\n",
    "\"\"\""
   ]
  },
  {
   "cell_type": "markdown",
   "id": "d078e232",
   "metadata": {},
   "source": [
    "**Task 3c: Consider the impact data partitioning could have on a dataset of this nature. Give an example of a way in which partitioning could be applied, that would be of benefit to a query you can imagine of interest.**"
   ]
  },
  {
   "cell_type": "code",
   "execution_count": null,
   "id": "f59a8568",
   "metadata": {},
   "outputs": [],
   "source": [
    "# no code required"
   ]
  },
  {
   "cell_type": "markdown",
   "id": "8a4167d4",
   "metadata": {},
   "source": [
    "#### Complete!"
   ]
  },
  {
   "cell_type": "markdown",
   "id": "d466a365",
   "metadata": {},
   "source": [
    "That concludes this week's tutorial. We'll continue next week with an introduction to web scraping, as a segue into the world of semi-structured data. Enjoy your week!"
   ]
  }
 ],
 "metadata": {
  "kernelspec": {
   "display_name": "Python 3 (ipykernel)",
   "language": "python",
   "name": "python3"
  },
  "language_info": {
   "codemirror_mode": {
    "name": "ipython",
    "version": 3
   },
   "file_extension": ".py",
   "mimetype": "text/x-python",
   "name": "python",
   "nbconvert_exporter": "python",
   "pygments_lexer": "ipython3",
   "version": "3.9.18"
  }
 },
 "nbformat": 4,
 "nbformat_minor": 5
}
